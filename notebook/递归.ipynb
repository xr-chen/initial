{
 "cells": [
  {
   "cell_type": "markdown",
   "metadata": {},
   "source": [
    "## 整数转化为任意进制"
   ]
  },
  {
   "cell_type": "markdown",
   "metadata": {},
   "source": [
    "- 基本结束条件\n",
    "- 规模变小"
   ]
  },
  {
   "cell_type": "code",
   "execution_count": 1,
   "metadata": {},
   "outputs": [],
   "source": [
    "def toStr(n,base):\n",
    "    converString='0123456789ABCDEF'\n",
    "    if n<base:\n",
    "        return converString[n]\n",
    "    else:\n",
    "        return toStr(n//base,base)+converString[n%base]"
   ]
  },
  {
   "cell_type": "code",
   "execution_count": 2,
   "metadata": {},
   "outputs": [
    {
     "name": "stdout",
     "output_type": "stream",
     "text": [
      "5AD\n"
     ]
    }
   ],
   "source": [
    "print(toStr(1453,16))"
   ]
  },
  {
   "cell_type": "markdown",
   "metadata": {},
   "source": [
    "有些时候因为算法效率低和无限递归导致递归系统调用栈有限，但可以通过python自带的函数进行调整递归栈的规模"
   ]
  },
  {
   "cell_type": "code",
   "execution_count": 3,
   "metadata": {},
   "outputs": [
    {
     "data": {
      "text/plain": [
       "3000"
      ]
     },
     "execution_count": 3,
     "metadata": {},
     "output_type": "execute_result"
    }
   ],
   "source": [
    "import sys\n",
    "\n",
    "sys.getrecursionlimit()#查看递归栈的限制"
   ]
  },
  {
   "cell_type": "code",
   "execution_count": 4,
   "metadata": {},
   "outputs": [
    {
     "data": {
      "text/plain": [
       "1000"
      ]
     },
     "execution_count": 4,
     "metadata": {},
     "output_type": "execute_result"
    }
   ],
   "source": [
    "sys.setrecursionlimit(1000)\n",
    "sys.getrecursionlimit()"
   ]
  },
  {
   "cell_type": "markdown",
   "metadata": {},
   "source": [
    "## 递归可视化"
   ]
  },
  {
   "cell_type": "markdown",
   "metadata": {},
   "source": [
    "使用python内置的海龟画图实现递归调用的可视化\n",
    "\n",
    "- 爬行：forward(n):backward(n)\n",
    "- 转向：left(a);right(a)\n",
    "- 抬笔放笔：penup();pendown()\n",
    "- 笔属性：pensize(s):pencolor(c)"
   ]
  },
  {
   "cell_type": "code",
   "execution_count": 5,
   "metadata": {},
   "outputs": [],
   "source": [
    "import turtle\n",
    "\n",
    "t=turtle.Turtle()\n",
    "for i in range(4):\n",
    "    t.forward(100)\n",
    "    t.left(90)\n",
    "turtle.done()"
   ]
  },
  {
   "cell_type": "markdown",
   "metadata": {},
   "source": [
    "那么就来画一棵二叉树吧"
   ]
  },
  {
   "cell_type": "code",
   "execution_count": 1,
   "metadata": {},
   "outputs": [],
   "source": [
    "import turtle\n",
    "\n",
    "t=turtle.Turtle()\n",
    "t.left(90)\n",
    "t.penup()\n",
    "t.backward(100)\n",
    "t.pendown()\n",
    "\n",
    "def drawTree(t,lineLen):\n",
    "    if lineLen>5:\n",
    "        t.forward(lineLen)\n",
    "        t.left(20)\n",
    "        drawTree(t,lineLen-15)\n",
    "        t.right(40)\n",
    "        drawTree(t,lineLen-15)\n",
    "        t.left(20)\n",
    "        t.backward(lineLen)\n",
    "\n",
    "drawTree(t,75)\n",
    "turtle.done()\n"
   ]
  },
  {
   "cell_type": "markdown",
   "metadata": {},
   "source": [
    "## 分治策略"
   ]
  },
  {
   "cell_type": "markdown",
   "metadata": {},
   "source": [
    "运用贪心算法，先用大面额的钱币进行找零，逐步减小规模，对于一般常规货币体系比较适用。但此算法对于特殊面额货币（21元）找零问题得到的不是货币数量最少的最优解"
   ]
  },
  {
   "cell_type": "code",
   "execution_count": 22,
   "metadata": {},
   "outputs": [],
   "source": [
    "def greedy(coinValueList,change):\n",
    "    coinValueList.sort(reverse=True)\n",
    "    amount=[]\n",
    "    for coin in coinValueList:\n",
    "        if change>=coin:\n",
    "            amount.append(change//coin)\n",
    "            change=change%coin\n",
    "    return amount"
   ]
  },
  {
   "cell_type": "code",
   "execution_count": 26,
   "metadata": {},
   "outputs": [
    {
     "data": {
      "text/plain": [
       "[2, 1, 3]"
      ]
     },
     "execution_count": 26,
     "metadata": {},
     "output_type": "execute_result"
    }
   ],
   "source": [
    "greedy([1,5,10,21,25],63)"
   ]
  },
  {
   "cell_type": "markdown",
   "metadata": {},
   "source": [
    "## 递归方法解决硬币兑换找零问题"
   ]
  },
  {
   "cell_type": "markdown",
   "metadata": {},
   "source": [
    "$$\n",
    "numCoins=\\min\\begin{cases}\n",
    "1+numCoins(originalamount-1)\\\\\n",
    "1+numCoins(originalamount-5)\\\\\n",
    "1+numCoins(originalamount-10)\\\\\n",
    "1+numCoins(originalamount-25)\n",
    "\\end{cases}\n",
    "$$"
   ]
  },
  {
   "cell_type": "markdown",
   "metadata": {},
   "source": [
    "使用不同面额进行兑换，找到兑换数量最少的方案"
   ]
  },
  {
   "cell_type": "code",
   "execution_count": 24,
   "metadata": {},
   "outputs": [],
   "source": [
    "def recMC(coinValueList,change):\n",
    "    minCoins=change#最小数量的硬币\n",
    "    if change in coinValueList:\n",
    "        return 1#基本结束条件\n",
    "    else:\n",
    "        for i in [c for c in coinValueList if c<= change]:\n",
    "            numCoins=1+recMC(coinValueList,change-i)\n",
    "            if numCoins<minCoins:\n",
    "                minCoins=numCoins\n",
    "    return minCoins"
   ]
  },
  {
   "cell_type": "code",
   "execution_count": 27,
   "metadata": {},
   "outputs": [
    {
     "name": "stdout",
     "output_type": "stream",
     "text": [
      "3\n"
     ]
    }
   ],
   "source": [
    "print(recMC([1,5,10,21,25],63))"
   ]
  },
  {
   "cell_type": "code",
   "execution_count": 28,
   "metadata": {},
   "outputs": [],
   "source": [
    "def recDC(coinValueList,change,knownResults):\n",
    "    minCoins=change\n",
    "    if change in coinValueList:\n",
    "        knownResults[change]=1\n",
    "        return 1\n",
    "    elif knownResults[change]>0:\n",
    "        return knownResults[change]\n",
    "    else:\n",
    "        for i in [c for c in coinValueList if c<= change]:\n",
    "            numCoins=1+recDC(coinValueList,change-i,knownResults)\n",
    "            if numCoins<minCoins:\n",
    "                minCoins=numCoins\n",
    "                knownResults[change]=minCoins#保存找零change钱所需要的最小次数\n",
    "    return minCoins"
   ]
  },
  {
   "cell_type": "code",
   "execution_count": 29,
   "metadata": {},
   "outputs": [
    {
     "name": "stdout",
     "output_type": "stream",
     "text": [
      "3\n"
     ]
    }
   ],
   "source": [
    "print(recDC([1,5,10,21,25],63,[0]*64))"
   ]
  },
  {
   "cell_type": "markdown",
   "metadata": {},
   "source": [
    "## 找零兑换问题的动态规划解法"
   ]
  },
  {
   "cell_type": "code",
   "execution_count": 36,
   "metadata": {},
   "outputs": [],
   "source": [
    "def dpMakeChange(coinValueList,change,minCoins):\n",
    "    for cents in range(1,change+1):\n",
    "        coinCount=cents#初始化一个最大值\n",
    "        for j in [c for c in coinValueList if cents>=c]:\n",
    "            if minCoins[cents-j]+1<coinCount:\n",
    "                coinCount=minCoins[cents-j]+1\n",
    "        minCoins[cents]=coinCount\n",
    "    return minCoins[change]"
   ]
  },
  {
   "cell_type": "code",
   "execution_count": 37,
   "metadata": {},
   "outputs": [
    {
     "data": {
      "text/plain": [
       "3"
      ]
     },
     "execution_count": 37,
     "metadata": {},
     "output_type": "execute_result"
    }
   ],
   "source": [
    "dpMakeChange([1,5,10,21,25],63,[0]*64)"
   ]
  },
  {
   "cell_type": "code",
   "execution_count": 48,
   "metadata": {},
   "outputs": [],
   "source": [
    "def dpMakeChange1(coinValueList,change,minCoins,coinsUsed):\n",
    "    for cents in range(change+1):\n",
    "        coinCount=cents\n",
    "        newCoin=1\n",
    "        for j in [c for c in coinValueList if c<=cents]:\n",
    "            if minCoins[cents-j]+1<coinCount:\n",
    "                coinCount=minCoins[cents-j]+1\n",
    "                newCoin=j\n",
    "        minCoins[cents]=coinCount\n",
    "        coinsUsed[cents]=newCoin\n",
    "    return minCoins[change],coinsUsed"
   ]
  },
  {
   "cell_type": "code",
   "execution_count": 49,
   "metadata": {},
   "outputs": [],
   "source": [
    "def printCoins(coinUsed,change):\n",
    "    coin=change\n",
    "    while coin>0:\n",
    "        thisCoin=coinUsed[coin]\n",
    "        print(thisCoin)\n",
    "        coin=coin-thisCoin"
   ]
  },
  {
   "cell_type": "code",
   "execution_count": 53,
   "metadata": {},
   "outputs": [
    {
     "name": "stdout",
     "output_type": "stream",
     "text": [
      "21\n",
      "21\n",
      "21\n",
      "requires 3 coins\n"
     ]
    }
   ],
   "source": [
    "[minCoins,coinUsed]=dpMakeChange1([1,5,10,21,25],63,[0]*64,[0]*64)\n",
    "printCoins(coinUsed,63)\n",
    "print('requires',minCoins,'coins')"
   ]
  },
  {
   "cell_type": "markdown",
   "metadata": {},
   "source": [
    "## 动态规划\n",
    "贼面前有5件宝物，分别有重量和价值，贼的背包仅能负重20共进，如何选择使得总价值最高"
   ]
  },
  {
   "cell_type": "markdown",
   "metadata": {},
   "source": [
    "|item|weight|value|\n",
    "|:---:|:---:|:---:|\n",
    "|1|2|3|\n",
    "|2|3|4|\n",
    "|3|4|8|\n",
    "|4|5|8|\n",
    "|5|9|10|"
   ]
  },
  {
   "cell_type": "markdown",
   "metadata": {},
   "source": [
    "我们记m(i,W)记为前i(1$\\leq$i$\\leq$5)个宝物中，组合不超过W(1$\\leq$W$\\leq$20)重量，得到的最大价值"
   ]
  },
  {
   "cell_type": "markdown",
   "metadata": {},
   "source": [
    "$$\n",
    "m(i,W)=\\begin{cases}\n",
    "0&\\text{if}\\quad i=0\\\\\n",
    "0&\\text{if}\\quad W=0\\\\\n",
    "m(i-1,W)&\\text{if}\\quad w_i>W\\\\\n",
    "\\max\\{m(i-1,W),v_i+m(i-1,W-w_i)\\}&\\text{otherwise}\n",
    "\\end{cases}\n",
    "$$"
   ]
  },
  {
   "cell_type": "markdown",
   "metadata": {},
   "source": [
    "$ w_i>W$的情形就是重量太大不能继续装入宝物的情形，$i=0,w=0$代表未取得一件宝物，所以得到的价值为零"
   ]
  },
  {
   "cell_type": "markdown",
   "metadata": {},
   "source": [
    "### 代码\n",
    "首先定义宝物的重量和价值"
   ]
  },
  {
   "cell_type": "code",
   "execution_count": 1,
   "metadata": {},
   "outputs": [],
   "source": [
    "tr=[None,{'w':2,'v':3},{'w':3,'v':4},{'w':4,'v':8},{'w':5,'v':8},{'w':9,'v':10}]\n",
    "max_w=20"
   ]
  },
  {
   "cell_type": "markdown",
   "metadata": {},
   "source": [
    "初始化二维表格m(i,W)"
   ]
  },
  {
   "cell_type": "code",
   "execution_count": 4,
   "metadata": {},
   "outputs": [],
   "source": [
    "m={(i,w):0 for i in range(len(tr)) for w in range(max_w+1)}"
   ]
  },
  {
   "cell_type": "markdown",
   "metadata": {},
   "source": [
    "逐个填写二维表格"
   ]
  },
  {
   "cell_type": "code",
   "execution_count": 5,
   "metadata": {},
   "outputs": [],
   "source": [
    "for i in range(1,len(tr)):\n",
    "    for w in range(1,max_w+1):\n",
    "        if tr[i]['w']>w:\n",
    "            m[(i,w)]=m[(i-1,w)]\n",
    "        else:\n",
    "            m[(i,w)]=max(m[(i-1,w)],m[(i-1,w-tr[i]['w'])]+tr[i]['v'])"
   ]
  },
  {
   "cell_type": "markdown",
   "metadata": {},
   "source": [
    "输出结果"
   ]
  },
  {
   "cell_type": "code",
   "execution_count": 6,
   "metadata": {},
   "outputs": [
    {
     "name": "stdout",
     "output_type": "stream",
     "text": [
      "29\n"
     ]
    }
   ],
   "source": [
    "print(m[len(tr)-1,max_w])"
   ]
  },
  {
   "cell_type": "markdown",
   "metadata": {},
   "source": [
    "### 递归方法"
   ]
  },
  {
   "cell_type": "code",
   "execution_count": 9,
   "metadata": {},
   "outputs": [
    {
     "name": "stdout",
     "output_type": "stream",
     "text": [
      "29\n"
     ]
    }
   ],
   "source": [
    "tr={(2,3),(3,4),(4,8),(5,8),(9,10)}\n",
    "\n",
    "max_w=20\n",
    "\n",
    "m={}\n",
    "\n",
    "def thief(tr,w):\n",
    "    if tr==set() or w==0:\n",
    "        m[(tuple(tr),w)]=0\n",
    "        return 0\n",
    "    elif (tuple(tr),w) in m:\n",
    "        return m[(tuple(tr),w)]\n",
    "    else:\n",
    "        vmax=0\n",
    "        for t in tr:\n",
    "            if t[0]<=w:\n",
    "                v=thief(tr-{t},w-t[0])+t[1]#tr集合减去t\n",
    "                vmax=max(vmax,v)\n",
    "        m[(tuple(tr),w)]=vmax\n",
    "        return vmax\n",
    "print(thief(tr,max_w))"
   ]
  },
  {
   "cell_type": "code",
   "execution_count": 15,
   "metadata": {
    "scrolled": true
   },
   "outputs": [
    {
     "name": "stdout",
     "output_type": "stream",
     "text": [
      "{(((5, 8),), 2): 0, (((4, 8),), 1): 0, (((4, 8), (5, 8)), 6): 8, (((3, 4),), 0): 0, (((3, 4), (5, 8)), 5): 8, (((3, 4), (4, 8)), 4): 8, (((3, 4), (4, 8), (5, 8)), 9): 16, (((2, 3), (5, 8)), 4): 3, (((2, 3), (4, 8)), 3): 3, (((2, 3), (4, 8), (5, 8)), 8): 11, (((2, 3), (3, 4)), 2): 3, (((2, 3), (3, 4), (5, 8)), 7): 11, (((2, 3), (3, 4), (4, 8)), 6): 11, (((2, 3), (3, 4), (4, 8), (5, 8)), 11): 19, (((9, 10),), 6): 0, (((9, 10), (5, 8)), 11): 10, (((9, 10), (4, 8)), 10): 10, (((9, 10), (4, 8), (5, 8)), 15): 18, (((9, 10), (2, 3)), 8): 3, (((9, 10), (2, 3), (5, 8)), 13): 13, (((9, 10), (2, 3), (4, 8)), 12): 13, (((9, 10), (2, 3), (4, 8), (5, 8)), 17): 21, (((9, 10), (3, 4)), 9): 10, (((9, 10), (3, 4), (4, 8)), 13): 18, (((9, 10), (2, 3), (3, 4)), 11): 13, (((9, 10), (2, 3), (3, 4), (4, 8)), 15): 21, (((9, 10), (3, 4), (5, 8)), 14): 18, (((9, 10), (3, 4), (4, 8), (5, 8)), 18): 26, (((9, 10), (2, 3), (3, 4), (5, 8)), 16): 21, (((9, 10), (3, 4), (5, 8), (2, 3), (4, 8)), 20): 29}\n"
     ]
    }
   ],
   "source": [
    "print(m)"
   ]
  },
  {
   "cell_type": "code",
   "execution_count": null,
   "metadata": {},
   "outputs": [],
   "source": []
  }
 ],
 "metadata": {
  "kernelspec": {
   "display_name": "Python [conda env:.conda-py3]",
   "language": "python",
   "name": "conda-env-.conda-py3-py"
  },
  "language_info": {
   "codemirror_mode": {
    "name": "ipython",
    "version": 3
   },
   "file_extension": ".py",
   "mimetype": "text/x-python",
   "name": "python",
   "nbconvert_exporter": "python",
   "pygments_lexer": "ipython3",
   "version": "3.8.5"
  }
 },
 "nbformat": 4,
 "nbformat_minor": 2
}
