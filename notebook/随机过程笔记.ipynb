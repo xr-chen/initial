{
 "cells": [
  {
   "cell_type": "markdown",
   "metadata": {},
   "source": [
    "30页变量Y代表$X_i$的线性组合，即\n",
    "$$\n",
    "\\sum_{i=1}^m t_iX_i\n",
    "$$"
   ]
  },
  {
   "cell_type": "markdown",
   "metadata": {},
   "source": [
    "$$\n",
    "\\phi(t_1,...,t_m)=E\\{\\exp\\{t_1X_1+...+t_mX_m\\}\\}\\\\\n",
    "Y=\\sum_{i=1}^mt_iX_i\\\\\n",
    "E[e^Y]=\\phi_Y(t)|_{t=1}=e^{\\mu+\\sigma^2/2}\n",
    "$$"
   ]
  },
  {
   "cell_type": "markdown",
   "metadata": {},
   "source": [
    "拉普拉斯变换对于实部为正的复数依然存在"
   ]
  },
  {
   "cell_type": "markdown",
   "metadata": {},
   "source": [
    "33页因为对于独立的随机变量求期望成立，因此矩量母函数也成立，对于求期望，变量之间独立，则协方差为0，按照协方差的定义展开可以得到\n",
    "$$\n",
    "E(XY)=E(X)E(Y)\n",
    "$$"
   ]
  },
  {
   "cell_type": "markdown",
   "metadata": {},
   "source": [
    "$$\n",
    "\\frac{[\\lambda(t-s)]^{n-k}}{(n-k)!}e^{-\\lambda(t-s)}\\\\\n",
    "\\mathcal{F}\n",
    "$$"
   ]
  },
  {
   "cell_type": "code",
   "execution_count": null,
   "metadata": {},
   "outputs": [],
   "source": []
  }
 ],
 "metadata": {
  "kernelspec": {
   "display_name": "Python [conda env:.conda-py3]",
   "language": "python",
   "name": "conda-env-.conda-py3-py"
  },
  "language_info": {
   "codemirror_mode": {
    "name": "ipython",
    "version": 3
   },
   "file_extension": ".py",
   "mimetype": "text/x-python",
   "name": "python",
   "nbconvert_exporter": "python",
   "pygments_lexer": "ipython3",
   "version": "3.8.5"
  }
 },
 "nbformat": 4,
 "nbformat_minor": 4
}
