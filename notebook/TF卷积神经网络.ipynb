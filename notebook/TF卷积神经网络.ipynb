{
 "cells": [
  {
   "cell_type": "markdown",
   "metadata": {},
   "source": [
    "## TF描述卷积层"
   ]
  },
  {
   "cell_type": "markdown",
   "metadata": {},
   "source": [
    "tf.keras.layers.Conv2D(\n",
    "<p>filters=卷积核个数，\n",
    "<p>kernel_size=卷积核尺寸，正方形写核长，或（核高，核宽）\n",
    "<p>strides=滑动步长，或（纵向步长，横向步长）,默认1\n",
    "<p>padding='same'（使用）or'valid'（默认不使用）使用全零填充\n",
    "<p>activation='relu'or'sigmoid'or'tanh'or'softmax'这一层卷积后还有批标准化操作，不激活\n",
    "<p>input_shape=(高，宽，通道数)可省略\n",
    "<p>)"
   ]
  },
  {
   "cell_type": "code",
   "execution_count": 6,
   "metadata": {},
   "outputs": [],
   "source": [
    "import tensorflow as tf\n",
    "from tensorflow.keras.layers import Conv2D,MaxPool2D,Flatten,Dense\n",
    "\n",
    "model=tf.keras.models.Sequential([\n",
    "    Conv2D(6,5,padding='valid',activation='sigmoid'),\n",
    "    MaxPool2D(2,2),\n",
    "    Conv2D(6,(5,5),padding='valid',activation='sigmoid'),\n",
    "    MaxPool2D(2,(2,2)),\n",
    "    Conv2D(filters=6,kernel_size=(5,5),padding='valid',activation='sigmoid'),\n",
    "    MaxPool2D(pool_size=(2,2),strides=2),\n",
    "    Flatten(),#三层卷积层在说同一个东西\n",
    "    Dense(10,activation='softmax')\n",
    "])"
   ]
  },
  {
   "cell_type": "markdown",
   "metadata": {},
   "source": [
    "## 批标准化"
   ]
  },
  {
   "cell_type": "markdown",
   "metadata": {},
   "source": [
    "随着网络层数的增加，特征数据会出现偏移零均值的情况，标准化可以使数据符合$\\mathcal{N}(0,1)$批标准化是对一个batch的数据进行标准化操作，在<mark>卷积操作和激活操作之间</mark>\n",
    "$$\n",
    "H_i^{'k}=\\frac{H^k_i-\\mu_{batch}^k}{\\sigma_{batch}^k}\n",
    "$$\n",
    "- $H_i^K$批标准化前，第k个卷积核，输出特征图中第i个像素点\n",
    "- $\\mu_{batch}^k$批标准化前，第k个卷积核，batch张输出特征图中所有像素点平均值\n",
    "- $\\sigma_{batch}^k$批标准化前，第k个卷积核，batch张输出特征图中所有像素点标准差\n",
    "$$\n",
    "\\mu_{batch}^k=\\frac{1}{m}\\sum_{i=1}^m H_i^k\\qquad\\sigma_{batch}^k=\\sqrt{\\delta+\\frac{1}{m}\\sum_{i=1}^m(H_i^k-\\mu_{batch}^k)^2}\n",
    "$$"
   ]
  },
  {
   "cell_type": "markdown",
   "metadata": {},
   "source": [
    "BN操作拉回到激活函数的零均值区域，提升了激活函数对输入数据的区分力，但使激活函数丧失了非线性特性\n",
    "$$\n",
    "X_i^k=\\gamma_kH_i^{'k}+\\beta_k\n",
    "$$\n",
    "其中$\\gamma_k$是缩放因子，$\\beta_k$是偏移因子"
   ]
  },
  {
   "cell_type": "code",
   "execution_count": 8,
   "metadata": {},
   "outputs": [],
   "source": [
    "import tensorflow as tf\n",
    "from tensorflow.keras.layers import Conv2D,MaxPool2D,Flatten,Dense,BatchNormalization,Activation,Dropout\n",
    "\n",
    "model=tf.keras.models.Sequential([\n",
    "    Conv2D(filters=6,kernel_size=(5,5),padding='same'),\n",
    "    BatchNormalization(),\n",
    "    Activation('relu'),\n",
    "    MaxPool2D(pool_size=(2,2),strides=2,padding='same'),\n",
    "    Dropout(0.2)\n",
    "])"
   ]
  },
  {
   "cell_type": "markdown",
   "metadata": {},
   "source": [
    "## 池化"
   ]
  },
  {
   "cell_type": "markdown",
   "metadata": {},
   "source": [
    "池化用于减少特征数据量，最大值池化可提取图片纹理，均值池化可保留背景特征，提取池化核覆盖部分的均值或者最大值"
   ]
  },
  {
   "cell_type": "code",
   "execution_count": 1,
   "metadata": {},
   "outputs": [],
   "source": [
    "import tensorflow as tf\n",
    "from tensorflow.keras.layers import Conv2D,BatchNormalization,Activation,MaxPool2D,Dropout,AveragePooling2D\n",
    "\n",
    "model=tf.keras.models.Sequential([\n",
    "    Conv2D(filters=6,kernel_size=(5,5),padding='same'),\n",
    "    BatchNormalization(),\n",
    "    Activation('relu'),\n",
    "    MaxPool2D(pool_size=(2,2),#池化核大小\n",
    "    strides=2,#池化步长\n",
    "    padding='same'),#使用全零填充，不适用是‘valid’\n",
    "    Dropout(0.2),\n",
    "])"
   ]
  },
  {
   "cell_type": "markdown",
   "metadata": {},
   "source": [
    "## 舍弃"
   ]
  },
  {
   "cell_type": "markdown",
   "metadata": {},
   "source": [
    "在神经网络训练时，将一部分神经元按照一定概率从神经网络暂时舍弃，使用时恢复链接，tf.keras.layers.Dropout(舍弃的概率)从而缓解过拟合"
   ]
  },
  {
   "cell_type": "markdown",
   "metadata": {},
   "source": [
    "## 卷积神经网络"
   ]
  },
  {
   "cell_type": "markdown",
   "metadata": {},
   "source": [
    "- 卷积\n",
    "- 批标准化\n",
    "- 激活\n",
    "- 池化\n",
    "- 全连接网络"
   ]
  },
  {
   "cell_type": "code",
   "execution_count": 1,
   "metadata": {},
   "outputs": [
    {
     "data": {
      "text/plain": [
       "[<matplotlib.lines.Line2D at 0x227997e0708>]"
      ]
     },
     "execution_count": 1,
     "metadata": {},
     "output_type": "execute_result"
    },
    {
     "data": {
      "image/png": "[encoded data removed]",
      "text/plain": [
       "<Figure size 432x288 with 1 Axes>"
      ]
     },
     "metadata": {
      "needs_background": "light"
     },
     "output_type": "display_data"
    }
   ],
   "source": [
    "import numpy as np\n",
    "import matplotlib.pyplot as plt\n",
    "\n",
    "a=np.linspace(-10,10,1000)\n",
    "b=a**2\n",
    "plt.plot(a,b)"
   ]
  },
  {
   "cell_type": "code",
   "execution_count": null,
   "metadata": {},
   "outputs": [],
   "source": []
  }
 ],
 "metadata": {
  "kernelspec": {
   "display_name": "Python [conda env:.conda-tensor]",
   "language": "python",
   "name": "conda-env-.conda-tensor-py"
  },
  "language_info": {
   "codemirror_mode": {
    "name": "ipython",
    "version": 3
   },
   "file_extension": ".py",
   "mimetype": "text/x-python",
   "name": "python",
   "nbconvert_exporter": "python",
   "pygments_lexer": "ipython3",
   "version": "3.7.6"
  }
 },
 "nbformat": 4,
 "nbformat_minor": 2
}
