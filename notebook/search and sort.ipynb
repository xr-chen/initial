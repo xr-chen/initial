{
 "cells": [
  {
   "cell_type": "markdown",
   "metadata": {},
   "source": [
    "# 排序和查找"
   ]
  },
  {
   "cell_type": "markdown",
   "metadata": {},
   "source": [
    "## 顺序查找"
   ]
  },
  {
   "cell_type": "markdown",
   "metadata": {},
   "source": [
    "### 无序表查找"
   ]
  },
  {
   "cell_type": "code",
   "execution_count": 1,
   "metadata": {},
   "outputs": [],
   "source": [
    "def sequentialSearch(alist,item):\n",
    "    pos=0\n",
    "    found=False\n",
    "    \n",
    "    while pos<len(alist) and not found:\n",
    "        if alist[pos]==item:\n",
    "            found=True\n",
    "        else:\n",
    "            pos=pos+1\n",
    "    return found"
   ]
  },
  {
   "cell_type": "code",
   "execution_count": 3,
   "metadata": {},
   "outputs": [
    {
     "name": "stdout",
     "output_type": "stream",
     "text": [
      "False\n"
     ]
    }
   ],
   "source": [
    "testlist=[1,2,32,8,17,19,42,13,0]\n",
    "print(sequentialSearch(testlist,3))"
   ]
  },
  {
   "cell_type": "markdown",
   "metadata": {},
   "source": [
    "### 有序表查找"
   ]
  },
  {
   "cell_type": "code",
   "execution_count": 6,
   "metadata": {},
   "outputs": [],
   "source": [
    "def orderedSequentialSearch(alist,item):\n",
    "    pos=0\n",
    "    found=False\n",
    "    stop=False\n",
    "    while pos<len(alist)and not found and not stop:\n",
    "        if alist[pos]==item:\n",
    "            found=True\n",
    "        else:\n",
    "            if alist[pos]>item:\n",
    "                stop=True\n",
    "            else:\n",
    "                pos=pos+1\n",
    "    return found"
   ]
  },
  {
   "cell_type": "code",
   "execution_count": 7,
   "metadata": {},
   "outputs": [
    {
     "name": "stdout",
     "output_type": "stream",
     "text": [
      "False\n"
     ]
    }
   ],
   "source": [
    "testlist1=[0,1,2,8,13,17,19,32,42]\n",
    "print(orderedSequentialSearch(testlist,3))"
   ]
  },
  {
   "cell_type": "markdown",
   "metadata": {},
   "source": [
    "## 二分查找"
   ]
  },
  {
   "cell_type": "markdown",
   "metadata": {},
   "source": [
    "针对有序表而言，先比较所需查找的元素的列表的中间元素是否相等，若不相等，判断元素和中间元素的大小关系，如果小于中间元素，那么所需查找的元素只能在列表中间元素的左边，同理相反"
   ]
  },
  {
   "cell_type": "code",
   "execution_count": 1,
   "metadata": {},
   "outputs": [],
   "source": [
    "def binarySearch(alist,item):\n",
    "    first=0\n",
    "    last=len(alist)-1\n",
    "    found=False\n",
    "    \n",
    "    while first<=last and not found:\n",
    "        midpoint=(first+last)//2\n",
    "        if alist[midpoint]==item:\n",
    "            found=True\n",
    "        else:\n",
    "            if item<alist[midpoint]:\n",
    "                last=midpoint-1\n",
    "            else:\n",
    "                first=midpoint+1\n",
    "    return found"
   ]
  },
  {
   "cell_type": "code",
   "execution_count": 2,
   "metadata": {},
   "outputs": [
    {
     "name": "stdout",
     "output_type": "stream",
     "text": [
      "False\n",
      "True\n"
     ]
    }
   ],
   "source": [
    "testlist=[0,1,2,8,13,17,19,32,42]\n",
    "print(binarySearch(testlist,3))\n",
    "print(binarySearch(testlist,13))"
   ]
  },
  {
   "cell_type": "markdown",
   "metadata": {},
   "source": [
    "### 二分查找的递归算法"
   ]
  },
  {
   "cell_type": "code",
   "execution_count": 7,
   "metadata": {},
   "outputs": [],
   "source": [
    "def binarySearch1(alist,item):\n",
    "    if len(alist)==0:\n",
    "        return False\n",
    "    else:\n",
    "        midpoint=len(alist)//2\n",
    "        if alist[midpoint]==item:\n",
    "            return True\n",
    "        else:\n",
    "            if item<alist[midpoint]:\n",
    "                return binarySearch1(alist[:midpoint],item)\n",
    "            else:\n",
    "                return binarySearch1(alist[midpoint+1:],item)"
   ]
  },
  {
   "cell_type": "code",
   "execution_count": 8,
   "metadata": {},
   "outputs": [
    {
     "name": "stdout",
     "output_type": "stream",
     "text": [
      "False\n",
      "True\n"
     ]
    }
   ],
   "source": [
    "print(binarySearch1(testlist,3))\n",
    "print(binarySearch1(testlist,13))"
   ]
  },
  {
   "cell_type": "markdown",
   "metadata": {},
   "source": [
    "这里采用切片可以让代码可读性更强，但是每进行一次切片相当于进行一次O(k)的操作，k=切片的长度"
   ]
  },
  {
   "cell_type": "markdown",
   "metadata": {},
   "source": [
    "## 二分查找算法分析"
   ]
  },
  {
   "cell_type": "markdown",
   "metadata": {},
   "source": [
    "每次比对后剩余的数据项数量减半，\n",
    "$$\n",
    "\\frac{n}{2^i}=1\n",
    "$$\n",
    "比对i次后剩下一个数据项，比对一次就能结束算法，解方程得$i=\\log_2(n)$\n",
    "\n",
    "所以二分查找的的算法复杂度是O(log n)"
   ]
  },
  {
   "cell_type": "markdown",
   "metadata": {},
   "source": [
    "# 排序"
   ]
  },
  {
   "cell_type": "markdown",
   "metadata": {},
   "source": [
    "## 冒泡排序"
   ]
  },
  {
   "cell_type": "code",
   "execution_count": 13,
   "metadata": {},
   "outputs": [],
   "source": [
    "def bubbleSort(alist):\n",
    "    for passum in range(len(alist)-1,0,-1):\n",
    "        for i in range(passum):\n",
    "            if alist[i]>alist[i+1]:\n",
    "                temp=alist[i]\n",
    "                alist[i]=alist[i+1]\n",
    "                alist[i+1]=temp\n",
    "                #可以直接交换\n",
    "                #alist[i],alist[i+1]=alist[i+1],alist[i]"
   ]
  },
  {
   "cell_type": "code",
   "execution_count": 14,
   "metadata": {},
   "outputs": [
    {
     "name": "stdout",
     "output_type": "stream",
     "text": [
      "[17, 20, 26, 31, 44, 54, 55, 77, 93]\n"
     ]
    }
   ],
   "source": [
    "alist=[54,26,93,17,77,31,44,55,20]\n",
    "bubbleSort(alist)\n",
    "print(alist)"
   ]
  },
  {
   "cell_type": "markdown",
   "metadata": {},
   "source": [
    "- 冒泡排序时间复杂度较为复杂\n",
    "- 无需任何额外的存储空间\n",
    "- 对于链表等数据结构也可以适用\n",
    "- 交换次数和比对次数量级都是O($n^2$)\n",
    "- 最好一次都不必对，最差和交换次数一样，平均下来量级相同"
   ]
  },
  {
   "cell_type": "markdown",
   "metadata": {},
   "source": [
    "### 性能改进"
   ]
  },
  {
   "cell_type": "markdown",
   "metadata": {},
   "source": [
    "如果某趟比对没有发生任何变换，说明列表已经排好序，可以提前结束算法，但不能改变算法的复杂度"
   ]
  },
  {
   "cell_type": "code",
   "execution_count": 3,
   "metadata": {},
   "outputs": [],
   "source": [
    "def shortBubbleSort(alist):\n",
    "    exchange=True\n",
    "    passum=len(alist)-1\n",
    "    while passum>0 and exchange:#一趟下来没有交换结束\n",
    "        exchange=False\n",
    "        for i in range(passum):\n",
    "            if alist[i]>alist[i+1]:\n",
    "                exchange=True\n",
    "                alist[i],alist[i+1]=alist[i+1],alist[i]\n",
    "        passum=passum-1"
   ]
  },
  {
   "cell_type": "code",
   "execution_count": 5,
   "metadata": {},
   "outputs": [
    {
     "name": "stdout",
     "output_type": "stream",
     "text": [
      "[17, 20, 26, 31, 44, 54, 55, 77, 93]\n"
     ]
    }
   ],
   "source": [
    "alist=[54,26,93,17,77,31,44,55,20]\n",
    "shortBubbleSort(alist)\n",
    "print(alist)"
   ]
  },
  {
   "cell_type": "markdown",
   "metadata": {},
   "source": [
    "## 选择排序"
   ]
  },
  {
   "cell_type": "markdown",
   "metadata": {},
   "source": [
    "每一趟记录最大项的位置，然后和最后一项进行交换\n",
    "- 比对O($n^2$)\n",
    "- 交换O($n$)"
   ]
  },
  {
   "cell_type": "code",
   "execution_count": 6,
   "metadata": {},
   "outputs": [],
   "source": [
    "def selectionSort(alist):\n",
    "    for fillslot in range(len(alist)-1,0,-1):#最后一项的位置\n",
    "        positionOfMax=0#记录最大项的位置\n",
    "        for location in range(1,fillslot+1):\n",
    "            if alist[location]>alist[positionOfMax]:\n",
    "                positionOfMax=location\n",
    "        temp=alist[fillslot]\n",
    "        alist[fillslot]=alist[positionOfMax]\n",
    "        alist[positionOfMax]=temp"
   ]
  },
  {
   "cell_type": "code",
   "execution_count": 7,
   "metadata": {},
   "outputs": [
    {
     "name": "stdout",
     "output_type": "stream",
     "text": [
      "[17, 20, 26, 31, 44, 54, 55, 77, 93]\n"
     ]
    }
   ],
   "source": [
    "alist=[54,26,93,17,77,31,44,55,20]\n",
    "selectionSort(alist)\n",
    "print(alist)"
   ]
  },
  {
   "cell_type": "code",
   "execution_count": null,
   "metadata": {},
   "outputs": [],
   "source": []
  }
 ],
 "metadata": {
  "kernelspec": {
   "display_name": "Python [conda env:.conda-py3]",
   "language": "python",
   "name": "conda-env-.conda-py3-py"
  },
  "language_info": {
   "codemirror_mode": {
    "name": "ipython",
    "version": 3
   },
   "file_extension": ".py",
   "mimetype": "text/x-python",
   "name": "python",
   "nbconvert_exporter": "python",
   "pygments_lexer": "ipython3",
   "version": "3.8.5"
  }
 },
 "nbformat": 4,
 "nbformat_minor": 2
}
