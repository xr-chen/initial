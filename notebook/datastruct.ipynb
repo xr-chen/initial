{
 "cells": [
  {
   "cell_type": "markdown",
   "metadata": {},
   "source": [
    "# 数据结构与算法"
   ]
  },
  {
   "cell_type": "markdown",
   "metadata": {},
   "source": [
    "## 异位词"
   ]
  },
  {
   "cell_type": "markdown",
   "metadata": {},
   "source": [
    "下面为一个O(n)复杂度的算法"
   ]
  },
  {
   "cell_type": "code",
   "execution_count": 2,
   "metadata": {},
   "outputs": [
    {
     "name": "stdout",
     "output_type": "stream",
     "text": [
      "True\n"
     ]
    }
   ],
   "source": [
    "def lecount(str1,str2):\n",
    "    c1=[0]*26\n",
    "    c2=[0]*26\n",
    "    stillOK=True\n",
    "    for i in range(len(str1)):\n",
    "        pos=ord(str1[i])-ord('a')\n",
    "        c1[pos]+=1\n",
    "    for i in range(len(str2)):\n",
    "        pos=ord(str2[i])-ord('a')\n",
    "        c2[pos]+=1\n",
    "    j=0\n",
    "    while j<26 and stillOK:\n",
    "        if c1[j]==c2[j]:\n",
    "            j+=1\n",
    "        else:\n",
    "            stillOK=False\n",
    "    return stillOK\n",
    "\n",
    "print(lecount('abple','ablep'))"
   ]
  },
  {
   "cell_type": "markdown",
   "metadata": {},
   "source": [
    "等效于创建了一个计数器，把单词中出现的二十六个字母的个数进行统计，然后比较每个字母出现的个数是否相同，若相同则是异位词"
   ]
  },
  {
   "cell_type": "markdown",
   "metadata": {},
   "source": [
    "## 括号匹配问题"
   ]
  },
  {
   "cell_type": "markdown",
   "metadata": {},
   "source": [
    "先把左括号堆进栈内，然后每遇到一个右括号就出一次栈，但这个程序用else不是很完美，因为可能会遇到除了括号以外的其他元素"
   ]
  },
  {
   "cell_type": "code",
   "execution_count": 3,
   "metadata": {},
   "outputs": [
    {
     "name": "stdout",
     "output_type": "stream",
     "text": [
      "True\n"
     ]
    }
   ],
   "source": [
    "from pythonds.basic.stack import Stack\n",
    "\n",
    "def parChecker(symbolString):\n",
    "    s=Stack()\n",
    "    balanced=True\n",
    "    index=0\n",
    "    while index<len(symbolString) and balanced:\n",
    "        symbol=symbolString[index]\n",
    "        if symbol in '{[(':\n",
    "            s.push(symbol)\n",
    "        else:\n",
    "            top=s.pop()\n",
    "            if not matches(top,symbol):\n",
    "                balanced=False\n",
    "        index=index+1\n",
    "    if s.isEmpty() and balanced:\n",
    "        return True\n",
    "    else:\n",
    "        return False\n",
    "        \n",
    "def matches(open,close):\n",
    "    opens='{[('\n",
    "    closes='}])'\n",
    "    return opens.index(open)==closes.index(close)\n",
    "\n",
    "print(parChecker('{{}}'))"
   ]
  },
  {
   "cell_type": "markdown",
   "metadata": {},
   "source": [
    "## 十进制转化为二进制\n",
    "使用短除法，一步步进行短除，然后把余数push到栈里面，然后按照相反的顺序取出来，即为转化后的进制"
   ]
  },
  {
   "cell_type": "code",
   "execution_count": 11,
   "metadata": {},
   "outputs": [
    {
     "name": "stdout",
     "output_type": "stream",
     "text": [
      "11001\n",
      "1F\n"
     ]
    }
   ],
   "source": [
    "from pythonds.basic.stack import Stack\n",
    "\n",
    "def baseconverter(decNumber,base):\n",
    "    digits='0123456789ABCDEF'\n",
    "    \n",
    "    remstack=Stack()\n",
    "    \n",
    "    while decNumber>0:\n",
    "        rem=decNumber%base\n",
    "        remstack.push(rem)\n",
    "        decNumber=decNumber//base\n",
    "        \n",
    "    newString=''\n",
    "    while not remstack.isEmpty():\n",
    "        newString=newString+digits[remstack.pop()]\n",
    "    return newString\n",
    "\n",
    "print(baseconverter(25,2))\n",
    "print(baseconverter(31,16))"
   ]
  },
  {
   "cell_type": "markdown",
   "metadata": {},
   "source": [
    "## 表达式转换"
   ]
  },
  {
   "cell_type": "markdown",
   "metadata": {},
   "source": [
    "实际数学表达式中都是中缀表达式，为了方便判断优先级和计算顺序，我们需要把他们转化为前缀和后缀表达式，更方便计算机进行计算"
   ]
  },
  {
   "cell_type": "markdown",
   "metadata": {},
   "source": [
    "注：在这份代码中约定所有的表达式用' '(空格)隔开，且输出后缀表达式"
   ]
  },
  {
   "cell_type": "markdown",
   "metadata": {},
   "source": [
    "### 算法设计"
   ]
  },
  {
   "cell_type": "markdown",
   "metadata": {},
   "source": [
    "先把栈数据结构import进来，然后定义有关优先级的字典"
   ]
  },
  {
   "cell_type": "markdown",
   "metadata": {},
   "source": [
    "然后把运算数直接输出到最后的表达式中，对于操作符：如果是(那么直接压进栈中，如果是右括号,出栈直到栈顶元素为(。如果是运算符，栈空的情况下，把运算符压到栈内，如果栈不空且下一个运算符的优先级小于等于栈顶端运算符的优先级，那么就把栈内的元素pop出来，且添加到最后的结果中去，直到优先级大于等于栈顶端元素的优先级。最后，把栈顶元素逐一出栈，直到栈为空"
   ]
  },
  {
   "cell_type": "code",
   "execution_count": 16,
   "metadata": {},
   "outputs": [],
   "source": [
    "from pythonds.basic.stack import Stack\n",
    "def infixToPostfix(infixexpr):\n",
    "    \n",
    "    prec={}\n",
    "    prec['*']=3\n",
    "    prec['/']=3\n",
    "    prec['+']=2\n",
    "    prec['-']=2\n",
    "    prec['(']=1\n",
    "    letter='ABCDEFGHIJKLMNOPQRSTUVWXYZabcdefghijklmnopqrtsuvwxyz'\n",
    "    numbers='0123456789'\n",
    "    opStack=Stack()\n",
    "    postfixList=[]\n",
    "    tokenList=infixexpr.split()#表达式默认用空格隔开\n",
    "    for token in tokenList:\n",
    "        for to in token:\n",
    "            if ((to in numbers)or(to in letter)):\n",
    "                able=True\n",
    "            else:\n",
    "                able=False\n",
    "        if able:\n",
    "            postfixList.append(token)\n",
    "        elif token == '(':\n",
    "            opStack.push(token)\n",
    "        elif token == ')':\n",
    "            topToken = opStack.pop()\n",
    "            while topToken!='(':\n",
    "                postfixList.append(topToken)\n",
    "                topToken=opStack.pop()\n",
    "        else:\n",
    "            while(not opStack.isEmpty())and \\\n",
    "            (prec[opStack.peek()]>=prec[token]):\n",
    "                postfixList.append(opStack.pop())\n",
    "            opStack.push(token)\n",
    "    while not opStack.isEmpty():\n",
    "        postfixList.append(opStack.pop())\n",
    "    return ' '.join(postfixList)"
   ]
  },
  {
   "cell_type": "markdown",
   "metadata": {},
   "source": [
    "其中由出栈的机制，我们可以知道，栈内的运算符的有限顺序是按照，由栈底到栈顶从小到大的顺序排列，那么出栈的时候是按照相反的顺序出栈"
   ]
  },
  {
   "cell_type": "code",
   "execution_count": 17,
   "metadata": {},
   "outputs": [
    {
     "data": {
      "text/plain": [
       "'a d b * + c +'"
      ]
     },
     "execution_count": 17,
     "metadata": {},
     "output_type": "execute_result"
    }
   ],
   "source": [
    "infixToPostfix(' a + d  * b + c') "
   ]
  },
  {
   "cell_type": "markdown",
   "metadata": {},
   "source": [
    "## 后缀表达式的计算"
   ]
  },
  {
   "cell_type": "markdown",
   "metadata": {},
   "source": [
    "既然得到了后缀表达式我们更关心后缀表达式的计算问题"
   ]
  },
  {
   "cell_type": "markdown",
   "metadata": {},
   "source": [
    "### 算法设计"
   ]
  },
  {
   "cell_type": "markdown",
   "metadata": {},
   "source": [
    "从左到右逐一扫描传入函数的单词，如果是数值那么直接堆入栈中，遇到操作符时，从栈顶弹出两个操作数，并且对两个操作数进行运算并把运算后的<mark>结果堆入栈中</mark>。但要注意，首先弹出来的操作数是第二操作数，后弹出来的是第一操作数。"
   ]
  },
  {
   "cell_type": "code",
   "execution_count": 3,
   "metadata": {},
   "outputs": [],
   "source": [
    "def postfixEval(postfixExpr):\n",
    "    operandStack=Stack()\n",
    "    numbers='0123456789'\n",
    "    tokenList=postfixExpr.split()\n",
    "    for token in tokenList:\n",
    "        for to in token:\n",
    "            if to in numbers:\n",
    "                able=True\n",
    "            else:\n",
    "                able=False\n",
    "        if able:\n",
    "            operandStack.push(int(token))\n",
    "        else:\n",
    "            operand2=operandStack.pop()\n",
    "            operand1=operandStack.pop()\n",
    "            result=doMath(token,operand1,operand2)\n",
    "            operandStack.push(result)\n",
    "    return operandStack.pop()"
   ]
  },
  {
   "cell_type": "markdown",
   "metadata": {},
   "source": [
    "此处我们定义运算函数"
   ]
  },
  {
   "cell_type": "code",
   "execution_count": 4,
   "metadata": {},
   "outputs": [],
   "source": [
    "def doMath(op,op1,op2):\n",
    "    if op=='*':\n",
    "        return op1*op2\n",
    "    elif op=='/':\n",
    "        return op1/op2\n",
    "    elif op=='+':\n",
    "        return op1+op2\n",
    "    else:\n",
    "        return op1-op2"
   ]
  },
  {
   "cell_type": "markdown",
   "metadata": {},
   "source": [
    "测试结果如下："
   ]
  },
  {
   "cell_type": "code",
   "execution_count": 8,
   "metadata": {},
   "outputs": [
    {
     "data": {
      "text/plain": [
       "2001"
      ]
     },
     "execution_count": 8,
     "metadata": {},
     "output_type": "execute_result"
    }
   ],
   "source": [
    "postfixEval(infixToPostfix('1 + 2 * 1000'))"
   ]
  },
  {
   "cell_type": "markdown",
   "metadata": {},
   "source": [
    "为了更进一步的验证，我们把后缀表达式还原成原先的表达式进行测试："
   ]
  },
  {
   "cell_type": "code",
   "execution_count": 15,
   "metadata": {},
   "outputs": [],
   "source": [
    "def toPostfix(tofixexpr):\n",
    "    exprstack=Stack()\n",
    "    fixexprList=tofixexpr.split()\n",
    "    letter='ABCDEFGHIJKLMNOPQRSTUVWXYZabcdefghijklmnopqrtsuvwxyz'\n",
    "    numbers='0123456789'\n",
    "    finalList=[]\n",
    "    for token in fixexprList:\n",
    "        for to in token:\n",
    "            if (to in numbers)or(to in letter):\n",
    "                able=True\n",
    "            else:\n",
    "                able=False\n",
    "        if able:\n",
    "            exprstack.push(token)\n",
    "        else:\n",
    "            opreator2=exprstack.pop()\n",
    "            opreator1=exprstack.pop()\n",
    "            exprstack.push('('+opreator1+token+opreator2+')')\n",
    "    finexpr=exprstack.pop()\n",
    "    return finexpr"
   ]
  },
  {
   "cell_type": "code",
   "execution_count": 16,
   "metadata": {},
   "outputs": [
    {
     "data": {
      "text/plain": [
       "'((1+2)*1000)'"
      ]
     },
     "execution_count": 16,
     "metadata": {},
     "output_type": "execute_result"
    }
   ],
   "source": [
    "toPostfix(infixToPostfix('( 1 + 2 ) * 1000'))"
   ]
  },
  {
   "cell_type": "markdown",
   "metadata": {},
   "source": [
    "# 队列"
   ]
  },
  {
   "cell_type": "markdown",
   "metadata": {},
   "source": [
    "先定义队列类"
   ]
  },
  {
   "cell_type": "code",
   "execution_count": 1,
   "metadata": {},
   "outputs": [],
   "source": [
    "class Queue:\n",
    "    def __init__(self):\n",
    "        self.items=[]\n",
    "    def isEmpty(self):\n",
    "        return self.items==[]\n",
    "    def enqueue(self,item):\n",
    "        self.items.insert(0,item)\n",
    "    def dequeue(self):\n",
    "        return self.items.pop()\n",
    "    def size(self):\n",
    "        return len(self.items)"
   ]
  },
  {
   "cell_type": "markdown",
   "metadata": {},
   "source": [
    "enqueue()复杂度为O(n)dequeue()复杂度为O(1)"
   ]
  },
  {
   "cell_type": "code",
   "execution_count": 4,
   "metadata": {},
   "outputs": [
    {
     "data": {
      "text/plain": [
       "True"
      ]
     },
     "execution_count": 4,
     "metadata": {},
     "output_type": "execute_result"
    }
   ],
   "source": [
    "q1=Queue()\n",
    "q1.isEmpty()"
   ]
  },
  {
   "cell_type": "markdown",
   "metadata": {},
   "source": [
    "## 热土豆问题（古罗马问题）"
   ]
  },
  {
   "cell_type": "markdown",
   "metadata": {},
   "source": [
    "一堆人坐成一圈，然后传递“热土豆”，传递n次后，拿到土豆的人出列，直到剩下一个人，下面用队列来模拟这个过程，每次出列一个人然后立即入列，模拟了土豆的传递，传递n次后，出列排在队首的人"
   ]
  },
  {
   "cell_type": "code",
   "execution_count": 1,
   "metadata": {},
   "outputs": [
    {
     "data": {
      "text/plain": [
       "'David'"
      ]
     },
     "execution_count": 1,
     "metadata": {},
     "output_type": "execute_result"
    }
   ],
   "source": [
    "from pythonds.basic.queue import Queue\n",
    "\n",
    "def hotPotato(namelist,num):\n",
    "    simqueue=Queue()\n",
    "    for name in namelist:\n",
    "        simqueue.enqueue(name)\n",
    "    \n",
    "    while simqueue.size()>1:\n",
    "        for i in range(num):\n",
    "            simqueue.enqueue(simqueue.dequeue())\n",
    "        simqueue.dequeue()\n",
    "    return simqueue.dequeue()\n",
    "\n",
    "hotPotato(['Bill','David','Susan','Jane','Kent','Brad'],100)"
   ]
  },
  {
   "cell_type": "markdown",
   "metadata": {},
   "source": [
    "## 打印任务"
   ]
  },
  {
   "cell_type": "markdown",
   "metadata": {},
   "source": [
    "模拟过程中，时间按照统一的标准秒来描述，然后来模拟整个排队打印的过程\n",
    "\n",
    "这里的打印机按照类来模拟"
   ]
  },
  {
   "cell_type": "code",
   "execution_count": 4,
   "metadata": {},
   "outputs": [],
   "source": [
    "from pythonds.basic.queue import Queue\n",
    "import random"
   ]
  },
  {
   "cell_type": "code",
   "execution_count": 7,
   "metadata": {},
   "outputs": [],
   "source": [
    "class Printer:\n",
    "    def __init__(self,ppm):\n",
    "        self.pagerate=ppm#每分钟打印的页数\n",
    "        self.currentTask=None\n",
    "        self.timeRemaining=0\n",
    "    def tick(self):\n",
    "        if self.currentTask!=None:\n",
    "            self.timeRemaining=self.timeRemaining-1\n",
    "            if self.timeRemaining<=0:\n",
    "                self.currentTask=None\n",
    "    def busy(self):\n",
    "        if self.currentTask!=None:\n",
    "            return True\n",
    "        else:\n",
    "            return False\n",
    "    def startNext(self,newtask):\n",
    "        self.currentTask=newtask\n",
    "        self.timeRemaining=newtask.getPages()*60/self.pagerate"
   ]
  },
  {
   "cell_type": "markdown",
   "metadata": {},
   "source": [
    "下面根据模拟的方法来定义打印任务类"
   ]
  },
  {
   "cell_type": "code",
   "execution_count": 8,
   "metadata": {},
   "outputs": [],
   "source": [
    "class Task:\n",
    "    def __init__(self,time):\n",
    "        self.timestamp=time\n",
    "        self.pages=random.randrange(1,21)\n",
    "    def getStamp(self):#生成作业的时间\n",
    "        return self.timestamp\n",
    "    def getPages(self):\n",
    "        return self.pages\n",
    "    def waitTime(self,currenttime):\n",
    "        return currenttime-self.timestamp"
   ]
  },
  {
   "cell_type": "code",
   "execution_count": 9,
   "metadata": {},
   "outputs": [],
   "source": [
    "def newPrintTask():\n",
    "    num=random.randrange(1,181)\n",
    "    if num==180:\n",
    "        return True\n",
    "    else:\n",
    "        return False"
   ]
  },
  {
   "cell_type": "markdown",
   "metadata": {},
   "source": [
    "然后来定义主函数"
   ]
  },
  {
   "cell_type": "code",
   "execution_count": 17,
   "metadata": {},
   "outputs": [],
   "source": [
    "def simulation(numSeconds,pagesPerMinute):\n",
    "    labprinter=Printer(pagesPerMinute)\n",
    "    printQueue=Queue()\n",
    "    waitingtimes=[]\n",
    "    \n",
    "    for currentSecond in range(numSeconds):\n",
    "        if newPrintTask():\n",
    "            task=Task(currentSecond)\n",
    "            printQueue.enqueue(task)\n",
    "            \n",
    "        if (not labprinter.busy()) and (not printQueue.isEmpty()):\n",
    "            nexttask=printQueue.dequeue()\n",
    "            waitingtimes.append(nexttask.waitTime(currentSecond))\n",
    "            labprinter.startNext(nexttask)\n",
    "        labprinter.tick()\n",
    "    averageWait=sum(waitingtimes)/len(waitingtimes)\n",
    "    print(\"Average Wait %6.2f sec %3d tasks remaining\"%(averageWait,printQueue.size()))"
   ]
  },
  {
   "cell_type": "markdown",
   "metadata": {},
   "source": [
    "模拟每分钟打印五页的情况"
   ]
  },
  {
   "cell_type": "code",
   "execution_count": 20,
   "metadata": {},
   "outputs": [
    {
     "name": "stdout",
     "output_type": "stream",
     "text": [
      "Average Wait 129.74 sec   1 tasks remaining\n",
      "Average Wait  26.48 sec   1 tasks remaining\n",
      "Average Wait 228.68 sec   2 tasks remaining\n",
      "Average Wait  39.23 sec   0 tasks remaining\n",
      "Average Wait  64.88 sec   0 tasks remaining\n",
      "Average Wait 171.06 sec   0 tasks remaining\n",
      "Average Wait  90.71 sec   0 tasks remaining\n",
      "Average Wait  23.67 sec   0 tasks remaining\n",
      "Average Wait  68.44 sec   1 tasks remaining\n",
      "Average Wait 208.62 sec   0 tasks remaining\n"
     ]
    }
   ],
   "source": [
    "for i in range(10):\n",
    "    simulation(3600,5)"
   ]
  },
  {
   "cell_type": "markdown",
   "metadata": {},
   "source": [
    "模拟每分钟打印十页的情况"
   ]
  },
  {
   "cell_type": "code",
   "execution_count": 21,
   "metadata": {},
   "outputs": [
    {
     "name": "stdout",
     "output_type": "stream",
     "text": [
      "Average Wait  84.42 sec   0 tasks remaining\n",
      "Average Wait  15.12 sec   0 tasks remaining\n",
      "Average Wait   9.79 sec   0 tasks remaining\n",
      "Average Wait  19.95 sec   0 tasks remaining\n",
      "Average Wait  18.33 sec   0 tasks remaining\n",
      "Average Wait  36.89 sec   0 tasks remaining\n",
      "Average Wait  14.25 sec   1 tasks remaining\n",
      "Average Wait   0.00 sec   0 tasks remaining\n",
      "Average Wait   7.81 sec   0 tasks remaining\n",
      "Average Wait   6.25 sec   1 tasks remaining\n"
     ]
    }
   ],
   "source": [
    "for i in range(10):\n",
    "    simulation(3600,10)"
   ]
  },
  {
   "cell_type": "markdown",
   "metadata": {},
   "source": [
    "# 双端队列"
   ]
  },
  {
   "cell_type": "markdown",
   "metadata": {},
   "source": [
    "## 回文词判断"
   ]
  },
  {
   "cell_type": "markdown",
   "metadata": {},
   "source": [
    "把字符串输入到双端队列里面，然后从队首弹出一个字符，从队尾弹出一个字符，直到所有剩下一个字符或者弹空，奇数个字符不影响回文词的判断"
   ]
  },
  {
   "cell_type": "code",
   "execution_count": 1,
   "metadata": {},
   "outputs": [],
   "source": [
    "from pythonds.basic.deque import Deque"
   ]
  },
  {
   "cell_type": "code",
   "execution_count": 2,
   "metadata": {},
   "outputs": [],
   "source": [
    "def palchecker(aString):\n",
    "    chardeque=Deque()\n",
    "    \n",
    "    for ch in aString:\n",
    "        chardeque.addRear(ch)\n",
    "    stillEqual=True\n",
    "    \n",
    "    while chardeque.size()>1 and stillEqual:\n",
    "        first=chardeque.removeFront()\n",
    "        last=chardeque.removeRear()\n",
    "        if first!=last:\n",
    "            stillEqual=False\n",
    "    return stillEqual"
   ]
  },
  {
   "cell_type": "code",
   "execution_count": 4,
   "metadata": {},
   "outputs": [
    {
     "name": "stdout",
     "output_type": "stream",
     "text": [
      "False\n",
      "True\n"
     ]
    }
   ],
   "source": [
    "print(palchecker('lasdkjfskf'))\n",
    "print(palchecker('radar'))"
   ]
  },
  {
   "cell_type": "markdown",
   "metadata": {},
   "source": [
    "# 无序表数据类型"
   ]
  },
  {
   "cell_type": "markdown",
   "metadata": {},
   "source": [
    "## 什么是列表？"
   ]
  },
  {
   "cell_type": "markdown",
   "metadata": {},
   "source": [
    "按照相对位置存放的数据集，例如第一个，第二个，第三个"
   ]
  },
  {
   "cell_type": "markdown",
   "metadata": {},
   "source": [
    "## 无序表"
   ]
  },
  {
   "cell_type": "markdown",
   "metadata": {},
   "source": [
    "在python的list数据容器中，对于指定位置数据项的操作进行了妥协，但对于链表，只需要说明这个数据项的内容和下一个数据项的位置，实现数据的有序排列"
   ]
  },
  {
   "cell_type": "code",
   "execution_count": 3,
   "metadata": {},
   "outputs": [],
   "source": [
    "class Node:\n",
    "    def __init__(self,initdata):\n",
    "        self.data=initdata\n",
    "        self.next=None\n",
    "    def getData(self):\n",
    "        return self.data\n",
    "    def getNext(self):\n",
    "        return self.next\n",
    "    def setData(self,newdata):#修改数据项和修改指向的函数\n",
    "        self.data=newdata\n",
    "    def setNext(self,newnext):\n",
    "        self.next=newnext"
   ]
  },
  {
   "cell_type": "markdown",
   "metadata": {},
   "source": [
    "通过链接节点的方式实现链表形式的无序表"
   ]
  },
  {
   "cell_type": "code",
   "execution_count": 10,
   "metadata": {},
   "outputs": [
    {
     "data": {
      "text/plain": [
       "93"
      ]
     },
     "execution_count": 10,
     "metadata": {},
     "output_type": "execute_result"
    }
   ],
   "source": [
    "temp=Node(93)\n",
    "temp.getData()"
   ]
  },
  {
   "cell_type": "code",
   "execution_count": 11,
   "metadata": {},
   "outputs": [],
   "source": [
    "class UnorderedList:\n",
    "    def __init__(self):\n",
    "        self.head=None\n",
    "    def add(self,item):\n",
    "        temp=Node(item)\n",
    "        temp.setNext(self.head)#必须先设置next然后再设置head，不然会整个链表丢失\n",
    "        self.head=temp#传递地址\n",
    "    def isEmpty():\n",
    "        return self.head==None\n",
    "    def size(self):\n",
    "        current=self.head\n",
    "        count=0\n",
    "        while current!=None:\n",
    "            count=count+1\n",
    "            current=current.getNext()\n",
    "        return count\n",
    "    def search(self,item):\n",
    "        current=self.head\n",
    "        found=False\n",
    "        while current!=None and not found:\n",
    "            if current.getData()==item:\n",
    "                found=True\n",
    "            else:\n",
    "                current=current.getNext()\n",
    "        return found\n",
    "    def remove(self,item):\n",
    "        current=self.head\n",
    "        previous=None\n",
    "        found=False\n",
    "        while not found:\n",
    "            if current.getData()==item:\n",
    "                found=True\n",
    "            else:\n",
    "                previous=current\n",
    "                current=current.getNext()\n",
    "        if previous==None:\n",
    "            self.head=current.getNext()\n",
    "        else:\n",
    "            previous.setNext(current.getNext())"
   ]
  },
  {
   "cell_type": "code",
   "execution_count": 12,
   "metadata": {},
   "outputs": [
    {
     "data": {
      "text/plain": [
       "14"
      ]
     },
     "execution_count": 12,
     "metadata": {},
     "output_type": "execute_result"
    }
   ],
   "source": [
    "l1=UnorderedList()\n",
    "l1.add(13)\n",
    "l1.add(14)\n",
    "l1.head.getData()"
   ]
  },
  {
   "cell_type": "markdown",
   "metadata": {},
   "source": [
    "有序表插入数据项时也要注意顺序，否则造成链表丢失"
   ]
  },
  {
   "cell_type": "code",
   "execution_count": 13,
   "metadata": {},
   "outputs": [],
   "source": [
    "class OrderedList:\n",
    "    def __init__(self):\n",
    "        self.head=None\n",
    "    def add(self,item):\n",
    "        current=self.head\n",
    "        previous=None\n",
    "        stop=False\n",
    "        while current!=None and not stop:\n",
    "            if current.getData()>item:\n",
    "                stop=True\n",
    "            else:\n",
    "                previous=current\n",
    "                current=current.getNext()\n",
    "        temp=Node(item)\n",
    "        if previous==None:\n",
    "            temp.setNext(self.head)\n",
    "            self.head=temp\n",
    "        else:\n",
    "            temp.setNext(current)\n",
    "            previous.setNext(temp)\n",
    "    def isEmpty():\n",
    "        return self.head==None\n",
    "    def size(self):\n",
    "        current=self.head\n",
    "        count=0\n",
    "        while current!=None:\n",
    "            count=count+1\n",
    "            current=current.getNext()\n",
    "        return count\n",
    "    def search(self,item):\n",
    "        current=self.head\n",
    "        found=False\n",
    "        stop=False\n",
    "        while current!=None and not found:\n",
    "            if current.getData()==item:\n",
    "                found=True\n",
    "            else:\n",
    "                if current.getData()>item:\n",
    "                    stop=True\n",
    "                else:\n",
    "                    current=current.getNext()\n",
    "        return found\n",
    "    def remove(self,item):\n",
    "        current=self.head\n",
    "        previous=None\n",
    "        found=False\n",
    "        while not found:\n",
    "            if current.getData()==item:\n",
    "                found=True\n",
    "            else:\n",
    "                previous=current\n",
    "                current=current.getNext()\n",
    "        if previous==None:\n",
    "            self.head=current.getNext()\n",
    "        else:\n",
    "            previous.setNext(current.getNext())"
   ]
  },
  {
   "cell_type": "code",
   "execution_count": 14,
   "metadata": {},
   "outputs": [],
   "source": [
    "l2=OrderedList()\n",
    "l2.add(15)\n",
    "l2.add(1)"
   ]
  },
  {
   "cell_type": "code",
   "execution_count": 15,
   "metadata": {},
   "outputs": [
    {
     "data": {
      "text/plain": [
       "100"
      ]
     },
     "execution_count": 15,
     "metadata": {},
     "output_type": "execute_result"
    }
   ],
   "source": [
    "l2.add(100)\n",
    "l2.head.getNext().getNext().getData()"
   ]
  },
  {
   "cell_type": "code",
   "execution_count": null,
   "metadata": {},
   "outputs": [],
   "source": []
  }
 ],
 "metadata": {
  "kernelspec": {
   "display_name": "Python [conda env:.conda-py3]",
   "language": "python",
   "name": "conda-env-.conda-py3-py"
  },
  "language_info": {
   "codemirror_mode": {
    "name": "ipython",
    "version": 3
   },
   "file_extension": ".py",
   "mimetype": "text/x-python",
   "name": "python",
   "nbconvert_exporter": "python",
   "pygments_lexer": "ipython3",
   "version": "3.8.5"
  }
 },
 "nbformat": 4,
 "nbformat_minor": 2
}
