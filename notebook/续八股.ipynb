{
 "cells": [
  {
   "cell_type": "markdown",
   "metadata": {},
   "source": [
    "## 自制数据集"
   ]
  },
  {
   "cell_type": "markdown",
   "metadata": {},
   "source": [
    "制作数据集我们需要训练用的二图片和标签文件，因此制作一个函数把图片路径(.jpg)和标签文件(.txt)作为一个函数的参数传进去，然后得到数据集。其中标签文件每一行文件名和标签对应，中间用空格隔开"
   ]
  },
  {
   "cell_type": "code",
   "execution_count": 9,
   "metadata": {},
   "outputs": [],
   "source": [
    "def generateds(path,txt):\n",
    "    f=open(txt,'r')\n",
    "    contents=f.readlines()\n",
    "    f.close()\n",
    "    x,y_=[],[]\n",
    "    for content in contents:\n",
    "        value=content.split()#用空格分开\n",
    "        img_path=path+value[0]\n",
    "        img=Image.open(img_path)\n",
    "        img=np.array(img.convert('L'))#L表示灰度图像.\n",
    "        img=img/255.\n",
    "        x.append(img)\n",
    "        y_.append(value[1])\n",
    "        print('loading:'+content)\n",
    "    x=np.array(x)\n",
    "    y_=np.array(y_)\n",
    "    y_=y_.astype(np.int64)\n",
    "    return x,y_"
   ]
  },
  {
   "cell_type": "markdown",
   "metadata": {},
   "source": [
    "更进一步的制作需要"
   ]
  },
  {
   "cell_type": "code",
   "execution_count": 10,
   "metadata": {},
   "outputs": [
    {
     "name": "stdout",
     "output_type": "stream",
     "text": [
      "------------load Datasets-------------\n"
     ]
    }
   ],
   "source": [
    "from PIL import Image\n",
    "import numpy as np\n",
    "import os\n",
    "\n",
    "train_path='C:\\\\GAN\\\\RESULTS\\\\tmp3emkobse\\\\'\n",
    "train_txt='C:\\python_work\\datasets\\mhganfigures.txt'\n",
    "x_train_savepath='.\\datasets\\cf10_x.npy'\n",
    "y_train_savepath='.\\datasets\\cf10_y.npy'\n",
    "\n",
    "if os.path.exists(x_train_savepath)and os.path.exists(y_train_savepath):\n",
    "    print('------------load Datasets-------------')\n",
    "    x_train_save=np.load(x_train_savepath)\n",
    "    y_train=np.load(y_train_savepath)\n",
    "    x_train=np.reshape(x_train_save,(len(x_train_save),530,530))#由打平的数组变成原图像\n",
    "else:\n",
    "    print('----------Generate Datasets-----------')\n",
    "    x_train,y_train=generateds(train_path,train_txt)\n",
    "    \n",
    "    print('----------Save Datasets----------')\n",
    "    x_train_save=np.reshape(x_train,(len(x_train),-1))#打平由(7, 530, 530)变成(7, 280900)\n",
    "    np.save(x_train_savepath,x_train_save)\n",
    "    np.save(y_train_savepath,y_train)"
   ]
  },
  {
   "cell_type": "markdown",
   "metadata": {},
   "source": [
    "## 数据增强"
   ]
  },
  {
   "cell_type": "code",
   "execution_count": 18,
   "metadata": {},
   "outputs": [],
   "source": [
    "import tensorflow as tf\n",
    "from tensorflow.keras.preprocessing.image import ImageDataGenerator\n",
    "\n",
    "image_gen_train=ImageDataGenerator(\n",
    "    rescale=1.0/1.0,#如果是图像，分母为255时，可以归至0-1\n",
    "    rotation_range=45,#随机45度旋转，可以是区间表示范围\n",
    "    width_shift_range=0.15,#随机宽度偏移量\n",
    "    height_shift_range=0.15,#\n",
    "    horizontal_flip=False,#水平翻转\n",
    "    zoom_range=0.5)#将图像随机缩放，范围([1-n,1+n])"
   ]
  },
  {
   "cell_type": "markdown",
   "metadata": {},
   "source": [
    "这里的fit需要输入一个四维数组（四通道），因此需要进行reshape"
   ]
  },
  {
   "cell_type": "code",
   "execution_count": 17,
   "metadata": {},
   "outputs": [],
   "source": [
    "x_train=x_train.reshape(x_train.shape[0],530,530,1)\n",
    "image_gen_train.fit(x_train)"
   ]
  },
  {
   "cell_type": "markdown",
   "metadata": {},
   "source": [
    "## 利用增强的图片数据进行训练"
   ]
  },
  {
   "cell_type": "code",
   "execution_count": 4,
   "metadata": {},
   "outputs": [
    {
     "name": "stdout",
     "output_type": "stream",
     "text": [
      "Train for 1875 steps, validate on 10000 samples\n",
      "Epoch 1/5\n",
      "1875/1875 [==============================] - 24s 13ms/step - loss: 1.5172 - sparse_categorical_accuracy: 0.4543 - val_loss: 1.0023 - val_sparse_categorical_accuracy: 0.6530\n",
      "Epoch 2/5\n",
      "1875/1875 [==============================] - 24s 13ms/step - loss: 1.2771 - sparse_categorical_accuracy: 0.5404 - val_loss: 0.9645 - val_sparse_categorical_accuracy: 0.6563\n",
      "Epoch 3/5\n",
      "1875/1875 [==============================] - 27s 14ms/step - loss: 1.2017 - sparse_categorical_accuracy: 0.5653 - val_loss: 0.8727 - val_sparse_categorical_accuracy: 0.6787\n",
      "Epoch 4/5\n",
      "1875/1875 [==============================] - 24s 13ms/step - loss: 1.1543 - sparse_categorical_accuracy: 0.5820 - val_loss: 0.8932 - val_sparse_categorical_accuracy: 0.6673\n",
      "Epoch 5/5\n",
      "1875/1875 [==============================] - 27s 14ms/step - loss: 1.1263 - sparse_categorical_accuracy: 0.5909 - val_loss: 0.9051 - val_sparse_categorical_accuracy: 0.6380\n",
      "Model: \"sequential_3\"\n",
      "_________________________________________________________________\n",
      "Layer (type)                 Output Shape              Param #   \n",
      "=================================================================\n",
      "flatten_3 (Flatten)          multiple                  0         \n",
      "_________________________________________________________________\n",
      "dense_6 (Dense)              multiple                  100480    \n",
      "_________________________________________________________________\n",
      "dense_7 (Dense)              multiple                  1290      \n",
      "=================================================================\n",
      "Total params: 101,770\n",
      "Trainable params: 101,770\n",
      "Non-trainable params: 0\n",
      "_________________________________________________________________\n"
     ]
    }
   ],
   "source": [
    "import tensorflow as tf\n",
    "from tensorflow.keras.preprocessing.image import ImageDataGenerator\n",
    "\n",
    "fashion=tf.keras.datasets.fashion_mnist\n",
    "(x_train,y_train),(x_test,y_test)=fashion.load_data()\n",
    "x_train,x_test=x_train/255,x_test/255\n",
    "x_train=x_train.reshape(x_train.shape[0],28,28,1)\n",
    "\n",
    "image_gen_train=ImageDataGenerator(\n",
    "    rescale=1.0/1.0,#如果是图像，分母为255时，可以归至0-1\n",
    "    rotation_range=45,#随机45度旋转，可以是区间表示范围\n",
    "    width_shift_range=0.15,#随机宽度偏移量\n",
    "    height_shift_range=0.15,#\n",
    "    horizontal_flip=True,#水平翻转\n",
    "    zoom_range=0.5)#将图像随机缩放，范围([1-n,1+n])\n",
    "image_gen_train.fit(x_train)\n",
    "\n",
    "model=tf.keras.models.Sequential([\n",
    "    tf.keras.layers.Flatten(),\n",
    "    tf.keras.layers.Dense(128,activation='relu'),\n",
    "    tf.keras.layers.Dense(10,activation='softmax')\n",
    "])\n",
    "\n",
    "model.compile(\n",
    "    optimizer='adam',\n",
    "    loss=tf.keras.losses.SparseCategoricalCrossentropy(from_logits=False),\n",
    "    metrics=['sparse_categorical_accuracy'])\n",
    "model.fit(image_gen_train.flow(x_train,y_train,batch_size=32),epochs=5,validation_data=(x_test,y_test),validation_freq=1)#以flow形式打包喂入网络\n",
    "model.summary()"
   ]
  },
  {
   "cell_type": "markdown",
   "metadata": {},
   "source": [
    "## 断点续训"
   ]
  },
  {
   "cell_type": "code",
   "execution_count": 18,
   "metadata": {},
   "outputs": [
    {
     "name": "stdout",
     "output_type": "stream",
     "text": [
      "------------load the model----------\n",
      "Train on 60000 samples, validate on 10000 samples\n",
      "Epoch 1/5\n",
      "60000/60000 [==============================] - 5s 90us/sample - loss: 0.0060 - sparse_categorical_accuracy: 0.9980 - val_loss: 0.1340 - val_sparse_categorical_accuracy: 0.9751\n",
      "Epoch 2/5\n",
      "60000/60000 [==============================] - 4s 74us/sample - loss: 0.0041 - sparse_categorical_accuracy: 0.9987 - val_loss: 0.1014 - val_sparse_categorical_accuracy: 0.9801\n",
      "Epoch 3/5\n",
      "60000/60000 [==============================] - 5s 76us/sample - loss: 0.0053 - sparse_categorical_accuracy: 0.9981 - val_loss: 0.0974 - val_sparse_categorical_accuracy: 0.9800\n",
      "Epoch 4/5\n",
      "60000/60000 [==============================] - 4s 73us/sample - loss: 0.0043 - sparse_categorical_accuracy: 0.9985 - val_loss: 0.1138 - val_sparse_categorical_accuracy: 0.9781\n",
      "Epoch 5/5\n",
      "60000/60000 [==============================] - 4s 73us/sample - loss: 0.0055 - sparse_categorical_accuracy: 0.9982 - val_loss: 0.1153 - val_sparse_categorical_accuracy: 0.9784\n",
      "Model: \"sequential_15\"\n",
      "_________________________________________________________________\n",
      "Layer (type)                 Output Shape              Param #   \n",
      "=================================================================\n",
      "flatten_16 (Flatten)         multiple                  0         \n",
      "_________________________________________________________________\n",
      "dense_31 (Dense)             multiple                  100480    \n",
      "_________________________________________________________________\n",
      "dense_32 (Dense)             multiple                  1290      \n",
      "=================================================================\n",
      "Total params: 101,770\n",
      "Trainable params: 101,770\n",
      "Non-trainable params: 0\n",
      "_________________________________________________________________\n"
     ]
    }
   ],
   "source": [
    "import tensorflow as tf\n",
    "import os\n",
    "\n",
    "mnist=tf.keras.datasets.mnist\n",
    "(x_train,y_train),(x_test,y_test)=mnist.load_data()\n",
    "x_train,x_test=x_train/255.,x_test/255.\n",
    "\n",
    "model=tf.keras.models.Sequential([\n",
    "    tf.keras.layers.Flatten(),\n",
    "    tf.keras.layers.Dense(128,activation='relu'),\n",
    "    tf.keras.layers.Dense(10,activation='softmax')\n",
    "])\n",
    "\n",
    "checkpoint_save_path='.\\checkpoint\\mnist.ckpt'\n",
    "if os.path.exists(checkpoint_save_path+'.index'):\n",
    "    print('------------load the model----------')\n",
    "    model.load_weights(checkpoint_save_path)\n",
    "    \n",
    "cp_callback=tf.keras.callbacks.ModelCheckpoint(filepath=checkpoint_save_path,\n",
    "                                              save_weights_only=True,#只保留权重\n",
    "                                              save_best_only=True)#只保留最优\n",
    "\n",
    "model.compile(optimizer='adam',\n",
    "             loss=tf.keras.losses.SparseCategoricalCrossentropy(from_logits=False),\n",
    "             metrics=['sparse_categorical_accuracy'])\n",
    "\n",
    "history=model.fit(x_train,y_train,batch_size=32,epochs=5,validation_data=(x_test,y_test),validation_freq=1,\n",
    "                 callbacks=[cp_callback])\n",
    "model.summary()"
   ]
  },
  {
   "cell_type": "markdown",
   "metadata": {},
   "source": [
    "## 提取可训练参数"
   ]
  },
  {
   "cell_type": "markdown",
   "metadata": {},
   "source": [
    "为了查看模型中可训练参数的值，我们可以用print函数，但直接使用print会出现很多省略号，因此，我们需要设置阈值<center>np.set_printoptions(threshold=np.inf)</center>其中threshold表示超过多少省略显示，在上一次代码的基础上继续完善"
   ]
  },
  {
   "cell_type": "code",
   "execution_count": 4,
   "metadata": {},
   "outputs": [
    {
     "name": "stdout",
     "output_type": "stream",
     "text": [
      "------------load the model----------\n",
      "Train on 60000 samples, validate on 10000 samples\n",
      "Epoch 1/5\n",
      "60000/60000 [==============================] - 9s 143us/sample - loss: 0.0025 - sparse_categorical_accuracy: 0.9993 - val_loss: 0.1314 - val_sparse_categorical_accuracy: 0.9764\n",
      "Epoch 2/5\n",
      "60000/60000 [==============================] - 8s 127us/sample - loss: 0.0048 - sparse_categorical_accuracy: 0.9982 - val_loss: 0.1211 - val_sparse_categorical_accuracy: 0.9776\n",
      "Epoch 3/5\n",
      "60000/60000 [==============================] - 8s 125us/sample - loss: 0.0032 - sparse_categorical_accuracy: 0.9991 - val_loss: 0.1287 - val_sparse_categorical_accuracy: 0.9792\n",
      "Epoch 4/5\n",
      "60000/60000 [==============================] - 8s 130us/sample - loss: 0.0037 - sparse_categorical_accuracy: 0.9988 - val_loss: 0.1314 - val_sparse_categorical_accuracy: 0.9787\n",
      "Epoch 5/5\n",
      "60000/60000 [==============================] - 8s 129us/sample - loss: 0.0045 - sparse_categorical_accuracy: 0.9985 - val_loss: 0.1399 - val_sparse_categorical_accuracy: 0.9779\n",
      "Model: \"sequential_2\"\n",
      "_________________________________________________________________\n",
      "Layer (type)                 Output Shape              Param #   \n",
      "=================================================================\n",
      "flatten_2 (Flatten)          multiple                  0         \n",
      "_________________________________________________________________\n",
      "dense_4 (Dense)              multiple                  100480    \n",
      "_________________________________________________________________\n",
      "dense_5 (Dense)              multiple                  1290      \n",
      "=================================================================\n",
      "Total params: 101,770\n",
      "Trainable params: 101,770\n",
      "Non-trainable params: 0\n",
      "_________________________________________________________________\n"
     ]
    }
   ],
   "source": [
    "import tensorflow as tf\n",
    "import os\n",
    "import numpy as np\n",
    "\n",
    "np.set_printoptions(threshold=np.inf)\n",
    "\n",
    "mnist=tf.keras.datasets.mnist\n",
    "(x_train,y_train),(x_test,y_test)=mnist.load_data()\n",
    "x_train,x_test=x_train/255.,x_test/255.\n",
    "\n",
    "model=tf.keras.models.Sequential([\n",
    "    tf.keras.layers.Flatten(),\n",
    "    tf.keras.layers.Dense(128,activation='relu'),\n",
    "    tf.keras.layers.Dense(10,activation='softmax')\n",
    "])\n",
    "\n",
    "checkpoint_save_path='.\\checkpoint\\mnist.ckpt'\n",
    "if os.path.exists(checkpoint_save_path+'.index'):\n",
    "    print('------------load the model----------')\n",
    "    model.load_weights(checkpoint_save_path)\n",
    "    \n",
    "cp_callback=tf.keras.callbacks.ModelCheckpoint(filepath=checkpoint_save_path,\n",
    "                                              save_weights_only=True,#只保留权重\n",
    "                                              save_best_only=True)#只保留最优\n",
    "\n",
    "model.compile(optimizer='adam',\n",
    "             loss=tf.keras.losses.SparseCategoricalCrossentropy(from_logits=False),\n",
    "             metrics=['sparse_categorical_accuracy'])\n",
    "\n",
    "history=model.fit(x_train,y_train,batch_size=32,epochs=5,validation_data=(x_test,y_test),validation_freq=1,\n",
    "                 callbacks=[cp_callback])\n",
    "model.summary()\n",
    "\n",
    "#print(model.trainable_variables)#为了美观，此行注释\n",
    "file=open('.\\weights.txt','w')\n",
    "for v in model.trainable_variables:\n",
    "    file.write(str(v.name)+'\\n')\n",
    "    file.write(str(v.shape)+'\\n')\n",
    "    file.write(str(v.numpy())+'\\n')\n",
    "file.close()"
   ]
  },
  {
   "cell_type": "markdown",
   "metadata": {},
   "source": [
    "## 可视化acc和loss"
   ]
  },
  {
   "cell_type": "markdown",
   "metadata": {},
   "source": [
    "继续在上一次的代码上进行补充"
   ]
  },
  {
   "cell_type": "code",
   "execution_count": 7,
   "metadata": {},
   "outputs": [
    {
     "name": "stdout",
     "output_type": "stream",
     "text": [
      "------------load the model----------\n",
      "Train on 60000 samples, validate on 10000 samples\n",
      "Epoch 1/5\n",
      "60000/60000 [==============================] - 9s 144us/sample - loss: 0.0028 - sparse_categorical_accuracy: 0.9991 - val_loss: 0.1487 - val_sparse_categorical_accuracy: 0.9796\n",
      "Epoch 2/5\n",
      "60000/60000 [==============================] - 8s 128us/sample - loss: 0.0041 - sparse_categorical_accuracy: 0.9988 - val_loss: 0.1546 - val_sparse_categorical_accuracy: 0.9770\n",
      "Epoch 3/5\n",
      "60000/60000 [==============================] - 8s 132us/sample - loss: 0.0019 - sparse_categorical_accuracy: 0.9994 - val_loss: 0.1435 - val_sparse_categorical_accuracy: 0.9801\n",
      "Epoch 4/5\n",
      "60000/60000 [==============================] - 8s 126us/sample - loss: 0.0035 - sparse_categorical_accuracy: 0.9988 - val_loss: 0.1496 - val_sparse_categorical_accuracy: 0.9790\n",
      "Epoch 5/5\n",
      "60000/60000 [==============================] - 8s 128us/sample - loss: 0.0042 - sparse_categorical_accuracy: 0.9986 - val_loss: 0.1496 - val_sparse_categorical_accuracy: 0.9799\n",
      "Model: \"sequential_5\"\n",
      "_________________________________________________________________\n",
      "Layer (type)                 Output Shape              Param #   \n",
      "=================================================================\n",
      "flatten_5 (Flatten)          multiple                  0         \n",
      "_________________________________________________________________\n",
      "dense_10 (Dense)             multiple                  100480    \n",
      "_________________________________________________________________\n",
      "dense_11 (Dense)             multiple                  1290      \n",
      "=================================================================\n",
      "Total params: 101,770\n",
      "Trainable params: 101,770\n",
      "Non-trainable params: 0\n",
      "_________________________________________________________________\n"
     ]
    },
    {
     "data": {
      "image/png": "[encoded data removed]",
      "text/plain": [
       "<Figure size 432x288 with 4 Axes>"
      ]
     },
     "metadata": {
      "needs_background": "light"
     },
     "output_type": "display_data"
    }
   ],
   "source": [
    "import tensorflow as tf\n",
    "import os\n",
    "import numpy as np\n",
    "import matplotlib.pyplot as plt\n",
    "\n",
    "mnist=tf.keras.datasets.mnist\n",
    "(x_train,y_train),(x_test,y_test)=mnist.load_data()\n",
    "x_train,x_test=x_train/255.,x_test/255.\n",
    "\n",
    "model=tf.keras.models.Sequential([\n",
    "    tf.keras.layers.Flatten(),\n",
    "    tf.keras.layers.Dense(128,activation='relu'),\n",
    "    tf.keras.layers.Dense(10,activation='softmax')\n",
    "])\n",
    "\n",
    "checkpoint_save_path='.\\checkpoint\\mnist.ckpt'\n",
    "if os.path.exists(checkpoint_save_path+'.index'):\n",
    "    print('------------load the model----------')\n",
    "    model.load_weights(checkpoint_save_path)\n",
    "    \n",
    "cp_callback=tf.keras.callbacks.ModelCheckpoint(filepath=checkpoint_save_path,\n",
    "                                              save_weights_only=True,#只保留权重\n",
    "                                              save_best_only=True)#只保留最优\n",
    "\n",
    "model.compile(optimizer='adam',\n",
    "             loss=tf.keras.losses.SparseCategoricalCrossentropy(from_logits=False),\n",
    "             metrics=['sparse_categorical_accuracy'])\n",
    "\n",
    "history=model.fit(x_train,y_train,batch_size=32,epochs=5,validation_data=(x_test,y_test),validation_freq=1,\n",
    "                 callbacks=[cp_callback])\n",
    "model.summary()\n",
    "\n",
    "acc=history.history['sparse_categorical_accuracy']\n",
    "val_acc=history.history['val_sparse_categorical_accuracy']\n",
    "loss=history.history['loss']\n",
    "val_loss=history.history['val_loss']\n",
    "\n",
    "plt.subplot(2,2,1)\n",
    "plt.plot(acc)\n",
    "plt.title('Training Accuracy')\n",
    "plt.subplot(2,2,2)\n",
    "plt.plot(val_acc)\n",
    "plt.title('Validation Accuracy')\n",
    "plt.subplot(2,2,3)\n",
    "plt.plot(loss)\n",
    "plt.title('Training Loss')\n",
    "plt.subplot(2,2,4)\n",
    "plt.plot(val_loss)\n",
    "plt.title('Validation Loss')\n",
    "#plt.subplots_adjust(wspace=1.5,hspace=1)\n",
    "plt.show()"
   ]
  },
  {
   "cell_type": "markdown",
   "metadata": {},
   "source": [
    "## 绘图识物"
   ]
  },
  {
   "cell_type": "code",
   "execution_count": 6,
   "metadata": {},
   "outputs": [
    {
     "name": "stdout",
     "output_type": "stream",
     "text": [
      "------------load the model----------\n",
      "Train on 60000 samples, validate on 10000 samples\n",
      "Epoch 1/5\n",
      "60000/60000 [==============================] - 8s 137us/sample - loss: 0.0280 - sparse_categorical_accuracy: 0.9913 - val_loss: 0.0839 - val_sparse_categorical_accuracy: 0.9763\n",
      "Epoch 2/5\n",
      "60000/60000 [==============================] - 5s 90us/sample - loss: 0.0230 - sparse_categorical_accuracy: 0.9929 - val_loss: 0.0751 - val_sparse_categorical_accuracy: 0.9790\n",
      "Epoch 3/5\n",
      "60000/60000 [==============================] - 6s 92us/sample - loss: 0.0197 - sparse_categorical_accuracy: 0.9939 - val_loss: 0.0818 - val_sparse_categorical_accuracy: 0.9774\n",
      "Epoch 4/5\n",
      "60000/60000 [==============================] - 5s 85us/sample - loss: 0.0156 - sparse_categorical_accuracy: 0.9952 - val_loss: 0.0836 - val_sparse_categorical_accuracy: 0.9770\n",
      "Epoch 5/5\n",
      "60000/60000 [==============================] - 5s 90us/sample - loss: 0.0137 - sparse_categorical_accuracy: 0.9958 - val_loss: 0.0805 - val_sparse_categorical_accuracy: 0.9790\n",
      "Model: \"sequential_5\"\n",
      "_________________________________________________________________\n",
      "Layer (type)                 Output Shape              Param #   \n",
      "=================================================================\n",
      "flatten_5 (Flatten)          multiple                  0         \n",
      "_________________________________________________________________\n",
      "dense_10 (Dense)             multiple                  100480    \n",
      "_________________________________________________________________\n",
      "dense_11 (Dense)             multiple                  1290      \n",
      "=================================================================\n",
      "Total params: 101,770\n",
      "Trainable params: 101,770\n",
      "Non-trainable params: 0\n",
      "_________________________________________________________________\n",
      "input the number of test pictures:3\n",
      "the path of test pictures1.jpg\n"
     ]
    },
    {
     "data": {
      "image/png": "[encoded data removed]",
      "text/plain": [
       "<Figure size 432x288 with 1 Axes>"
      ]
     },
     "metadata": {
      "needs_background": "light"
     },
     "output_type": "display_data"
    },
    {
     "name": "stdout",
     "output_type": "stream",
     "text": [
      "\n",
      "\n",
      "[4]\n",
      "the path of test pictures2.jpg\n"
     ]
    },
    {
     "data": {
      "image/png": "[encoded data removed]",
      "text/plain": [
       "<Figure size 432x288 with 1 Axes>"
      ]
     },
     "metadata": {
      "needs_background": "light"
     },
     "output_type": "display_data"
    },
    {
     "name": "stdout",
     "output_type": "stream",
     "text": [
      "\n",
      "\n",
      "[1]\n",
      "the path of test pictures6.jpg\n"
     ]
    },
    {
     "data": {
      "image/png": "[encoded data removed]",
      "text/plain": [
       "<Figure size 432x288 with 1 Axes>"
      ]
     },
     "metadata": {
      "needs_background": "light"
     },
     "output_type": "display_data"
    },
    {
     "name": "stdout",
     "output_type": "stream",
     "text": [
      "\n",
      "\n",
      "[6]\r\n"
     ]
    }
   ],
   "source": [
    "import tensorflow as tf\n",
    "import os\n",
    "from PIL import Image\n",
    "import numpy as np\n",
    "import matplotlib.pyplot as plt\n",
    "\n",
    "mnist=tf.keras.datasets.mnist\n",
    "(x_train,y_train),(x_test,y_test)=mnist.load_data()\n",
    "x_train,x_test=x_train/255.,x_test/255.\n",
    "\n",
    "model=tf.keras.models.Sequential([\n",
    "    tf.keras.layers.Flatten(),\n",
    "    tf.keras.layers.Dense(128,activation='relu'),\n",
    "    tf.keras.layers.Dense(10,activation='softmax')\n",
    "])\n",
    "\n",
    "checkpoint_save_path='.\\checkpoint\\mnist.ckpt'\n",
    "if os.path.exists(checkpoint_save_path+'.index'):\n",
    "    print('------------load the model----------')\n",
    "    model.load_weights(checkpoint_save_path)\n",
    "    \n",
    "cp_callback=tf.keras.callbacks.ModelCheckpoint(filepath=checkpoint_save_path,\n",
    "                                              save_weights_only=True,#只保留权重\n",
    "                                              save_best_only=True)#只保留最优\n",
    "\n",
    "model.compile(optimizer='adam',\n",
    "             loss=tf.keras.losses.SparseCategoricalCrossentropy(from_logits=False),\n",
    "             metrics=['sparse_categorical_accuracy'])\n",
    "\n",
    "history=model.fit(x_train,y_train,batch_size=32,epochs=5,validation_data=(x_test,y_test),validation_freq=1,\n",
    "                 callbacks=[cp_callback])#预测结果时不用训练\n",
    "model.summary()\n",
    "\n",
    "preNum=int(input('input the number of test pictures:'))\n",
    "for i in range(preNum):\n",
    "    image_path=input('the path of test pictures')\n",
    "    img=Image.open(image_path)\n",
    "    img=img.resize((28,28),Image.ANTIALIAS)\n",
    "    img_arr=np.array(img.convert('L'))\n",
    "    \n",
    "    #mnist数据集都是黑底白字，需要颜色反转，且增加对比度\n",
    "    for i in range(28):\n",
    "        for j in range(28):\n",
    "            if img_arr[i][j]>160:\n",
    "                img_arr[i][j]=0\n",
    "            else:\n",
    "                img_arr[i][j]=255\n",
    "    #img_arr=255-img_arr#两种方法选其一就行\n",
    "    plt.imshow(img_arr,cmap='gray')\n",
    "    plt.show()\n",
    "    img_arr=img_arr/255.\n",
    "    x_predict=img_arr[tf.newaxis,...]#w喂入神经网络前都是按照batch送入，因此变成[1,28,28]大小的图片\n",
    "    result=model.predict(x_predict)\n",
    "    pred=tf.argmax(result,axis=1)\n",
    "    print('\\n')\n",
    "    tf.print(pred)"
   ]
  },
  {
   "cell_type": "code",
   "execution_count": null,
   "metadata": {},
   "outputs": [],
   "source": []
  }
 ],
 "metadata": {
  "kernelspec": {
   "display_name": "Python [conda env:.conda-tensor]",
   "language": "python",
   "name": "conda-env-.conda-tensor-py"
  },
  "language_info": {
   "codemirror_mode": {
    "name": "ipython",
    "version": 3
   },
   "file_extension": ".py",
   "mimetype": "text/x-python",
   "name": "python",
   "nbconvert_exporter": "python",
   "pygments_lexer": "ipython3",
   "version": "3.7.6"
  }
 },
 "nbformat": 4,
 "nbformat_minor": 2
}
