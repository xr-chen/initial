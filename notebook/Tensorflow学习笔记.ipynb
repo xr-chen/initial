{
 "cells": [
  {
   "cell_type": "code",
   "execution_count": 1,
   "metadata": {},
   "outputs": [
    {
     "data": {
      "text/plain": [
       "'2.1.0'"
      ]
     },
     "execution_count": 1,
     "metadata": {},
     "output_type": "execute_result"
    }
   ],
   "source": [
    "import tensorflow as tf\n",
    "tf.__version__"
   ]
  },
  {
   "cell_type": "markdown",
   "metadata": {},
   "source": [
    "# 线性模型实战"
   ]
  },
  {
   "cell_type": "markdown",
   "metadata": {},
   "source": [
    "## 采样数据"
   ]
  },
  {
   "cell_type": "markdown",
   "metadata": {},
   "source": [
    "为了能够很好地模拟真实样本的观测误差，我们给模型添加误差自变量$\\epsilon$，它采样自均 值为 0，方差为 0.01 的高斯分布："
   ]
  },
  {
   "cell_type": "markdown",
   "metadata": {},
   "source": [
    "\\begin{equation}\n",
    "𝑦=1.477x+0.089+\\epsilon,\\epsilon\\sim\\mathcal{N}(0,0.01)\n",
    "\\end{equation}"
   ]
  },
  {
   "cell_type": "code",
   "execution_count": 1,
   "metadata": {},
   "outputs": [],
   "source": [
    "import numpy as np\n",
    "data=[]\n",
    "for i in range(100):\n",
    "    x=np.random.uniform(-10,10)\n",
    "    eps=np.random.normal(0,0.1)\n",
    "    y=1.477*x+0.089+eps\n",
    "    data.append([x,y])\n",
    "data=np.array(data)"
   ]
  },
  {
   "cell_type": "markdown",
   "metadata": {},
   "source": [
    "定义误差函数：\n",
    "$$\n",
    "\\mathcal{L}=\\sum_{i=0}^{n}(wx^{(i)}+b-y^{(i)})^2\n",
    "$$"
   ]
  },
  {
   "cell_type": "code",
   "execution_count": 2,
   "metadata": {},
   "outputs": [],
   "source": [
    "def mse(b,w,points):\n",
    "    totalError=0\n",
    "    for i in range(0,len(points)):\n",
    "        x=points[i,0]\n",
    "        y=points[i,1]\n",
    "        totalError=totalError+(y-(w*x+b))**2\n",
    "    return totalError/float(len(points))"
   ]
  },
  {
   "cell_type": "markdown",
   "metadata": {},
   "source": [
    "计算偏导数$$\n",
    "\\frac{\\partial{\\mathcal{L}}}{\\partial{w}} \\quad\\frac{\\partial{\\mathcal{L}}}{\\partial{b}}\n",
    "$$"
   ]
  },
  {
   "cell_type": "code",
   "execution_count": 3,
   "metadata": {},
   "outputs": [],
   "source": [
    "def step_gradient(b_current,w_current,points,lr):\n",
    "    b_gradient=0\n",
    "    w_gradient=0\n",
    "    M=float(len(points))\n",
    "    for i in range(0,len(points)):\n",
    "        x=points[i,0]\n",
    "        y=points[i,1]\n",
    "        # 误差函数对 b 的导数：grad_b = 2(wx+b-y)，\n",
    "        b_gradient=b_gradient+(2/M)*((w_current*x+b_current)-y)\n",
    "        w_gradient=w_gradient+(2/M)*x*((w_current*x+b_current)-y)\n",
    "    new_b=b_current-(lr*b_gradient)\n",
    "    new_w=w_current-(lr*w_gradient)\n",
    "    return(new_b,new_w)"
   ]
  },
  {
   "cell_type": "markdown",
   "metadata": {},
   "source": [
    "计算出误差函数在w和b处的梯度后，我们可以更新w和b的取值，我们把对数据集的所有样本训练一次称为一个Epoch，共循环迭代num_iterations个Epoch"
   ]
  },
  {
   "cell_type": "code",
   "execution_count": 4,
   "metadata": {},
   "outputs": [],
   "source": [
    "def gradient_descent(points,starting_b,starting_w,lr,num_iterations):\n",
    "    b=starting_b\n",
    "    w=starting_w\n",
    "    for step in range(num_iterations):\n",
    "        b,w=step_gradient(b,w,np.array(points),lr)\n",
    "        loss=mse(b,w,points)#计算当前的均方误差，监控训练进度\n",
    "        if step%50==0:#打印误差和实时的w,b值\n",
    "            print(f\"iteration:{step},loss:{loss},w:{w},b:{b}\")\n",
    "    return [b,w]#返回最后一次的w,b"
   ]
  },
  {
   "cell_type": "markdown",
   "metadata": {},
   "source": [
    "定义主训练函数："
   ]
  },
  {
   "cell_type": "code",
   "execution_count": 5,
   "metadata": {},
   "outputs": [
    {
     "name": "stdout",
     "output_type": "stream",
     "text": [
      "iteration:0,loss:5.582514830509888,w:1.0899745412140727,b:0.016216730381409184\n",
      "iteration:50,loss:0.009282539530900975,w:1.4779034358745997,b:0.07295500223058995\n",
      "iteration:100,loss:0.008517190788099734,w:1.4776509317213995,b:0.09184908751576783\n",
      "iteration:150,loss:0.008414355324518511,w:1.4775583745030108,b:0.09877485073918538\n",
      "iteration:200,loss:0.00840053792079317,w:1.4775244469870976,b:0.10131353919659762\n",
      "iteration:250,loss:0.00839868135653936,w:1.477512010611458,b:0.10224411375941353\n",
      "iteration:300,loss:0.008398431900787984,w:1.4775074519682776,b:0.10258522257661858\n",
      "iteration:350,loss:0.00839839838286811,w:1.4775057809647434,b:0.10271025847360557\n",
      "iteration:400,loss:0.008398393879259971,w:1.4775051684463467,b:0.1027560912833918\n",
      "iteration:450,loss:0.008398393274136296,w:1.477504943923311,b:0.10277289163036028\n",
      "iteration:500,loss:0.008398393192829345,w:1.477504861622773,b:0.10277904991870393\n",
      "iteration:550,loss:0.008398393181904612,w:1.4775048314549173,b:0.10278130728370914\n",
      "iteration:600,loss:0.008398393180436722,w:1.4775048203966723,b:0.10278213473713171\n",
      "iteration:650,loss:0.008398393180239468,w:1.4775048163431928,b:0.10278243804615135\n",
      "iteration:700,loss:0.008398393180212974,w:1.4775048148573606,b:0.10278254922625989\n",
      "iteration:750,loss:0.008398393180209424,w:1.477504814312718,b:0.10278258998013043\n",
      "iteration:800,loss:0.008398393180208925,w:1.4775048141130755,b:0.10278260491875563\n",
      "iteration:850,loss:0.008398393180208885,w:1.477504814039895,b:0.10278261039461642\n",
      "iteration:900,loss:0.00839839318020887,w:1.4775048140130702,b:0.10278261240183272\n",
      "iteration:950,loss:0.008398393180208864,w:1.4775048140032374,b:0.1027826131375923\n",
      "Final loss:0.008398393180208881,w:1.4775048139996754,b:0.10278261340412607\n"
     ]
    }
   ],
   "source": [
    "lr=0.01\n",
    "initial_b=0\n",
    "initial_w=0\n",
    "num_iterations=1000\n",
    "[b,w]=gradient_descent(data,initial_b,initial_w,lr,num_iterations)\n",
    "loss=mse(b,w,data)\n",
    "print(f'Final loss:{loss},w:{w},b:{b}')"
   ]
  },
  {
   "cell_type": "markdown",
   "metadata": {},
   "source": [
    "和最小二乘法相比，结果极其相近"
   ]
  },
  {
   "cell_type": "code",
   "execution_count": 6,
   "metadata": {
    "scrolled": true
   },
   "outputs": [
    {
     "data": {
      "text/plain": [
       "array([1.47750481, 0.10278261])"
      ]
     },
     "execution_count": 6,
     "metadata": {},
     "output_type": "execute_result"
    }
   ],
   "source": [
    "np.polyfit(data[:,0],data[:,1],1)"
   ]
  },
  {
   "cell_type": "markdown",
   "metadata": {},
   "source": [
    "# 分类问题"
   ]
  },
  {
   "cell_type": "markdown",
   "metadata": {},
   "source": [
    "这里使用mnist数据集来测试"
   ]
  },
  {
   "cell_type": "code",
   "execution_count": 1,
   "metadata": {},
   "outputs": [
    {
     "name": "stdout",
     "output_type": "stream",
     "text": [
      "(60000, 28, 28) (60000, 10)\n"
     ]
    }
   ],
   "source": [
    "import os\n",
    "import tensorflow as tf\n",
    "from tensorflow import keras\n",
    "from tensorflow.keras import layers,optimizers,datasets\n",
    "\n",
    "(x,y),(x_val,y_val)=datasets.mnist.load_data('C:\\\\Users\\\\xr chen\\\\Downloads\\\\mnist.npz')\n",
    "x=2*tf.convert_to_tensor(x,dtype=tf.float32)/255-1\n",
    "y=tf.convert_to_tensor(y,dtype=tf.int32)\n",
    "y=tf.one_hot(y,depth=10)\n",
    "print(x.shape,y.shape)\n",
    "train_dataset=tf.data.Dataset.from_tensor_slices((x,y))#构建数据集对象\n",
    "train_dataset=train_dataset.batch(512)#批量训练"
   ]
  },
  {
   "cell_type": "markdown",
   "metadata": {},
   "source": [
    "load_data()函数返回两个元组(tuple)对象，第一个是训练集，第二个是测试集，每个 tuple 的第一个元素是多个训练图片数据X，第二个元素是训练图片对应的类别数字Y。其中训练集X的大小为(60000,28,28)，代表了 60000 个样本，每个样本由 28 行、28 列构成。"
   ]
  },
  {
   "cell_type": "markdown",
   "metadata": {},
   "source": [
    "从 TensorFlow 中加载的 MNIST 数据图片，数值的范围在[0,255]之间。在机器学习中 间，一般希望数据的范围在 0 周围小范围内分布。通过预处理步骤，我们把[0,255]像素范 围归一化(Normalize)到[0,1.]区间，再缩放到[−1,1]区间，从而有利于模型的训练"
   ]
  },
  {
   "cell_type": "markdown",
   "metadata": {},
   "source": [
    "如果物体属 于第𝑖类的话，那么索引为𝑖的位置上设置为 1，其他位置设置为 0，我们把这种编码方式叫 做 one-hot 编码(独热编码)"
   ]
  },
  {
   "cell_type": "markdown",
   "metadata": {},
   "source": [
    "One-hot 编码是非常稀疏 (Sparse)的，相对于数字编码来说，占用较多的存储空间，所以一般在存储时还是采用数字 编码，在计算时，根据需要来把数字编码转换成 One-hot 编码"
   ]
  },
  {
   "cell_type": "code",
   "execution_count": 3,
   "metadata": {},
   "outputs": [
    {
     "name": "stdout",
     "output_type": "stream",
     "text": [
      "tf.Tensor(\n",
      "[[1. 0. 0. 0. 0. 0. 0. 0. 0. 0.]\n",
      " [0. 1. 0. 0. 0. 0. 0. 0. 0. 0.]\n",
      " [0. 0. 1. 0. 0. 0. 0. 0. 0. 0.]\n",
      " [0. 0. 0. 1. 0. 0. 0. 0. 0. 0.]], shape=(4, 10), dtype=float32)\n"
     ]
    }
   ],
   "source": [
    "y=tf.constant([0,1,2,3])\n",
    "y=tf.one_hot(y,depth=10)\n",
    "print(y)"
   ]
  },
  {
   "cell_type": "markdown",
   "metadata": {},
   "source": [
    "# 非线性模型"
   ]
  },
  {
   "cell_type": "markdown",
   "metadata": {},
   "source": [
    "线性模型表达能力偏弱，我们可以给线性模型嵌套一个线性函数。我们把这个非线性函数称为激活函数，用$\\sigma$表示：\n",
    "$$\n",
    "\\bf{o}=\\sigma(\\bf{Wx}+\\bf{b})\n",
    "$$"
   ]
  },
  {
   "cell_type": "markdown",
   "metadata": {},
   "source": [
    "常见的具体的非线性激活函数，比如Sigmoid函数或者ReLU函数，ReLU函数非常简单，仅仅是在y=x的基础上面截去了x<0的部分，仅仅保留正的输入部分，清零负的输入。虽然简单，却有优良的非线性特性，梯度计算简单，这里通过嵌套ReLU函数将模型转化为非线性模型：\n",
    "$$\n",
    "{\\bf{o}}=ReLU({\\bf{Wx}+\\bf{b}})\n",
    "$$"
   ]
  },
  {
   "cell_type": "markdown",
   "metadata": {},
   "source": [
    "## 表达能力"
   ]
  },
  {
   "cell_type": "markdown",
   "metadata": {},
   "source": [
    "针对模型的表达能力偏弱的问题，我们可以重复堆叠多次变换增加表达能力\n",
    "$$\n",
    "{\\bf{h_1}}=ReLU({\\bf{W_1x}+\\bf{b_1}})\\\\\n",
    "{\\bf{h_2}}=ReLU({\\bf{W_2h_1}+\\bf{b_2}})\\\\\n",
    "{\\bf{o}}={\\bf{W_3h_2}+\\bf{b_3}}\n",
    "$$\n",
    "把第一层神经元的输出作为第二层神经元的输入，最后一层神经元的输出作为模型的输出${\\bf{o}}$"
   ]
  },
  {
   "cell_type": "markdown",
   "metadata": {},
   "source": [
    "由于手动计算导数复杂，因此需要借助自动求导技术"
   ]
  },
  {
   "cell_type": "markdown",
   "metadata": {},
   "source": [
    "## 网络搭建"
   ]
  },
  {
   "cell_type": "markdown",
   "metadata": {},
   "source": [
    " 对于第一层模型来说，他接受的输入${\\bf{x}}\\in R^{784}$$(28\\cdot28=784)$，输出${\\bf{h_1}} \\in R^{256}$设计为长度为 256 的向量，我们不需要显式地编写${\\bf{𝒉_𝟏}} = ReLU({\\bf{𝑾_𝟏𝒙}}+ {\\bf{𝒃_𝟏}})$的计算逻辑，在 TensorFlow 中通过 一行代码即可实现"
   ]
  },
  {
   "cell_type": "code",
   "execution_count": 5,
   "metadata": {},
   "outputs": [
    {
     "data": {
      "text/plain": [
       "<tensorflow.python.keras.layers.core.Dense at 0x20fb87f5988>"
      ]
     },
     "execution_count": 5,
     "metadata": {},
     "output_type": "execute_result"
    }
   ],
   "source": [
    "layers.Dense(256,activation='relu')"
   ]
  },
  {
   "cell_type": "markdown",
   "metadata": {},
   "source": [
    "对于3层的网络我们可以通过快速完成3层网络的搭建，第1层输出节点256，第二层输出节点128，输出层输出10"
   ]
  },
  {
   "cell_type": "code",
   "execution_count": 2,
   "metadata": {},
   "outputs": [],
   "source": [
    "model=keras.Sequential([\n",
    "    layers.Dense(256,activation='relu'),\n",
    "    layers.Dense(128,activation='relu'),\n",
    "    layers.Dense(10)#和上面的表达式对应，所以第三层网络没有relu，所以有负值的输出\n",
    "])"
   ]
  },
  {
   "cell_type": "markdown",
   "metadata": {},
   "source": [
    "## 模型训练"
   ]
  },
  {
   "cell_type": "markdown",
   "metadata": {},
   "source": [
    "得到模型输出$\\sigma$后，通过MSE损失函数计算当前的误差$\\mathcal{L}$"
   ]
  },
  {
   "cell_type": "code",
   "execution_count": 48,
   "metadata": {},
   "outputs": [],
   "source": [
    "with tf.GradientTape() as tape:#构建梯度记录环境\n",
    "    #打平,[b,28,28]-->[b,784]\n",
    "    x=tf.reshape(x,(-1,28*28))\n",
    "    #Step1.得到模型输出Output\n",
    "    #[b,784]->[b,10]\n",
    "    out=model(x)\n",
    "    loss=tf.reduce_sum(tf.square(out-y))/x.shape[0]"
   ]
  },
  {
   "cell_type": "markdown",
   "metadata": {},
   "source": [
    "再利用 TensorFlow 提供的自动求导函数tape.gradient(loss,model.trainable_variables)求出模 型中所有的梯度信息\n",
    "$$\n",
    "\\frac{\\partial{\\mathcal{L}}}{\\partial{\\theta}},\\theta\\in\\{W_1,b_1,W_2,b_2,W_3,b_3\\}\n",
    "$$"
   ]
  },
  {
   "cell_type": "code",
   "execution_count": 49,
   "metadata": {},
   "outputs": [
    {
     "name": "stdout",
     "output_type": "stream",
     "text": [
      "2.2047849\n"
     ]
    }
   ],
   "source": [
    "#Step3.计算参数的梯度\n",
    "grads=tape.gradient(loss,model.trainable_variables)\n",
    "#w'=w-lr*grad,更新参数网络\n",
    "optimizer=optimizers.SGD(learning_rate=0.001)\n",
    "optimizer.apply_gradients(zip(grads,model.trainable_variables))\n",
    "print(loss.numpy())"
   ]
  },
  {
   "cell_type": "code",
   "execution_count": 3,
   "metadata": {},
   "outputs": [],
   "source": [
    "def train_epoch(epoch):\n",
    "    # Step4.loop\n",
    "    for step, (x, y) in enumerate(train_dataset):\n",
    "        with tf.GradientTape() as tape:#构建梯度记录环境\n",
    "            #打平,[b,28,28]-->[b,784]\n",
    "            x=tf.reshape(x,(-1,28*28))\n",
    "            #Step1.得到模型输出Output\n",
    "            #[b,784]->[b,10]\n",
    "            out=model(x)\n",
    "            loss=tf.reduce_sum(tf.square(out-y))/x.shape[0]\n",
    "        # w' = w - lr * grad\n",
    "        grads=tape.gradient(loss,model.trainable_variables)\n",
    "        #w'=w-lr*grad,更新参数网络\n",
    "        optimizer=optimizers.SGD(learning_rate=0.001)\n",
    "        optimizer.apply_gradients(zip(grads,model.trainable_variables))\n",
    "        if step % 100 == 0:\n",
    "            print(epoch, step, 'loss:', loss.numpy())"
   ]
  },
  {
   "cell_type": "code",
   "execution_count": 4,
   "metadata": {},
   "outputs": [],
   "source": [
    "def train():\n",
    "    for epoch in range(60):\n",
    "        train_epoch(epoch)"
   ]
  },
  {
   "cell_type": "code",
   "execution_count": 5,
   "metadata": {},
   "outputs": [
    {
     "name": "stdout",
     "output_type": "stream",
     "text": [
      "0 0 loss: 5.1850233\n",
      "0 100 loss: 1.0177236\n",
      "1 0 loss: 0.9137496\n",
      "1 100 loss: 0.7905963\n",
      "2 0 loss: 0.7397393\n",
      "2 100 loss: 0.69073355\n",
      "3 0 loss: 0.65821636\n",
      "3 100 loss: 0.63227177\n",
      "4 0 loss: 0.6076087\n",
      "4 100 loss: 0.59161043\n",
      "5 0 loss: 0.5717077\n",
      "5 100 loss: 0.5607679\n",
      "6 0 loss: 0.54404736\n",
      "6 100 loss: 0.53585154\n",
      "7 0 loss: 0.52118975\n",
      "7 100 loss: 0.51502055\n",
      "8 0 loss: 0.50194556\n",
      "8 100 loss: 0.4973259\n",
      "9 0 loss: 0.4851991\n",
      "9 100 loss: 0.48177868\n",
      "10 0 loss: 0.4705286\n",
      "10 100 loss: 0.46769357\n",
      "11 0 loss: 0.45751068\n",
      "11 100 loss: 0.45512518\n",
      "12 0 loss: 0.44585454\n",
      "12 100 loss: 0.44370478\n",
      "13 0 loss: 0.4354513\n",
      "13 100 loss: 0.43330032\n",
      "14 0 loss: 0.42601967\n",
      "14 100 loss: 0.42374143\n",
      "15 0 loss: 0.4175372\n",
      "15 100 loss: 0.41496474\n",
      "16 0 loss: 0.4096306\n",
      "16 100 loss: 0.40688446\n",
      "17 0 loss: 0.4021516\n",
      "17 100 loss: 0.39937186\n",
      "18 0 loss: 0.39511353\n",
      "18 100 loss: 0.3924002\n",
      "19 0 loss: 0.3885798\n",
      "19 100 loss: 0.38590145\n",
      "20 0 loss: 0.38240317\n",
      "20 100 loss: 0.37980312\n",
      "21 0 loss: 0.37662542\n",
      "21 100 loss: 0.37409207\n",
      "22 0 loss: 0.37125897\n",
      "22 100 loss: 0.36871785\n",
      "23 0 loss: 0.3661843\n",
      "23 100 loss: 0.3635944\n",
      "24 0 loss: 0.36145067\n",
      "24 100 loss: 0.35875857\n",
      "25 0 loss: 0.35690758\n",
      "25 100 loss: 0.35409898\n",
      "26 0 loss: 0.35254803\n",
      "26 100 loss: 0.34968257\n",
      "27 0 loss: 0.34841132\n",
      "27 100 loss: 0.34546393\n",
      "28 0 loss: 0.34448057\n",
      "28 100 loss: 0.3414091\n",
      "29 0 loss: 0.34068704\n",
      "29 100 loss: 0.33753127\n",
      "30 0 loss: 0.33702797\n",
      "30 100 loss: 0.3337968\n",
      "31 0 loss: 0.33353707\n",
      "31 100 loss: 0.33022034\n",
      "32 0 loss: 0.3301606\n",
      "32 100 loss: 0.32674807\n",
      "33 0 loss: 0.32694232\n",
      "33 100 loss: 0.3234169\n",
      "34 0 loss: 0.32381108\n",
      "34 100 loss: 0.3201998\n",
      "35 0 loss: 0.3208615\n",
      "35 100 loss: 0.3170948\n",
      "36 0 loss: 0.3179856\n",
      "36 100 loss: 0.31406754\n",
      "37 0 loss: 0.3151998\n",
      "37 100 loss: 0.31113464\n",
      "38 0 loss: 0.31252038\n",
      "38 100 loss: 0.30834588\n",
      "39 0 loss: 0.30990702\n",
      "39 100 loss: 0.30560565\n",
      "40 0 loss: 0.30738938\n",
      "40 100 loss: 0.3029562\n",
      "41 0 loss: 0.3049288\n",
      "41 100 loss: 0.30037254\n",
      "42 0 loss: 0.30254206\n",
      "42 100 loss: 0.29786068\n",
      "43 0 loss: 0.30025128\n",
      "43 100 loss: 0.2954474\n",
      "44 0 loss: 0.2980063\n",
      "44 100 loss: 0.29310888\n",
      "45 0 loss: 0.29579622\n",
      "45 100 loss: 0.29082307\n",
      "46 0 loss: 0.2936397\n",
      "46 100 loss: 0.2886269\n",
      "47 0 loss: 0.291533\n",
      "47 100 loss: 0.28644955\n",
      "48 0 loss: 0.2894959\n",
      "48 100 loss: 0.28431213\n",
      "49 0 loss: 0.28749728\n",
      "49 100 loss: 0.28222376\n",
      "50 0 loss: 0.28555524\n",
      "50 100 loss: 0.28018755\n",
      "51 0 loss: 0.28368396\n",
      "51 100 loss: 0.27820766\n",
      "52 0 loss: 0.28182366\n",
      "52 100 loss: 0.2762696\n",
      "53 0 loss: 0.28001565\n",
      "53 100 loss: 0.2743895\n",
      "54 0 loss: 0.27824247\n",
      "54 100 loss: 0.272551\n",
      "55 0 loss: 0.2764987\n",
      "55 100 loss: 0.2707498\n",
      "56 0 loss: 0.27482423\n",
      "56 100 loss: 0.26897562\n",
      "57 0 loss: 0.27318043\n",
      "57 100 loss: 0.2672627\n",
      "58 0 loss: 0.2716011\n",
      "58 100 loss: 0.2656194\n",
      "59 0 loss: 0.27006072\n",
      "59 100 loss: 0.26399502\n"
     ]
    }
   ],
   "source": [
    "train()"
   ]
  },
  {
   "cell_type": "code",
   "execution_count": 7,
   "metadata": {},
   "outputs": [
    {
     "name": "stdout",
     "output_type": "stream",
     "text": [
      "tf.Tensor(\n",
      "[[ 0.01827951 -0.12186617  0.7284543   0.09377631  0.02286693  0.06474251\n",
      "   0.07318782 -0.06055652 -0.00634248 -0.09883674]], shape=(1, 10), dtype=float32)\n",
      "tf.Tensor([2], shape=(1,), dtype=int64)\n"
     ]
    },
    {
     "data": {
      "image/png": "[encoded data removed]",
      "text/plain": [
       "<Figure size 432x288 with 1 Axes>"
      ]
     },
     "metadata": {
      "needs_background": "light"
     },
     "output_type": "display_data"
    }
   ],
   "source": [
    "import matplotlib.pyplot as plt\n",
    "\n",
    "x_valt=2*tf.convert_to_tensor(x_val,dtype=tf.float32)/255-1\n",
    "testx=tf.reshape(x_valt[731],(-1,28*28))\n",
    "result=model(testx)\n",
    "print(result)\n",
    "print(tf.argmax(result,axis=1))\n",
    "imag=x_val[731]\n",
    "plt.imshow(imag)\n",
    "plt.show()"
   ]
  },
  {
   "cell_type": "markdown",
   "metadata": {},
   "source": [
    "# TensorFlow 基础"
   ]
  },
  {
   "cell_type": "markdown",
   "metadata": {},
   "source": [
    "## 数值类型"
   ]
  },
  {
   "cell_type": "code",
   "execution_count": 2,
   "metadata": {},
   "outputs": [
    {
     "data": {
      "text/plain": [
       "(float, tensorflow.python.framework.ops.EagerTensor, True)"
      ]
     },
     "execution_count": 2,
     "metadata": {},
     "output_type": "execute_result"
    }
   ],
   "source": [
    "import tensorflow as tf\n",
    "\n",
    "a=1.2\n",
    "aa=tf.constant(1.2)\n",
    "type(a),type(aa),tf.is_tensor(aa)"
   ]
  },
  {
   "cell_type": "code",
   "execution_count": 4,
   "metadata": {},
   "outputs": [
    {
     "data": {
      "text/plain": [
       "<tf.Tensor: shape=(3,), dtype=float32, numpy=array([1. , 2. , 3.3], dtype=float32)>"
      ]
     },
     "execution_count": 4,
     "metadata": {},
     "output_type": "execute_result"
    }
   ],
   "source": [
    "x=tf.constant([1,2.,3.3])\n",
    "x"
   ]
  },
  {
   "cell_type": "markdown",
   "metadata": {},
   "source": [
    "为了方便导出数据和其他的系统模块，使用numpy()方法"
   ]
  },
  {
   "cell_type": "code",
   "execution_count": 5,
   "metadata": {},
   "outputs": [
    {
     "data": {
      "text/plain": [
       "array([1. , 2. , 3.3], dtype=float32)"
      ]
     },
     "execution_count": 5,
     "metadata": {},
     "output_type": "execute_result"
    }
   ],
   "source": [
    "x.numpy()"
   ]
  },
  {
   "cell_type": "markdown",
   "metadata": {},
   "source": [
    "与标量不同，向量的定义需通过List类型传给tf.constant()"
   ]
  },
  {
   "cell_type": "code",
   "execution_count": 6,
   "metadata": {},
   "outputs": [
    {
     "data": {
      "text/plain": [
       "(<tf.Tensor: shape=(1,), dtype=float32, numpy=array([1.2], dtype=float32)>,\n",
       " TensorShape([1]))"
      ]
     },
     "execution_count": 6,
     "metadata": {},
     "output_type": "execute_result"
    }
   ],
   "source": [
    "a=tf.constant([1.2])\n",
    "a,a.shape"
   ]
  },
  {
   "cell_type": "markdown",
   "metadata": {},
   "source": [
    "定义矩阵时"
   ]
  },
  {
   "cell_type": "code",
   "execution_count": 8,
   "metadata": {},
   "outputs": [
    {
     "data": {
      "text/plain": [
       "(<tf.Tensor: shape=(2, 2), dtype=int32, numpy=\n",
       " array([[1, 2],\n",
       "        [3, 4]])>,\n",
       " TensorShape([2, 2]))"
      ]
     },
     "execution_count": 8,
     "metadata": {},
     "output_type": "execute_result"
    }
   ],
   "source": [
    "a=tf.constant([[1,2],[3,4]])\n",
    "a,a.shape"
   ]
  },
  {
   "cell_type": "markdown",
   "metadata": {},
   "source": [
    "3维的张量可以定义为"
   ]
  },
  {
   "cell_type": "code",
   "execution_count": 11,
   "metadata": {},
   "outputs": [
    {
     "data": {
      "text/plain": [
       "(<tf.Tensor: shape=(2, 2, 2), dtype=int32, numpy=\n",
       " array([[[1, 2],\n",
       "         [3, 4]],\n",
       " \n",
       "        [[5, 6],\n",
       "         [7, 8]]])>,\n",
       " TensorShape([2, 2, 2]))"
      ]
     },
     "execution_count": 11,
     "metadata": {},
     "output_type": "execute_result"
    }
   ],
   "source": [
    "a=tf.constant([[[1,2],[3,4]],[[5,6],[7,8]]])\n",
    "a,a.shape"
   ]
  },
  {
   "cell_type": "markdown",
   "metadata": {},
   "source": [
    "## 字符串布尔型"
   ]
  },
  {
   "cell_type": "code",
   "execution_count": 13,
   "metadata": {},
   "outputs": [
    {
     "data": {
      "text/plain": [
       "<tf.Tensor: shape=(), dtype=string, numpy=b'Hello,Deep Learning.'>"
      ]
     },
     "execution_count": 13,
     "metadata": {},
     "output_type": "execute_result"
    }
   ],
   "source": [
    "a=tf.constant('Hello,Deep Learning.')\n",
    "a"
   ]
  },
  {
   "cell_type": "code",
   "execution_count": 14,
   "metadata": {},
   "outputs": [
    {
     "data": {
      "text/plain": [
       "<tf.Tensor: shape=(), dtype=string, numpy=b'hello,deep learning.'>"
      ]
     },
     "execution_count": 14,
     "metadata": {},
     "output_type": "execute_result"
    }
   ],
   "source": [
    "tf.strings.lower(a)"
   ]
  },
  {
   "cell_type": "code",
   "execution_count": 15,
   "metadata": {},
   "outputs": [
    {
     "data": {
      "text/plain": [
       "<tf.Tensor: shape=(), dtype=bool, numpy=True>"
      ]
     },
     "execution_count": 15,
     "metadata": {},
     "output_type": "execute_result"
    }
   ],
   "source": [
    "a=tf.constant(True)\n",
    "a"
   ]
  },
  {
   "cell_type": "code",
   "execution_count": 16,
   "metadata": {},
   "outputs": [
    {
     "data": {
      "text/plain": [
       "<tf.Tensor: shape=(2,), dtype=bool, numpy=array([ True, False])>"
      ]
     },
     "execution_count": 16,
     "metadata": {},
     "output_type": "execute_result"
    }
   ],
   "source": [
    "a=tf.constant([True,False])\n",
    "a"
   ]
  },
  {
   "cell_type": "markdown",
   "metadata": {},
   "source": [
    "需要注意TensorFlow的布尔类型和python语言的布尔类型不对等：(但是测试结果好像ok)"
   ]
  },
  {
   "cell_type": "code",
   "execution_count": 21,
   "metadata": {},
   "outputs": [
    {
     "name": "stdout",
     "output_type": "stream",
     "text": [
      "tf.Tensor(True, shape=(), dtype=bool)\n"
     ]
    }
   ],
   "source": [
    "a=tf.constant(True)\n",
    "print(a==True)"
   ]
  },
  {
   "cell_type": "markdown",
   "metadata": {},
   "source": [
    "## 数值精度"
   ]
  },
  {
   "cell_type": "code",
   "execution_count": 23,
   "metadata": {},
   "outputs": [
    {
     "name": "stdout",
     "output_type": "stream",
     "text": [
      "tf.Tensor(-13035, shape=(), dtype=int16)\n"
     ]
    },
    {
     "data": {
      "text/plain": [
       "<tf.Tensor: shape=(), dtype=int32, numpy=123456789>"
      ]
     },
     "execution_count": 23,
     "metadata": {},
     "output_type": "execute_result"
    }
   ],
   "source": [
    "print(tf.constant(123456789,dtype=tf.int16))\n",
    "tf.constant(123456789,dtype=tf.int32)"
   ]
  },
  {
   "cell_type": "markdown",
   "metadata": {},
   "source": [
    "保存精度过低时，数据发生了溢出，得到了错误的结果"
   ]
  },
  {
   "cell_type": "code",
   "execution_count": 26,
   "metadata": {},
   "outputs": [
    {
     "name": "stdout",
     "output_type": "stream",
     "text": [
      "3.141592653589793\n"
     ]
    },
    {
     "data": {
      "text/plain": [
       "<tf.Tensor: shape=(), dtype=float32, numpy=3.1415927>"
      ]
     },
     "execution_count": 26,
     "metadata": {},
     "output_type": "execute_result"
    }
   ],
   "source": [
    "import numpy as np\n",
    "print(np.pi)\n",
    "tf.constant(np.pi,dtype=tf.float32)"
   ]
  },
  {
   "cell_type": "markdown",
   "metadata": {},
   "source": [
    "可以采用tf.float64来保存$\\pi$能获得更高的精度"
   ]
  },
  {
   "cell_type": "code",
   "execution_count": 28,
   "metadata": {},
   "outputs": [
    {
     "data": {
      "text/plain": [
       "<tf.Tensor: shape=(), dtype=float64, numpy=3.141592653589793>"
      ]
     },
     "execution_count": 28,
     "metadata": {},
     "output_type": "execute_result"
    }
   ],
   "source": [
    "tf.constant(np.pi,dtype=tf.float64)"
   ]
  },
  {
   "cell_type": "markdown",
   "metadata": {},
   "source": [
    "## 读取精度"
   ]
  },
  {
   "cell_type": "code",
   "execution_count": 31,
   "metadata": {},
   "outputs": [
    {
     "name": "stdout",
     "output_type": "stream",
     "text": [
      "before: <dtype: 'bool'>\n",
      "after: <dtype: 'float32'>\n"
     ]
    }
   ],
   "source": [
    "print('before:',a.dtype)\n",
    "if a.dtype!=tf.float32:\n",
    "    a=tf.cast(a,tf.float32)\n",
    "print('after:',a.dtype)"
   ]
  },
  {
   "cell_type": "markdown",
   "metadata": {},
   "source": [
    "## 类型转换"
   ]
  },
  {
   "cell_type": "code",
   "execution_count": 32,
   "metadata": {},
   "outputs": [
    {
     "data": {
      "text/plain": [
       "<tf.Tensor: shape=(), dtype=float64, numpy=3.140625>"
      ]
     },
     "execution_count": 32,
     "metadata": {},
     "output_type": "execute_result"
    }
   ],
   "source": [
    "a=tf.constant(np.pi,dtype=tf.float16)\n",
    "tf.cast(a,tf.double)"
   ]
  },
  {
   "cell_type": "markdown",
   "metadata": {},
   "source": [
    "高精度向低精度转化时可能发生数据溢出隐患"
   ]
  },
  {
   "cell_type": "code",
   "execution_count": 33,
   "metadata": {},
   "outputs": [
    {
     "data": {
      "text/plain": [
       "<tf.Tensor: shape=(), dtype=int16, numpy=-13035>"
      ]
     },
     "execution_count": 33,
     "metadata": {},
     "output_type": "execute_result"
    }
   ],
   "source": [
    "a=tf.constant(123456789,dtype=tf.int32)\n",
    "tf.cast(a,tf.int16)"
   ]
  },
  {
   "cell_type": "markdown",
   "metadata": {},
   "source": [
    "布尔型和整形之间也可以互相转换"
   ]
  },
  {
   "cell_type": "code",
   "execution_count": 34,
   "metadata": {},
   "outputs": [
    {
     "data": {
      "text/plain": [
       "<tf.Tensor: shape=(2,), dtype=int32, numpy=array([1, 0])>"
      ]
     },
     "execution_count": 34,
     "metadata": {},
     "output_type": "execute_result"
    }
   ],
   "source": [
    "a=tf.constant([True,False])\n",
    "tf.cast(a,tf.int32)"
   ]
  },
  {
   "cell_type": "code",
   "execution_count": 36,
   "metadata": {},
   "outputs": [
    {
     "data": {
      "text/plain": [
       "<tf.Tensor: shape=(4,), dtype=bool, numpy=array([ True, False,  True,  True])>"
      ]
     },
     "execution_count": 36,
     "metadata": {},
     "output_type": "execute_result"
    }
   ],
   "source": [
    "a=tf.constant([-1,0,1,2])\n",
    "tf.cast(a,tf.bool)"
   ]
  },
  {
   "cell_type": "markdown",
   "metadata": {},
   "source": [
    "# TensorFlow常用函数"
   ]
  },
  {
   "cell_type": "markdown",
   "metadata": {},
   "source": [
    "tf.Variable可以将普通的张量转化为待优化的张量，从而可以跟踪相关梯度信息"
   ]
  },
  {
   "cell_type": "code",
   "execution_count": 37,
   "metadata": {},
   "outputs": [
    {
     "data": {
      "text/plain": [
       "('Variable:0', True)"
      ]
     },
     "execution_count": 37,
     "metadata": {},
     "output_type": "execute_result"
    }
   ],
   "source": [
    "a=tf.constant([-1,0,1,2])\n",
    "aa=tf.Variable(a)\n",
    "aa.name,aa.trainable"
   ]
  },
  {
   "cell_type": "markdown",
   "metadata": {},
   "source": [
    "也可以直接使用Variable来创建张量"
   ]
  },
  {
   "cell_type": "code",
   "execution_count": 45,
   "metadata": {},
   "outputs": [
    {
     "data": {
      "text/plain": [
       "<tf.Variable 'Variable:0' shape=(2, 2) dtype=int32, numpy=\n",
       "array([[1, 2],\n",
       "       [3, 4]])>"
      ]
     },
     "execution_count": 45,
     "metadata": {},
     "output_type": "execute_result"
    }
   ],
   "source": [
    "a=tf.Variable([[1,2],[3,4]])\n",
    "a"
   ]
  },
  {
   "cell_type": "markdown",
   "metadata": {},
   "source": [
    "## 数据集构建"
   ]
  },
  {
   "cell_type": "markdown",
   "metadata": {},
   "source": [
    "一般来说，我们需要把数据的特征和标签一一配对后喂入网络"
   ]
  },
  {
   "cell_type": "code",
   "execution_count": 46,
   "metadata": {},
   "outputs": [
    {
     "name": "stdout",
     "output_type": "stream",
     "text": [
      "<TensorSliceDataset shapes: ((), ()), types: (tf.int32, tf.int32)>\n",
      "(<tf.Tensor: shape=(), dtype=int32, numpy=12>, <tf.Tensor: shape=(), dtype=int32, numpy=0>)\n",
      "(<tf.Tensor: shape=(), dtype=int32, numpy=23>, <tf.Tensor: shape=(), dtype=int32, numpy=1>)\n",
      "(<tf.Tensor: shape=(), dtype=int32, numpy=10>, <tf.Tensor: shape=(), dtype=int32, numpy=1>)\n",
      "(<tf.Tensor: shape=(), dtype=int32, numpy=17>, <tf.Tensor: shape=(), dtype=int32, numpy=0>)\n"
     ]
    }
   ],
   "source": [
    "features=tf.constant([12,23,10,17])\n",
    "labels=tf.constant([0,1,1,0])\n",
    "dataset=tf.data.Dataset.from_tensor_slices((features,labels))\n",
    "print(dataset)\n",
    "for element in dataset:\n",
    "    print(element)"
   ]
  },
  {
   "cell_type": "markdown",
   "metadata": {},
   "source": [
    "## 对参数求导数"
   ]
  },
  {
   "cell_type": "code",
   "execution_count": 50,
   "metadata": {},
   "outputs": [
    {
     "name": "stdout",
     "output_type": "stream",
     "text": [
      "tf.Tensor(6.0, shape=(), dtype=float32)\n"
     ]
    }
   ],
   "source": [
    "with tf.GradientTape() as tape:\n",
    "    w=tf.Variable(tf.constant(3.0))\n",
    "    loss=tf.pow(w,2)\n",
    "grad=tape.gradient(loss,w)\n",
    "print(grad)"
   ]
  },
  {
   "cell_type": "markdown",
   "metadata": {},
   "source": [
    "enumerate常在for循环中使用："
   ]
  },
  {
   "cell_type": "code",
   "execution_count": 51,
   "metadata": {},
   "outputs": [
    {
     "name": "stdout",
     "output_type": "stream",
     "text": [
      "0 one\n",
      "1 two\n",
      "2 three\n"
     ]
    }
   ],
   "source": [
    "seq=['one','two','three']\n",
    "for i,element in enumerate(seq):\n",
    "    print(i,element)"
   ]
  },
  {
   "cell_type": "markdown",
   "metadata": {},
   "source": [
    "## one-hot encoding"
   ]
  },
  {
   "cell_type": "markdown",
   "metadata": {},
   "source": [
    "分类问题中，常用独热码做标签，1表示是，0表示不是，取值$[0,1]$之间可以表示是的概率是多少"
   ]
  },
  {
   "cell_type": "markdown",
   "metadata": {},
   "source": [
    "用tf.one_hot函数可以把待转换的数据转化为one-hot形式的数据输出格式为"
   ]
  },
  {
   "cell_type": "markdown",
   "metadata": {},
   "source": [
    "tf.one_hot(带转化数据，depth=几分类)"
   ]
  },
  {
   "cell_type": "code",
   "execution_count": 54,
   "metadata": {},
   "outputs": [
    {
     "name": "stdout",
     "output_type": "stream",
     "text": [
      "tf.Tensor(\n",
      "[[0. 1. 0.]\n",
      " [1. 0. 0.]\n",
      " [0. 0. 1.]], shape=(3, 3), dtype=float32)\n"
     ]
    }
   ],
   "source": [
    "classes=3\n",
    "labels=tf.constant([1,0,2])\n",
    "output=tf.one_hot(labels,depth=classes)\n",
    "print(output)"
   ]
  },
  {
   "cell_type": "markdown",
   "metadata": {},
   "source": [
    "一般来说，需要通过变化来表示属于某一类的概率，变换公式如下，使n个分类的n个输出符合概率分布\n",
    "$$\n",
    "Softmax(y_i)=\\frac{e^{y_i}}{\\sum_{j=0}^ne^{y_i}}\\\\\n",
    "\\forall x, P(X=x)\\in[0,1]\\quad\\sum_xP(X=x)=1\n",
    "$$"
   ]
  },
  {
   "cell_type": "code",
   "execution_count": 55,
   "metadata": {},
   "outputs": [
    {
     "name": "stdout",
     "output_type": "stream",
     "text": [
      "After softmax,y_pro is tf.Tensor([0.25598174 0.69583046 0.04818781], shape=(3,), dtype=float32)\n"
     ]
    }
   ],
   "source": [
    "y=tf.constant([1.01,2.01,-0.66])\n",
    "y_pro=tf.nn.softmax(y)\n",
    "print('After softmax,y_pro is',y_pro)"
   ]
  },
  {
   "cell_type": "markdown",
   "metadata": {},
   "source": [
    "## 参数自更新"
   ]
  },
  {
   "cell_type": "markdown",
   "metadata": {},
   "source": [
    "更新参数的值并返回，但先用tf.Variable定义变量为可训练，下面是自减的例子"
   ]
  },
  {
   "cell_type": "code",
   "execution_count": 56,
   "metadata": {},
   "outputs": [
    {
     "name": "stdout",
     "output_type": "stream",
     "text": [
      "<tf.Variable 'Variable:0' shape=() dtype=int32, numpy=3>\n"
     ]
    }
   ],
   "source": [
    "w=tf.Variable(4)\n",
    "w.assign_sub(1)\n",
    "print(w)"
   ]
  },
  {
   "cell_type": "markdown",
   "metadata": {},
   "source": [
    "## 张量最大值索引号"
   ]
  },
  {
   "cell_type": "code",
   "execution_count": 3,
   "metadata": {},
   "outputs": [
    {
     "name": "stdout",
     "output_type": "stream",
     "text": [
      "[[1 2 3]\n",
      " [2 3 4]\n",
      " [5 4 3]\n",
      " [8 7 2]]\n",
      "tf.Tensor([3 3 1], shape=(3,), dtype=int64)\n",
      "tf.Tensor([2 2 0 0], shape=(4,), dtype=int64)\n"
     ]
    }
   ],
   "source": [
    "import numpy as np\n",
    "\n",
    "test=np.array([[1,2,3],[2,3,4],[5,4,3],[8,7,2]])\n",
    "print(test)\n",
    "print(tf.argmax(test,axis=0))\n",
    "print(tf.argmax(test,axis=1))"
   ]
  },
  {
   "cell_type": "markdown",
   "metadata": {},
   "source": [
    "## 鸢尾花数据集的导入"
   ]
  },
  {
   "cell_type": "code",
   "execution_count": 2,
   "metadata": {},
   "outputs": [
    {
     "name": "stdout",
     "output_type": "stream",
     "text": [
      "x_data_add_index: \n",
      "      花萼长度  花儿宽度  花瓣长度  花瓣宽度\n",
      "0         5.1       3.5       1.4       0.2\n",
      "1         4.9       3.0       1.4       0.2\n",
      "2         4.7       3.2       1.3       0.2\n",
      "3         4.6       3.1       1.5       0.2\n",
      "4         5.0       3.6       1.4       0.2\n",
      "..        ...       ...       ...       ...\n",
      "145       6.7       3.0       5.2       2.3\n",
      "146       6.3       2.5       5.0       1.9\n",
      "147       6.5       3.0       5.2       2.0\n",
      "148       6.2       3.4       5.4       2.3\n",
      "149       5.9       3.0       5.1       1.8\n",
      "\n",
      "[150 rows x 4 columns]\n"
     ]
    }
   ],
   "source": [
    "from sklearn import datasets\n",
    "from pandas import DataFrame\n",
    "import pandas as pd\n",
    "import numpy as np\n",
    "\n",
    "x_data=datasets.load_iris().data\n",
    "y_data=datasets.load_iris().target\n",
    "#为了让数据更好看我们采用pandas进行整理\n",
    "x_data=DataFrame(x_data,columns=['花萼长度','花儿宽度','花瓣长度','花瓣宽度'])\n",
    "pd.set_option('display.unicode.east_asian_width',True)#设置列名对齐\n",
    "print('x_data_add_index: \\n',x_data)"
   ]
  },
  {
   "cell_type": "code",
   "execution_count": 3,
   "metadata": {},
   "outputs": [
    {
     "name": "stdout",
     "output_type": "stream",
     "text": [
      "x_data add a column:\n",
      "      花萼长度  花儿宽度  花瓣长度  花瓣宽度  类别\n",
      "0         5.1       3.5       1.4       0.2     0\n",
      "1         4.9       3.0       1.4       0.2     0\n",
      "2         4.7       3.2       1.3       0.2     0\n",
      "3         4.6       3.1       1.5       0.2     0\n",
      "4         5.0       3.6       1.4       0.2     0\n",
      "..        ...       ...       ...       ...   ...\n",
      "145       6.7       3.0       5.2       2.3     2\n",
      "146       6.3       2.5       5.0       1.9     2\n",
      "147       6.5       3.0       5.2       2.0     2\n",
      "148       6.2       3.4       5.4       2.3     2\n",
      "149       5.9       3.0       5.1       1.8     2\n",
      "\n",
      "[150 rows x 5 columns]\n"
     ]
    }
   ],
   "source": [
    "x_data['类别']=y_data\n",
    "print('x_data add a column:\\n',x_data)"
   ]
  },
  {
   "cell_type": "markdown",
   "metadata": {},
   "source": [
    "## 鸢尾花分类"
   ]
  },
  {
   "cell_type": "markdown",
   "metadata": {},
   "source": [
    "加载数据集，打乱并分为训练集和测试集"
   ]
  },
  {
   "cell_type": "code",
   "execution_count": 1,
   "metadata": {},
   "outputs": [],
   "source": [
    "from sklearn import datasets\n",
    "import numpy as np\n",
    "import matplotlib.pyplot as plt\n",
    "import tensorflow as tf\n",
    "\n",
    "x_data=datasets.load_iris().data\n",
    "y_data=datasets.load_iris().target\n",
    "#打乱数据集\n",
    "np.random.seed(116)\n",
    "np.random.shuffle(x_data)\n",
    "np.random.seed(116)\n",
    "np.random.shuffle(y_data)\n",
    "tf.random.set_seed(116)\n",
    "#数据集分为训练集和测试集\n",
    "x_train=x_data[:-30]\n",
    "y_train=y_data[:-30]\n",
    "x_test=x_data[-30:]\n",
    "y_test=y_data[-30:]"
   ]
  },
  {
   "cell_type": "markdown",
   "metadata": {},
   "source": [
    "配对成输入特征和标签对之前，先对数据类型进行转换，避免因为矩阵相乘时数据类型不一致报错,打包（batch），每次喂入一个batch"
   ]
  },
  {
   "cell_type": "code",
   "execution_count": 2,
   "metadata": {},
   "outputs": [],
   "source": [
    "x_train=tf.cast(x_train,tf.float32)\n",
    "x_test=tf.cast(x_test,tf.float32)\n",
    "train_db=tf.data.Dataset.from_tensor_slices((x_train,y_train)).batch(32)\n",
    "test_db=tf.data.Dataset.from_tensor_slices((x_train,y_train)).batch(32)"
   ]
  },
  {
   "cell_type": "markdown",
   "metadata": {},
   "source": [
    "我们采用一层的神经网络(输入4个特征，输出四种花)，并定义其中所有的可训练参数"
   ]
  },
  {
   "cell_type": "code",
   "execution_count": 3,
   "metadata": {},
   "outputs": [],
   "source": [
    "w1=tf.Variable(tf.random.truncated_normal([4,3],stddev=0.1,seed=1))\n",
    "b1=tf.Variable(tf.random.truncated_normal([3],stddev=0.1,seed=1))"
   ]
  },
  {
   "cell_type": "markdown",
   "metadata": {},
   "source": [
    "定义学习率，记录loss和acc（准确率）使用的list，epoch，loss_all记录四个step生成的4个loss的和（128/batch）"
   ]
  },
  {
   "cell_type": "code",
   "execution_count": 4,
   "metadata": {},
   "outputs": [],
   "source": [
    "lr=0.1\n",
    "train_loss_results=[]\n",
    "test_acc=[]\n",
    "epoch=500\n",
    "loss_all=0"
   ]
  },
  {
   "cell_type": "markdown",
   "metadata": {},
   "source": [
    "下面开始训练"
   ]
  },
  {
   "cell_type": "code",
   "execution_count": 10,
   "metadata": {},
   "outputs": [
    {
     "name": "stdout",
     "output_type": "stream",
     "text": [
      "Epoch 0, loss:0.022661410504952073\n",
      "Test.acc: 0.9666666666666667\n",
      "---------------------------------------\n",
      "Epoch 1, loss:0.022657548310235143\n",
      "Test.acc: 0.9666666666666667\n",
      "---------------------------------------\n",
      "Epoch 2, loss:0.02265369798988104\n",
      "Test.acc: 0.9666666666666667\n",
      "---------------------------------------\n",
      "Epoch 3, loss:0.022649836027994752\n",
      "Test.acc: 0.9666666666666667\n",
      "---------------------------------------\n",
      "Epoch 4, loss:0.022646001307293773\n",
      "Test.acc: 0.9666666666666667\n",
      "---------------------------------------\n",
      "Epoch 5, loss:0.022642147494480014\n",
      "Test.acc: 0.9666666666666667\n",
      "---------------------------------------\n",
      "Epoch 6, loss:0.02263831067830324\n",
      "Test.acc: 0.9666666666666667\n",
      "---------------------------------------\n",
      "Epoch 7, loss:0.02263447572477162\n",
      "Test.acc: 0.9666666666666667\n",
      "---------------------------------------\n",
      "Epoch 8, loss:0.022630640072748065\n",
      "Test.acc: 0.9666666666666667\n",
      "---------------------------------------\n",
      "Epoch 9, loss:0.022626824444159865\n",
      "Test.acc: 0.9666666666666667\n",
      "---------------------------------------\n",
      "Epoch 10, loss:0.02262299507856369\n",
      "Test.acc: 0.9666666666666667\n",
      "---------------------------------------\n",
      "Epoch 11, loss:0.02261917549185455\n",
      "Test.acc: 0.9666666666666667\n",
      "---------------------------------------\n",
      "Epoch 12, loss:0.022615368478000164\n",
      "Test.acc: 0.9666666666666667\n",
      "---------------------------------------\n",
      "Epoch 13, loss:0.022611547959968448\n",
      "Test.acc: 0.9666666666666667\n",
      "---------------------------------------\n",
      "Epoch 14, loss:0.022607748862355947\n",
      "Test.acc: 0.9666666666666667\n",
      "---------------------------------------\n",
      "Epoch 15, loss:0.022603941150009632\n",
      "Test.acc: 0.9666666666666667\n",
      "---------------------------------------\n",
      "Epoch 16, loss:0.022600154858082533\n",
      "Test.acc: 0.9666666666666667\n",
      "---------------------------------------\n",
      "Epoch 17, loss:0.02259635366499424\n",
      "Test.acc: 0.9666666666666667\n",
      "---------------------------------------\n",
      "Epoch 18, loss:0.022592563647776842\n",
      "Test.acc: 0.9666666666666667\n",
      "---------------------------------------\n",
      "Epoch 19, loss:0.022588782478123903\n",
      "Test.acc: 0.9666666666666667\n",
      "---------------------------------------\n",
      "Epoch 20, loss:0.022584994323551655\n",
      "Test.acc: 0.9666666666666667\n",
      "---------------------------------------\n",
      "Epoch 21, loss:0.02258121594786644\n",
      "Test.acc: 0.9666666666666667\n",
      "---------------------------------------\n",
      "Epoch 22, loss:0.022577438969165087\n",
      "Test.acc: 0.9666666666666667\n",
      "---------------------------------------\n",
      "Epoch 23, loss:0.022573674097657204\n",
      "Test.acc: 0.9666666666666667\n",
      "---------------------------------------\n",
      "Epoch 24, loss:0.02256991364993155\n",
      "Test.acc: 0.9666666666666667\n",
      "---------------------------------------\n",
      "Epoch 25, loss:0.02256614505313337\n",
      "Test.acc: 0.9666666666666667\n",
      "---------------------------------------\n",
      "Epoch 26, loss:0.022562386002391577\n",
      "Test.acc: 0.9666666666666667\n",
      "---------------------------------------\n",
      "Epoch 27, loss:0.022558635333552957\n",
      "Test.acc: 0.9666666666666667\n",
      "---------------------------------------\n",
      "Epoch 28, loss:0.02255489001981914\n",
      "Test.acc: 0.9666666666666667\n",
      "---------------------------------------\n",
      "Epoch 29, loss:0.022551138186827302\n",
      "Test.acc: 0.9666666666666667\n",
      "---------------------------------------\n",
      "Epoch 30, loss:0.022547407541424036\n",
      "Test.acc: 0.9666666666666667\n",
      "---------------------------------------\n",
      "Epoch 31, loss:0.022543659433722496\n",
      "Test.acc: 0.9666666666666667\n",
      "---------------------------------------\n",
      "Epoch 32, loss:0.022539931116625667\n",
      "Test.acc: 0.9666666666666667\n",
      "---------------------------------------\n",
      "Epoch 33, loss:0.02253619907423854\n",
      "Test.acc: 0.9666666666666667\n",
      "---------------------------------------\n",
      "Epoch 34, loss:0.02253247215412557\n",
      "Test.acc: 0.9666666666666667\n",
      "---------------------------------------\n",
      "Epoch 35, loss:0.022528750589117408\n",
      "Test.acc: 0.975\n",
      "---------------------------------------\n",
      "Epoch 36, loss:0.02252503577619791\n",
      "Test.acc: 0.975\n",
      "---------------------------------------\n",
      "Epoch 37, loss:0.022521323058754206\n",
      "Test.acc: 0.975\n",
      "---------------------------------------\n",
      "Epoch 38, loss:0.0225176140666008\n",
      "Test.acc: 0.975\n",
      "---------------------------------------\n",
      "Epoch 39, loss:0.022513907635584474\n",
      "Test.acc: 0.975\n",
      "---------------------------------------\n",
      "Epoch 40, loss:0.022510211914777756\n",
      "Test.acc: 0.975\n",
      "---------------------------------------\n",
      "Epoch 41, loss:0.022506504552438855\n",
      "Test.acc: 0.975\n",
      "---------------------------------------\n",
      "Epoch 42, loss:0.022502816282212734\n",
      "Test.acc: 0.975\n",
      "---------------------------------------\n",
      "Epoch 43, loss:0.02249912661500275\n",
      "Test.acc: 0.975\n",
      "---------------------------------------\n",
      "Epoch 44, loss:0.022495434619486332\n",
      "Test.acc: 0.975\n",
      "---------------------------------------\n",
      "Epoch 45, loss:0.022491754731163383\n",
      "Test.acc: 0.975\n",
      "---------------------------------------\n",
      "Epoch 46, loss:0.022488076239824295\n",
      "Test.acc: 0.975\n",
      "---------------------------------------\n",
      "Epoch 47, loss:0.022484405199065804\n",
      "Test.acc: 0.975\n",
      "---------------------------------------\n",
      "Epoch 48, loss:0.022480728570371866\n",
      "Test.acc: 0.975\n",
      "---------------------------------------\n",
      "Epoch 49, loss:0.02247706218622625\n",
      "Test.acc: 0.975\n",
      "---------------------------------------\n",
      "Epoch 50, loss:0.022473401855677366\n",
      "Test.acc: 0.975\n",
      "---------------------------------------\n",
      "Epoch 51, loss:0.022469737101346254\n",
      "Test.acc: 0.975\n",
      "---------------------------------------\n",
      "Epoch 52, loss:0.02246608678251505\n",
      "Test.acc: 0.975\n",
      "---------------------------------------\n",
      "Epoch 53, loss:0.022462432039901614\n",
      "Test.acc: 0.975\n",
      "---------------------------------------\n",
      "Epoch 54, loss:0.02245879382826388\n",
      "Test.acc: 0.975\n",
      "---------------------------------------\n",
      "Epoch 55, loss:0.0224551425781101\n",
      "Test.acc: 0.975\n",
      "---------------------------------------\n",
      "Epoch 56, loss:0.022451501805335283\n",
      "Test.acc: 0.975\n",
      "---------------------------------------\n",
      "Epoch 57, loss:0.022447869647294283\n",
      "Test.acc: 0.975\n",
      "---------------------------------------\n",
      "Epoch 58, loss:0.022444237722083926\n",
      "Test.acc: 0.975\n",
      "---------------------------------------\n",
      "Epoch 59, loss:0.022440605331212282\n",
      "Test.acc: 0.975\n",
      "---------------------------------------\n",
      "Epoch 60, loss:0.022436979226768017\n",
      "Test.acc: 0.975\n",
      "---------------------------------------\n",
      "Epoch 61, loss:0.022433358011767268\n",
      "Test.acc: 0.975\n",
      "---------------------------------------\n",
      "Epoch 62, loss:0.02242973749525845\n",
      "Test.acc: 0.975\n",
      "---------------------------------------\n",
      "Epoch 63, loss:0.022426138864830136\n",
      "Test.acc: 0.975\n",
      "---------------------------------------\n",
      "Epoch 64, loss:0.022422515554353595\n",
      "Test.acc: 0.975\n",
      "---------------------------------------\n",
      "Epoch 65, loss:0.02241891622543335\n",
      "Test.acc: 0.975\n",
      "---------------------------------------\n",
      "Epoch 66, loss:0.022415307350456715\n",
      "Test.acc: 0.975\n",
      "---------------------------------------\n",
      "Epoch 67, loss:0.02241170941852033\n",
      "Test.acc: 0.975\n",
      "---------------------------------------\n",
      "Epoch 68, loss:0.022408118937164545\n",
      "Test.acc: 0.975\n",
      "---------------------------------------\n",
      "Epoch 69, loss:0.022404528222978115\n",
      "Test.acc: 0.975\n",
      "---------------------------------------\n",
      "Epoch 70, loss:0.022400941466912627\n",
      "Test.acc: 0.975\n",
      "---------------------------------------\n",
      "Epoch 71, loss:0.022397360997274518\n",
      "Test.acc: 0.975\n",
      "---------------------------------------\n",
      "Epoch 72, loss:0.02239377098158002\n",
      "Test.acc: 0.975\n",
      "---------------------------------------\n",
      "Epoch 73, loss:0.02239020448178053\n",
      "Test.acc: 0.975\n",
      "---------------------------------------\n",
      "Epoch 74, loss:0.022386622615158558\n",
      "Test.acc: 0.975\n",
      "---------------------------------------\n",
      "Epoch 75, loss:0.022383059607818723\n",
      "Test.acc: 0.975\n",
      "---------------------------------------\n",
      "Epoch 76, loss:0.022379493340849876\n",
      "Test.acc: 0.975\n",
      "---------------------------------------\n",
      "Epoch 77, loss:0.02237593405880034\n",
      "Test.acc: 0.975\n",
      "---------------------------------------\n",
      "Epoch 78, loss:0.022372378036379814\n",
      "Test.acc: 0.975\n",
      "---------------------------------------\n",
      "Epoch 79, loss:0.022368817124515772\n",
      "Test.acc: 0.975\n",
      "---------------------------------------\n",
      "Epoch 80, loss:0.02236526715569198\n",
      "Test.acc: 0.975\n",
      "---------------------------------------\n",
      "Epoch 81, loss:0.022361723706126213\n",
      "Test.acc: 0.975\n",
      "---------------------------------------\n",
      "Epoch 82, loss:0.022358172573149204\n",
      "Test.acc: 0.975\n",
      "---------------------------------------\n",
      "Epoch 83, loss:0.02235464146360755\n",
      "Test.acc: 0.975\n",
      "---------------------------------------\n",
      "Epoch 84, loss:0.02235110756009817\n",
      "Test.acc: 0.975\n",
      "---------------------------------------\n",
      "Epoch 85, loss:0.022347572492435575\n",
      "Test.acc: 0.975\n",
      "---------------------------------------\n",
      "Epoch 86, loss:0.022344046737998724\n",
      "Test.acc: 0.975\n",
      "---------------------------------------\n",
      "Epoch 87, loss:0.022340521216392517\n",
      "Test.acc: 0.975\n",
      "---------------------------------------\n",
      "Epoch 88, loss:0.022336996626108885\n",
      "Test.acc: 0.975\n",
      "---------------------------------------\n"
     ]
    },
    {
     "name": "stdout",
     "output_type": "stream",
     "text": [
      "Epoch 89, loss:0.022333484143018723\n",
      "Test.acc: 0.975\n",
      "---------------------------------------\n",
      "Epoch 90, loss:0.022329967003315687\n",
      "Test.acc: 0.975\n",
      "---------------------------------------\n",
      "Epoch 91, loss:0.02232645731419325\n",
      "Test.acc: 0.975\n",
      "---------------------------------------\n",
      "Epoch 92, loss:0.02232294948771596\n",
      "Test.acc: 0.975\n",
      "---------------------------------------\n",
      "Epoch 93, loss:0.022319449577480555\n",
      "Test.acc: 0.975\n",
      "---------------------------------------\n",
      "Epoch 94, loss:0.022315953392535448\n",
      "Test.acc: 0.975\n",
      "---------------------------------------\n",
      "Epoch 95, loss:0.022312455344945192\n",
      "Test.acc: 0.975\n",
      "---------------------------------------\n",
      "Epoch 96, loss:0.022308964282274246\n",
      "Test.acc: 0.975\n",
      "---------------------------------------\n",
      "Epoch 97, loss:0.022305469727143645\n",
      "Test.acc: 0.975\n",
      "---------------------------------------\n",
      "Epoch 98, loss:0.02230198634788394\n",
      "Test.acc: 0.975\n",
      "---------------------------------------\n",
      "Epoch 99, loss:0.02229850529693067\n",
      "Test.acc: 0.975\n",
      "---------------------------------------\n",
      "Epoch 100, loss:0.022295017959550023\n",
      "Test.acc: 0.975\n",
      "---------------------------------------\n",
      "Epoch 101, loss:0.022291548550128937\n",
      "Test.acc: 0.975\n",
      "---------------------------------------\n",
      "Epoch 102, loss:0.02228807657957077\n",
      "Test.acc: 0.975\n",
      "---------------------------------------\n",
      "Epoch 103, loss:0.022284609265625477\n",
      "Test.acc: 0.975\n",
      "---------------------------------------\n",
      "Epoch 104, loss:0.0222811468411237\n",
      "Test.acc: 0.975\n",
      "---------------------------------------\n",
      "Epoch 105, loss:0.022277683950960636\n",
      "Test.acc: 0.975\n",
      "---------------------------------------\n",
      "Epoch 106, loss:0.022274226183071733\n",
      "Test.acc: 0.975\n",
      "---------------------------------------\n",
      "Epoch 107, loss:0.022270771907642484\n",
      "Test.acc: 0.975\n",
      "---------------------------------------\n",
      "Epoch 108, loss:0.022267320891842246\n",
      "Test.acc: 0.975\n",
      "---------------------------------------\n",
      "Epoch 109, loss:0.022263873601332307\n",
      "Test.acc: 0.975\n",
      "---------------------------------------\n",
      "Epoch 110, loss:0.022260422352701426\n",
      "Test.acc: 0.975\n",
      "---------------------------------------\n",
      "Epoch 111, loss:0.02225698996335268\n",
      "Test.acc: 0.975\n",
      "---------------------------------------\n",
      "Epoch 112, loss:0.022253553848713636\n",
      "Test.acc: 0.975\n",
      "---------------------------------------\n",
      "Epoch 113, loss:0.022250116802752018\n",
      "Test.acc: 0.975\n",
      "---------------------------------------\n",
      "Epoch 114, loss:0.02224668674170971\n",
      "Test.acc: 0.975\n",
      "---------------------------------------\n",
      "Epoch 115, loss:0.02224326180294156\n",
      "Test.acc: 0.975\n",
      "---------------------------------------\n",
      "Epoch 116, loss:0.02223984245210886\n",
      "Test.acc: 0.975\n",
      "---------------------------------------\n",
      "Epoch 117, loss:0.022236421471461654\n",
      "Test.acc: 0.975\n",
      "---------------------------------------\n",
      "Epoch 118, loss:0.022233002353459597\n",
      "Test.acc: 0.975\n",
      "---------------------------------------\n",
      "Epoch 119, loss:0.02222958765923977\n",
      "Test.acc: 0.975\n",
      "---------------------------------------\n",
      "Epoch 120, loss:0.02222617552615702\n",
      "Test.acc: 0.975\n",
      "---------------------------------------\n",
      "Epoch 121, loss:0.022222769679501653\n",
      "Test.acc: 0.975\n",
      "---------------------------------------\n",
      "Epoch 122, loss:0.022219373378902674\n",
      "Test.acc: 0.975\n",
      "---------------------------------------\n",
      "Epoch 123, loss:0.022215974982827902\n",
      "Test.acc: 0.975\n",
      "---------------------------------------\n",
      "Epoch 124, loss:0.022212580777704716\n",
      "Test.acc: 0.975\n",
      "---------------------------------------\n",
      "Epoch 125, loss:0.02220918540842831\n",
      "Test.acc: 0.975\n",
      "---------------------------------------\n",
      "Epoch 126, loss:0.02220579097047448\n",
      "Test.acc: 0.975\n",
      "---------------------------------------\n",
      "Epoch 127, loss:0.02220241678878665\n",
      "Test.acc: 0.975\n",
      "---------------------------------------\n",
      "Epoch 128, loss:0.022199030499905348\n",
      "Test.acc: 0.975\n",
      "---------------------------------------\n",
      "Epoch 129, loss:0.022195648634806275\n",
      "Test.acc: 0.975\n",
      "---------------------------------------\n",
      "Epoch 130, loss:0.022192276315763593\n",
      "Test.acc: 0.975\n",
      "---------------------------------------\n",
      "Epoch 131, loss:0.022188906325027347\n",
      "Test.acc: 0.975\n",
      "---------------------------------------\n",
      "Epoch 132, loss:0.022185529815033078\n",
      "Test.acc: 0.975\n",
      "---------------------------------------\n",
      "Epoch 133, loss:0.022182168904691935\n",
      "Test.acc: 0.975\n",
      "---------------------------------------\n",
      "Epoch 134, loss:0.02217879774980247\n",
      "Test.acc: 0.975\n",
      "---------------------------------------\n",
      "Epoch 135, loss:0.022175445687025785\n",
      "Test.acc: 0.975\n",
      "---------------------------------------\n",
      "Epoch 136, loss:0.022172088734805584\n",
      "Test.acc: 0.975\n",
      "---------------------------------------\n",
      "Epoch 137, loss:0.022168738767504692\n",
      "Test.acc: 0.975\n",
      "---------------------------------------\n",
      "Epoch 138, loss:0.022165389731526375\n",
      "Test.acc: 0.975\n",
      "---------------------------------------\n",
      "Epoch 139, loss:0.022162042558193207\n",
      "Test.acc: 0.975\n",
      "---------------------------------------\n",
      "Epoch 140, loss:0.02215870190411806\n",
      "Test.acc: 0.975\n",
      "---------------------------------------\n",
      "Epoch 141, loss:0.022155363578349352\n",
      "Test.acc: 0.975\n",
      "---------------------------------------\n",
      "Epoch 142, loss:0.022152028512209654\n",
      "Test.acc: 0.975\n",
      "---------------------------------------\n",
      "Epoch 143, loss:0.022148688789457083\n",
      "Test.acc: 0.975\n",
      "---------------------------------------\n",
      "Epoch 144, loss:0.02214536420069635\n",
      "Test.acc: 0.975\n",
      "---------------------------------------\n",
      "Epoch 145, loss:0.022142038214951754\n",
      "Test.acc: 0.975\n",
      "---------------------------------------\n",
      "Epoch 146, loss:0.02213871804997325\n",
      "Test.acc: 0.975\n",
      "---------------------------------------\n",
      "Epoch 147, loss:0.022135399049147964\n",
      "Test.acc: 0.975\n",
      "---------------------------------------\n",
      "Epoch 148, loss:0.022132085636258125\n",
      "Test.acc: 0.975\n",
      "---------------------------------------\n",
      "Epoch 149, loss:0.02212876221165061\n",
      "Test.acc: 0.975\n",
      "---------------------------------------\n",
      "Epoch 150, loss:0.022125458577647805\n",
      "Test.acc: 0.975\n",
      "---------------------------------------\n",
      "Epoch 151, loss:0.022122154477983713\n",
      "Test.acc: 0.975\n",
      "---------------------------------------\n",
      "Epoch 152, loss:0.022118846885859966\n",
      "Test.acc: 0.975\n",
      "---------------------------------------\n",
      "Epoch 153, loss:0.022115549072623253\n",
      "Test.acc: 0.975\n",
      "---------------------------------------\n",
      "Epoch 154, loss:0.022112254053354263\n",
      "Test.acc: 0.975\n",
      "---------------------------------------\n",
      "Epoch 155, loss:0.022108955308794975\n",
      "Test.acc: 0.975\n",
      "---------------------------------------\n",
      "Epoch 156, loss:0.02210566191934049\n",
      "Test.acc: 0.975\n",
      "---------------------------------------\n",
      "Epoch 157, loss:0.022102378075942397\n",
      "Test.acc: 0.975\n",
      "---------------------------------------\n",
      "Epoch 158, loss:0.022099097026512027\n",
      "Test.acc: 0.975\n",
      "---------------------------------------\n",
      "Epoch 159, loss:0.02209581551142037\n",
      "Test.acc: 0.975\n",
      "---------------------------------------\n",
      "Epoch 160, loss:0.022092539118602872\n",
      "Test.acc: 0.975\n",
      "---------------------------------------\n",
      "Epoch 161, loss:0.022089264821261168\n",
      "Test.acc: 0.975\n",
      "---------------------------------------\n",
      "Epoch 162, loss:0.02208599424920976\n",
      "Test.acc: 0.975\n",
      "---------------------------------------\n",
      "Epoch 163, loss:0.02208272647112608\n",
      "Test.acc: 0.975\n",
      "---------------------------------------\n",
      "Epoch 164, loss:0.022079454734921455\n",
      "Test.acc: 0.975\n",
      "---------------------------------------\n",
      "Epoch 165, loss:0.022076203022152185\n",
      "Test.acc: 0.975\n",
      "---------------------------------------\n",
      "Epoch 166, loss:0.022072938038036227\n",
      "Test.acc: 0.975\n",
      "---------------------------------------\n",
      "Epoch 167, loss:0.022069682367146015\n",
      "Test.acc: 0.975\n",
      "---------------------------------------\n",
      "Epoch 168, loss:0.022066433215513825\n",
      "Test.acc: 0.975\n",
      "---------------------------------------\n",
      "Epoch 169, loss:0.02206317870877683\n",
      "Test.acc: 0.975\n",
      "---------------------------------------\n",
      "Epoch 170, loss:0.022059932816773653\n",
      "Test.acc: 0.975\n",
      "---------------------------------------\n",
      "Epoch 171, loss:0.022056682966649532\n",
      "Test.acc: 0.975\n",
      "---------------------------------------\n",
      "Epoch 172, loss:0.02205345337279141\n",
      "Test.acc: 0.975\n",
      "---------------------------------------\n",
      "Epoch 173, loss:0.022050212137401104\n",
      "Test.acc: 0.975\n",
      "---------------------------------------\n",
      "Epoch 174, loss:0.022046978352591395\n",
      "Test.acc: 0.975\n",
      "---------------------------------------\n",
      "Epoch 175, loss:0.02204375248402357\n",
      "Test.acc: 0.975\n",
      "---------------------------------------\n",
      "Epoch 176, loss:0.02204052498564124\n",
      "Test.acc: 0.975\n",
      "---------------------------------------\n",
      "Epoch 177, loss:0.022037306101992726\n",
      "Test.acc: 0.975\n",
      "---------------------------------------\n",
      "Epoch 178, loss:0.022034075343981385\n",
      "Test.acc: 0.975\n",
      "---------------------------------------\n",
      "Epoch 179, loss:0.02203085832297802\n",
      "Test.acc: 0.975\n",
      "---------------------------------------\n",
      "Epoch 180, loss:0.022027643863111734\n",
      "Test.acc: 0.975\n",
      "---------------------------------------\n",
      "Epoch 181, loss:0.02202442637644708\n",
      "Test.acc: 0.975\n",
      "---------------------------------------\n",
      "Epoch 182, loss:0.022021224023774266\n",
      "Test.acc: 0.975\n",
      "---------------------------------------\n"
     ]
    },
    {
     "name": "stdout",
     "output_type": "stream",
     "text": [
      "Epoch 183, loss:0.02201801724731922\n",
      "Test.acc: 0.975\n",
      "---------------------------------------\n",
      "Epoch 184, loss:0.022014812100678682\n",
      "Test.acc: 0.975\n",
      "---------------------------------------\n",
      "Epoch 185, loss:0.022011621156707406\n",
      "Test.acc: 0.975\n",
      "---------------------------------------\n",
      "Epoch 186, loss:0.022008419269695878\n",
      "Test.acc: 0.975\n",
      "---------------------------------------\n",
      "Epoch 187, loss:0.02200522320345044\n",
      "Test.acc: 0.975\n",
      "---------------------------------------\n",
      "Epoch 188, loss:0.02200203645043075\n",
      "Test.acc: 0.975\n",
      "---------------------------------------\n",
      "Epoch 189, loss:0.021998848533257842\n",
      "Test.acc: 0.975\n",
      "---------------------------------------\n",
      "Epoch 190, loss:0.02199565782211721\n",
      "Test.acc: 0.975\n",
      "---------------------------------------\n",
      "Epoch 191, loss:0.021992476424202323\n",
      "Test.acc: 0.975\n",
      "---------------------------------------\n",
      "Epoch 192, loss:0.021989301312714815\n",
      "Test.acc: 0.975\n",
      "---------------------------------------\n",
      "Epoch 193, loss:0.02198612759821117\n",
      "Test.acc: 0.975\n",
      "---------------------------------------\n",
      "Epoch 194, loss:0.021982949459925294\n",
      "Test.acc: 0.975\n",
      "---------------------------------------\n",
      "Epoch 195, loss:0.02197978156618774\n",
      "Test.acc: 0.975\n",
      "---------------------------------------\n",
      "Epoch 196, loss:0.02197660831734538\n",
      "Test.acc: 0.975\n",
      "---------------------------------------\n",
      "Epoch 197, loss:0.021973453694954515\n",
      "Test.acc: 0.975\n",
      "---------------------------------------\n",
      "Epoch 198, loss:0.0219702972099185\n",
      "Test.acc: 0.975\n",
      "---------------------------------------\n",
      "Epoch 199, loss:0.021967126056551933\n",
      "Test.acc: 0.975\n",
      "---------------------------------------\n",
      "Epoch 200, loss:0.021963976556435227\n",
      "Test.acc: 0.975\n",
      "---------------------------------------\n",
      "Epoch 201, loss:0.021960829151794314\n",
      "Test.acc: 0.975\n",
      "---------------------------------------\n",
      "Epoch 202, loss:0.021957674762234092\n",
      "Test.acc: 0.975\n",
      "---------------------------------------\n",
      "Epoch 203, loss:0.021954528987407684\n",
      "Test.acc: 0.975\n",
      "---------------------------------------\n",
      "Epoch 204, loss:0.02195138786919415\n",
      "Test.acc: 0.975\n",
      "---------------------------------------\n",
      "Epoch 205, loss:0.021948246052488685\n",
      "Test.acc: 0.975\n",
      "---------------------------------------\n",
      "Epoch 206, loss:0.021945116808637977\n",
      "Test.acc: 0.975\n",
      "---------------------------------------\n",
      "Epoch 207, loss:0.02194198127835989\n",
      "Test.acc: 0.975\n",
      "---------------------------------------\n",
      "Epoch 208, loss:0.02193884691223502\n",
      "Test.acc: 0.975\n",
      "---------------------------------------\n",
      "Epoch 209, loss:0.021935714641585946\n",
      "Test.acc: 0.975\n",
      "---------------------------------------\n",
      "Epoch 210, loss:0.02193258935585618\n",
      "Test.acc: 0.975\n",
      "---------------------------------------\n",
      "Epoch 211, loss:0.02192947268486023\n",
      "Test.acc: 0.975\n",
      "---------------------------------------\n",
      "Epoch 212, loss:0.02192635554820299\n",
      "Test.acc: 0.975\n",
      "---------------------------------------\n",
      "Epoch 213, loss:0.021923233522102237\n",
      "Test.acc: 0.975\n",
      "---------------------------------------\n",
      "Epoch 214, loss:0.021920115454122424\n",
      "Test.acc: 0.975\n",
      "---------------------------------------\n",
      "Epoch 215, loss:0.021917011821642518\n",
      "Test.acc: 0.975\n",
      "---------------------------------------\n",
      "Epoch 216, loss:0.02191390097141266\n",
      "Test.acc: 0.975\n",
      "---------------------------------------\n",
      "Epoch 217, loss:0.021910799900069833\n",
      "Test.acc: 0.975\n",
      "---------------------------------------\n",
      "Epoch 218, loss:0.021907692775130272\n",
      "Test.acc: 0.975\n",
      "---------------------------------------\n",
      "Epoch 219, loss:0.021904599154368043\n",
      "Test.acc: 0.975\n",
      "---------------------------------------\n",
      "Epoch 220, loss:0.021901501342654228\n",
      "Test.acc: 0.975\n",
      "---------------------------------------\n",
      "Epoch 221, loss:0.021898408653214574\n",
      "Test.acc: 0.975\n",
      "---------------------------------------\n",
      "Epoch 222, loss:0.021895320154726505\n",
      "Test.acc: 0.975\n",
      "---------------------------------------\n",
      "Epoch 223, loss:0.021892227698117495\n",
      "Test.acc: 0.975\n",
      "---------------------------------------\n",
      "Epoch 224, loss:0.02188915037550032\n",
      "Test.acc: 0.975\n",
      "---------------------------------------\n",
      "Epoch 225, loss:0.02188606234267354\n",
      "Test.acc: 0.975\n",
      "---------------------------------------\n",
      "Epoch 226, loss:0.021882982924580574\n",
      "Test.acc: 0.975\n",
      "---------------------------------------\n",
      "Epoch 227, loss:0.021879905136302114\n",
      "Test.acc: 0.975\n",
      "---------------------------------------\n",
      "Epoch 228, loss:0.021876836894080043\n",
      "Test.acc: 0.975\n",
      "---------------------------------------\n",
      "Epoch 229, loss:0.02187376841902733\n",
      "Test.acc: 0.975\n",
      "---------------------------------------\n",
      "Epoch 230, loss:0.021870690397918224\n",
      "Test.acc: 0.975\n",
      "---------------------------------------\n",
      "Epoch 231, loss:0.021867631003260612\n",
      "Test.acc: 0.975\n",
      "---------------------------------------\n",
      "Epoch 232, loss:0.021864571142941713\n",
      "Test.acc: 0.975\n",
      "---------------------------------------\n",
      "Epoch 233, loss:0.021861511282622814\n",
      "Test.acc: 0.975\n",
      "---------------------------------------\n",
      "Epoch 234, loss:0.02185845375061035\n",
      "Test.acc: 0.975\n",
      "---------------------------------------\n",
      "Epoch 235, loss:0.021855395287275314\n",
      "Test.acc: 0.975\n",
      "---------------------------------------\n",
      "Epoch 236, loss:0.021852343576028943\n",
      "Test.acc: 0.975\n",
      "---------------------------------------\n",
      "Epoch 237, loss:0.021849300246685743\n",
      "Test.acc: 0.975\n",
      "---------------------------------------\n",
      "Epoch 238, loss:0.021846248768270016\n",
      "Test.acc: 0.975\n",
      "---------------------------------------\n",
      "Epoch 239, loss:0.021843216381967068\n",
      "Test.acc: 0.975\n",
      "---------------------------------------\n",
      "Epoch 240, loss:0.021840181667357683\n",
      "Test.acc: 0.975\n",
      "---------------------------------------\n",
      "Epoch 241, loss:0.021837140200659633\n",
      "Test.acc: 0.975\n",
      "---------------------------------------\n",
      "Epoch 242, loss:0.021834099432453513\n",
      "Test.acc: 0.975\n",
      "---------------------------------------\n",
      "Epoch 243, loss:0.021831079619005322\n",
      "Test.acc: 0.975\n",
      "---------------------------------------\n",
      "Epoch 244, loss:0.021828047232702374\n",
      "Test.acc: 0.975\n",
      "---------------------------------------\n",
      "Epoch 245, loss:0.021825011586770415\n",
      "Test.acc: 0.975\n",
      "---------------------------------------\n",
      "Epoch 246, loss:0.021821997361257672\n",
      "Test.acc: 0.975\n",
      "---------------------------------------\n",
      "Epoch 247, loss:0.021818977082148194\n",
      "Test.acc: 0.975\n",
      "---------------------------------------\n",
      "Epoch 248, loss:0.021815950516611338\n",
      "Test.acc: 0.975\n",
      "---------------------------------------\n",
      "Epoch 249, loss:0.02181294816546142\n",
      "Test.acc: 0.975\n",
      "---------------------------------------\n",
      "Epoch 250, loss:0.021809930447489023\n",
      "Test.acc: 0.975\n",
      "---------------------------------------\n",
      "Epoch 251, loss:0.02180692134425044\n",
      "Test.acc: 0.975\n",
      "---------------------------------------\n",
      "Epoch 252, loss:0.02180391689762473\n",
      "Test.acc: 0.975\n",
      "---------------------------------------\n",
      "Epoch 253, loss:0.021800919203087687\n",
      "Test.acc: 0.975\n",
      "---------------------------------------\n",
      "Epoch 254, loss:0.02179791289381683\n",
      "Test.acc: 0.975\n",
      "---------------------------------------\n",
      "Epoch 255, loss:0.021794913336634636\n",
      "Test.acc: 0.975\n",
      "---------------------------------------\n",
      "Epoch 256, loss:0.02179192123003304\n",
      "Test.acc: 0.975\n",
      "---------------------------------------\n",
      "Epoch 257, loss:0.021788921440020204\n",
      "Test.acc: 0.975\n",
      "---------------------------------------\n",
      "Epoch 258, loss:0.02178593771532178\n",
      "Test.acc: 0.975\n",
      "---------------------------------------\n",
      "Epoch 259, loss:0.021782946307212114\n",
      "Test.acc: 0.975\n",
      "---------------------------------------\n",
      "Epoch 260, loss:0.021779966773465276\n",
      "Test.acc: 0.975\n",
      "---------------------------------------\n",
      "Epoch 261, loss:0.02177697722800076\n",
      "Test.acc: 0.975\n",
      "---------------------------------------\n",
      "Epoch 262, loss:0.021774005377665162\n",
      "Test.acc: 0.975\n",
      "---------------------------------------\n",
      "Epoch 263, loss:0.021771031199023128\n",
      "Test.acc: 0.975\n",
      "---------------------------------------\n",
      "Epoch 264, loss:0.021768048172816634\n",
      "Test.acc: 0.975\n",
      "---------------------------------------\n",
      "Epoch 265, loss:0.02176508354023099\n",
      "Test.acc: 0.975\n",
      "---------------------------------------\n",
      "Epoch 266, loss:0.021762109827250242\n",
      "Test.acc: 0.975\n",
      "---------------------------------------\n",
      "Epoch 267, loss:0.021759145194664598\n",
      "Test.acc: 0.975\n",
      "---------------------------------------\n",
      "Epoch 268, loss:0.02175618475303054\n",
      "Test.acc: 0.975\n",
      "---------------------------------------\n",
      "Epoch 269, loss:0.02175322105176747\n",
      "Test.acc: 0.975\n",
      "---------------------------------------\n",
      "Epoch 270, loss:0.021750260144472122\n",
      "Test.acc: 0.975\n",
      "---------------------------------------\n",
      "Epoch 271, loss:0.021747311810031533\n",
      "Test.acc: 0.975\n",
      "---------------------------------------\n",
      "Epoch 272, loss:0.021744364639744163\n",
      "Test.acc: 0.975\n",
      "---------------------------------------\n",
      "Epoch 273, loss:0.02174140582792461\n",
      "Test.acc: 0.975\n",
      "---------------------------------------\n"
     ]
    },
    {
     "name": "stdout",
     "output_type": "stream",
     "text": [
      "Epoch 274, loss:0.021738458424806595\n",
      "Test.acc: 0.975\n",
      "---------------------------------------\n",
      "Epoch 275, loss:0.021735518239438534\n",
      "Test.acc: 0.975\n",
      "---------------------------------------\n",
      "Epoch 276, loss:0.0217325733974576\n",
      "Test.acc: 0.975\n",
      "---------------------------------------\n",
      "Epoch 277, loss:0.021729636006057262\n",
      "Test.acc: 0.975\n",
      "---------------------------------------\n",
      "Epoch 278, loss:0.02172670396976173\n",
      "Test.acc: 0.975\n",
      "---------------------------------------\n",
      "Epoch 279, loss:0.021723762853071094\n",
      "Test.acc: 0.975\n",
      "---------------------------------------\n",
      "Epoch 280, loss:0.021720836171880364\n",
      "Test.acc: 0.975\n",
      "---------------------------------------\n",
      "Epoch 281, loss:0.021717899711802602\n",
      "Test.acc: 0.975\n",
      "---------------------------------------\n",
      "Epoch 282, loss:0.021714983973652124\n",
      "Test.acc: 0.975\n",
      "---------------------------------------\n",
      "Epoch 283, loss:0.021712057292461395\n",
      "Test.acc: 0.975\n",
      "---------------------------------------\n",
      "Epoch 284, loss:0.021709123859182\n",
      "Test.acc: 0.975\n",
      "---------------------------------------\n",
      "Epoch 285, loss:0.021706222090870142\n",
      "Test.acc: 0.975\n",
      "---------------------------------------\n",
      "Epoch 286, loss:0.021703302627429366\n",
      "Test.acc: 0.975\n",
      "---------------------------------------\n",
      "Epoch 287, loss:0.021700382931157947\n",
      "Test.acc: 0.975\n",
      "---------------------------------------\n",
      "Epoch 288, loss:0.0216974806971848\n",
      "Test.acc: 0.975\n",
      "---------------------------------------\n",
      "Epoch 289, loss:0.02169455890543759\n",
      "Test.acc: 0.975\n",
      "---------------------------------------\n",
      "Epoch 290, loss:0.021691657369956374\n",
      "Test.acc: 0.975\n",
      "---------------------------------------\n",
      "Epoch 291, loss:0.02168876468203962\n",
      "Test.acc: 0.975\n",
      "---------------------------------------\n",
      "Epoch 292, loss:0.0216858615167439\n",
      "Test.acc: 0.975\n",
      "---------------------------------------\n",
      "Epoch 293, loss:0.02168296044692397\n",
      "Test.acc: 0.975\n",
      "---------------------------------------\n",
      "Epoch 294, loss:0.02168006612919271\n",
      "Test.acc: 0.975\n",
      "---------------------------------------\n",
      "Epoch 295, loss:0.021677170414477587\n",
      "Test.acc: 0.975\n",
      "---------------------------------------\n",
      "Epoch 296, loss:0.021674292627722025\n",
      "Test.acc: 0.975\n",
      "---------------------------------------\n",
      "Epoch 297, loss:0.021671395748853683\n",
      "Test.acc: 0.975\n",
      "---------------------------------------\n",
      "Epoch 298, loss:0.02166851586662233\n",
      "Test.acc: 0.975\n",
      "---------------------------------------\n",
      "Epoch 299, loss:0.021665635518729687\n",
      "Test.acc: 0.975\n",
      "---------------------------------------\n",
      "Epoch 300, loss:0.021662743762135506\n",
      "Test.acc: 0.975\n",
      "---------------------------------------\n",
      "Epoch 301, loss:0.021659878781065345\n",
      "Test.acc: 0.975\n",
      "---------------------------------------\n",
      "Epoch 302, loss:0.021657000994309783\n",
      "Test.acc: 0.975\n",
      "---------------------------------------\n",
      "Epoch 303, loss:0.021654128096997738\n",
      "Test.acc: 0.975\n",
      "---------------------------------------\n",
      "Epoch 304, loss:0.021651262417435646\n",
      "Test.acc: 0.975\n",
      "---------------------------------------\n",
      "Epoch 305, loss:0.021648391615599394\n",
      "Test.acc: 0.975\n",
      "---------------------------------------\n",
      "Epoch 306, loss:0.021645533153787255\n",
      "Test.acc: 0.975\n",
      "---------------------------------------\n",
      "Epoch 307, loss:0.02164266398176551\n",
      "Test.acc: 0.975\n",
      "---------------------------------------\n",
      "Epoch 308, loss:0.021639808313921094\n",
      "Test.acc: 0.975\n",
      "---------------------------------------\n",
      "Epoch 309, loss:0.02163694892078638\n",
      "Test.acc: 0.975\n",
      "---------------------------------------\n",
      "Epoch 310, loss:0.02163408836349845\n",
      "Test.acc: 0.975\n",
      "---------------------------------------\n",
      "Epoch 311, loss:0.02163124899379909\n",
      "Test.acc: 0.975\n",
      "---------------------------------------\n",
      "Epoch 312, loss:0.02162839425727725\n",
      "Test.acc: 0.975\n",
      "---------------------------------------\n",
      "Epoch 313, loss:0.02162554720416665\n",
      "Test.acc: 0.975\n",
      "---------------------------------------\n",
      "Epoch 314, loss:0.021622693864628673\n",
      "Test.acc: 0.975\n",
      "---------------------------------------\n",
      "Epoch 315, loss:0.021619864040985703\n",
      "Test.acc: 0.975\n",
      "---------------------------------------\n",
      "Epoch 316, loss:0.021617020713165402\n",
      "Test.acc: 0.975\n",
      "---------------------------------------\n",
      "Epoch 317, loss:0.02161418180912733\n",
      "Test.acc: 0.975\n",
      "---------------------------------------\n",
      "Epoch 318, loss:0.02161134802736342\n",
      "Test.acc: 0.975\n",
      "---------------------------------------\n",
      "Epoch 319, loss:0.021608520997688174\n",
      "Test.acc: 0.975\n",
      "---------------------------------------\n",
      "Epoch 320, loss:0.02160569210536778\n",
      "Test.acc: 0.975\n",
      "---------------------------------------\n",
      "Epoch 321, loss:0.021602855063974857\n",
      "Test.acc: 0.975\n",
      "---------------------------------------\n",
      "Epoch 322, loss:0.02160003036260605\n",
      "Test.acc: 0.975\n",
      "---------------------------------------\n",
      "Epoch 323, loss:0.02159720566123724\n",
      "Test.acc: 0.975\n",
      "---------------------------------------\n",
      "Epoch 324, loss:0.021594395162537694\n",
      "Test.acc: 0.975\n",
      "---------------------------------------\n",
      "Epoch 325, loss:0.021591576281934977\n",
      "Test.acc: 0.975\n",
      "---------------------------------------\n",
      "Epoch 326, loss:0.02158876322209835\n",
      "Test.acc: 0.975\n",
      "---------------------------------------\n",
      "Epoch 327, loss:0.021585950627923012\n",
      "Test.acc: 0.975\n",
      "---------------------------------------\n",
      "Epoch 328, loss:0.021583136403933167\n",
      "Test.acc: 0.975\n",
      "---------------------------------------\n",
      "Epoch 329, loss:0.021580325439572334\n",
      "Test.acc: 0.975\n",
      "---------------------------------------\n",
      "Epoch 330, loss:0.02157752332277596\n",
      "Test.acc: 0.975\n",
      "---------------------------------------\n",
      "Epoch 331, loss:0.02157472725957632\n",
      "Test.acc: 0.975\n",
      "---------------------------------------\n",
      "Epoch 332, loss:0.021571923047304153\n",
      "Test.acc: 0.975\n",
      "---------------------------------------\n",
      "Epoch 333, loss:0.021569127682596445\n",
      "Test.acc: 0.975\n",
      "---------------------------------------\n",
      "Epoch 334, loss:0.021566328592598438\n",
      "Test.acc: 0.975\n",
      "---------------------------------------\n",
      "Epoch 335, loss:0.02156353904865682\n",
      "Test.acc: 0.975\n",
      "---------------------------------------\n",
      "Epoch 336, loss:0.02156074345111847\n",
      "Test.acc: 0.975\n",
      "---------------------------------------\n",
      "Epoch 337, loss:0.02155795763246715\n",
      "Test.acc: 0.975\n",
      "---------------------------------------\n",
      "Epoch 338, loss:0.021555163897573948\n",
      "Test.acc: 0.975\n",
      "---------------------------------------\n",
      "Epoch 339, loss:0.02155238389968872\n",
      "Test.acc: 0.975\n",
      "---------------------------------------\n",
      "Epoch 340, loss:0.021549604134634137\n",
      "Test.acc: 0.975\n",
      "---------------------------------------\n",
      "Epoch 341, loss:0.021546820178627968\n",
      "Test.acc: 0.975\n",
      "---------------------------------------\n",
      "Epoch 342, loss:0.021544050658121705\n",
      "Test.acc: 0.975\n",
      "---------------------------------------\n",
      "Epoch 343, loss:0.021541276015341282\n",
      "Test.acc: 0.975\n",
      "---------------------------------------\n",
      "Epoch 344, loss:0.02153849950991571\n",
      "Test.acc: 0.975\n",
      "---------------------------------------\n",
      "Epoch 345, loss:0.021535736974328756\n",
      "Test.acc: 0.975\n",
      "---------------------------------------\n",
      "Epoch 346, loss:0.021532967686653137\n",
      "Test.acc: 0.975\n",
      "---------------------------------------\n",
      "Epoch 347, loss:0.021530203986912966\n",
      "Test.acc: 0.975\n",
      "---------------------------------------\n",
      "Epoch 348, loss:0.021527437027543783\n",
      "Test.acc: 0.975\n",
      "---------------------------------------\n",
      "Epoch 349, loss:0.02152468217536807\n",
      "Test.acc: 0.975\n",
      "---------------------------------------\n",
      "Epoch 350, loss:0.021521923132240772\n",
      "Test.acc: 0.975\n",
      "---------------------------------------\n",
      "Epoch 351, loss:0.021519165951758623\n",
      "Test.acc: 0.975\n",
      "---------------------------------------\n",
      "Epoch 352, loss:0.021516418317332864\n",
      "Test.acc: 0.975\n",
      "---------------------------------------\n",
      "Epoch 353, loss:0.021513668820261955\n",
      "Test.acc: 0.975\n",
      "---------------------------------------\n",
      "Epoch 354, loss:0.021510915830731392\n",
      "Test.acc: 0.975\n",
      "---------------------------------------\n",
      "Epoch 355, loss:0.02150817308574915\n",
      "Test.acc: 0.975\n",
      "---------------------------------------\n",
      "Epoch 356, loss:0.021505428245291114\n",
      "Test.acc: 0.975\n",
      "---------------------------------------\n",
      "Epoch 357, loss:0.021502690389752388\n",
      "Test.acc: 0.975\n",
      "---------------------------------------\n",
      "Epoch 358, loss:0.021499956725165248\n",
      "Test.acc: 0.975\n",
      "---------------------------------------\n",
      "Epoch 359, loss:0.02149721374735236\n",
      "Test.acc: 0.975\n",
      "---------------------------------------\n",
      "Epoch 360, loss:0.021494474029168487\n",
      "Test.acc: 0.975\n",
      "---------------------------------------\n",
      "Epoch 361, loss:0.021491752238944173\n",
      "Test.acc: 0.975\n",
      "---------------------------------------\n",
      "Epoch 362, loss:0.021489021368324757\n",
      "Test.acc: 0.975\n",
      "---------------------------------------\n"
     ]
    },
    {
     "name": "stdout",
     "output_type": "stream",
     "text": [
      "Epoch 363, loss:0.021486292826011777\n",
      "Test.acc: 0.975\n",
      "---------------------------------------\n",
      "Epoch 364, loss:0.021483566612005234\n",
      "Test.acc: 0.975\n",
      "---------------------------------------\n",
      "Epoch 365, loss:0.02148083969950676\n",
      "Test.acc: 0.975\n",
      "---------------------------------------\n",
      "Epoch 366, loss:0.021478121867403388\n",
      "Test.acc: 0.975\n",
      "---------------------------------------\n",
      "Epoch 367, loss:0.02147540869191289\n",
      "Test.acc: 0.975\n",
      "---------------------------------------\n",
      "Epoch 368, loss:0.021472694585099816\n",
      "Test.acc: 0.975\n",
      "---------------------------------------\n",
      "Epoch 369, loss:0.021469969768077135\n",
      "Test.acc: 0.975\n",
      "---------------------------------------\n",
      "Epoch 370, loss:0.021467271028086543\n",
      "Test.acc: 0.975\n",
      "---------------------------------------\n",
      "Epoch 371, loss:0.0214645576197654\n",
      "Test.acc: 0.975\n",
      "---------------------------------------\n",
      "Epoch 372, loss:0.02146184747107327\n",
      "Test.acc: 0.975\n",
      "---------------------------------------\n",
      "Epoch 373, loss:0.021459147334098816\n",
      "Test.acc: 0.975\n",
      "---------------------------------------\n",
      "Epoch 374, loss:0.021456440910696983\n",
      "Test.acc: 0.975\n",
      "---------------------------------------\n",
      "Epoch 375, loss:0.021453747525811195\n",
      "Test.acc: 0.975\n",
      "---------------------------------------\n",
      "Epoch 376, loss:0.02145105367526412\n",
      "Test.acc: 0.975\n",
      "---------------------------------------\n",
      "Epoch 377, loss:0.021448350278660655\n",
      "Test.acc: 0.975\n",
      "---------------------------------------\n",
      "Epoch 378, loss:0.021445657592266798\n",
      "Test.acc: 0.975\n",
      "---------------------------------------\n",
      "Epoch 379, loss:0.02144296863116324\n",
      "Test.acc: 0.975\n",
      "---------------------------------------\n",
      "Epoch 380, loss:0.021440279204398394\n",
      "Test.acc: 0.975\n",
      "---------------------------------------\n",
      "Epoch 381, loss:0.021437600953504443\n",
      "Test.acc: 0.975\n",
      "---------------------------------------\n",
      "Epoch 382, loss:0.021434909664094448\n",
      "Test.acc: 0.975\n",
      "---------------------------------------\n",
      "Epoch 383, loss:0.021432229317724705\n",
      "Test.acc: 0.975\n",
      "---------------------------------------\n",
      "Epoch 384, loss:0.021429552463814616\n",
      "Test.acc: 0.975\n",
      "---------------------------------------\n",
      "Epoch 385, loss:0.02142687002196908\n",
      "Test.acc: 0.975\n",
      "---------------------------------------\n",
      "Epoch 386, loss:0.0214242001529783\n",
      "Test.acc: 0.975\n",
      "---------------------------------------\n",
      "Epoch 387, loss:0.02142152562737465\n",
      "Test.acc: 0.975\n",
      "---------------------------------------\n",
      "Epoch 388, loss:0.021418849239125848\n",
      "Test.acc: 0.975\n",
      "---------------------------------------\n",
      "Epoch 389, loss:0.021416185656562448\n",
      "Test.acc: 0.975\n",
      "---------------------------------------\n",
      "Epoch 390, loss:0.02141352230682969\n",
      "Test.acc: 0.975\n",
      "---------------------------------------\n",
      "Epoch 391, loss:0.021410860121250153\n",
      "Test.acc: 0.975\n",
      "---------------------------------------\n",
      "Epoch 392, loss:0.021408200031146407\n",
      "Test.acc: 0.975\n",
      "---------------------------------------\n",
      "Epoch 393, loss:0.021405529463663697\n",
      "Test.acc: 0.975\n",
      "---------------------------------------\n",
      "Epoch 394, loss:0.021402886835858226\n",
      "Test.acc: 0.975\n",
      "---------------------------------------\n",
      "Epoch 395, loss:0.0214002279099077\n",
      "Test.acc: 0.975\n",
      "---------------------------------------\n",
      "Epoch 396, loss:0.02139756246469915\n",
      "Test.acc: 0.975\n",
      "---------------------------------------\n",
      "Epoch 397, loss:0.02139491541311145\n",
      "Test.acc: 0.975\n",
      "---------------------------------------\n",
      "Epoch 398, loss:0.02139227162115276\n",
      "Test.acc: 0.975\n",
      "---------------------------------------\n",
      "Epoch 399, loss:0.02138962014578283\n",
      "Test.acc: 0.975\n",
      "---------------------------------------\n",
      "Epoch 400, loss:0.021386975422501564\n",
      "Test.acc: 0.975\n",
      "---------------------------------------\n",
      "Epoch 401, loss:0.021384334657341242\n",
      "Test.acc: 0.975\n",
      "---------------------------------------\n",
      "Epoch 402, loss:0.021381701342761517\n",
      "Test.acc: 0.975\n",
      "---------------------------------------\n",
      "Epoch 403, loss:0.021379057317972183\n",
      "Test.acc: 0.975\n",
      "---------------------------------------\n",
      "Epoch 404, loss:0.021376437041908503\n",
      "Test.acc: 0.975\n",
      "---------------------------------------\n",
      "Epoch 405, loss:0.021373793249949813\n",
      "Test.acc: 0.975\n",
      "---------------------------------------\n",
      "Epoch 406, loss:0.02137115760706365\n",
      "Test.acc: 0.975\n",
      "---------------------------------------\n",
      "Epoch 407, loss:0.02136853034608066\n",
      "Test.acc: 0.975\n",
      "---------------------------------------\n",
      "Epoch 408, loss:0.0213659037835896\n",
      "Test.acc: 0.975\n",
      "---------------------------------------\n",
      "Epoch 409, loss:0.02136328350752592\n",
      "Test.acc: 0.975\n",
      "---------------------------------------\n",
      "Epoch 410, loss:0.021360659506171942\n",
      "Test.acc: 0.975\n",
      "---------------------------------------\n",
      "Epoch 411, loss:0.021358033176511526\n",
      "Test.acc: 0.975\n",
      "---------------------------------------\n",
      "Epoch 412, loss:0.021355427335947752\n",
      "Test.acc: 0.975\n",
      "---------------------------------------\n",
      "Epoch 413, loss:0.021352801006287336\n",
      "Test.acc: 0.975\n",
      "---------------------------------------\n",
      "Epoch 414, loss:0.02135019050911069\n",
      "Test.acc: 0.975\n",
      "---------------------------------------\n",
      "Epoch 415, loss:0.02134757535532117\n",
      "Test.acc: 0.975\n",
      "---------------------------------------\n",
      "Epoch 416, loss:0.021344973472878337\n",
      "Test.acc: 0.975\n",
      "---------------------------------------\n",
      "Epoch 417, loss:0.021342361578717828\n",
      "Test.acc: 0.975\n",
      "---------------------------------------\n",
      "Epoch 418, loss:0.021339762257412076\n",
      "Test.acc: 0.975\n",
      "---------------------------------------\n",
      "Epoch 419, loss:0.021337145706638694\n",
      "Test.acc: 0.975\n",
      "---------------------------------------\n",
      "Epoch 420, loss:0.02133454568684101\n",
      "Test.acc: 0.975\n",
      "---------------------------------------\n",
      "Epoch 421, loss:0.021331951953470707\n",
      "Test.acc: 0.975\n",
      "---------------------------------------\n",
      "Epoch 422, loss:0.021329355193302035\n",
      "Test.acc: 0.975\n",
      "---------------------------------------\n",
      "Epoch 423, loss:0.0213267607614398\n",
      "Test.acc: 0.975\n",
      "---------------------------------------\n",
      "Epoch 424, loss:0.02132416609674692\n",
      "Test.acc: 0.975\n",
      "---------------------------------------\n",
      "Epoch 425, loss:0.021321583539247513\n",
      "Test.acc: 0.975\n",
      "---------------------------------------\n",
      "Epoch 426, loss:0.021318990970030427\n",
      "Test.acc: 0.975\n",
      "---------------------------------------\n",
      "Epoch 427, loss:0.021316402358934283\n",
      "Test.acc: 0.975\n",
      "---------------------------------------\n",
      "Epoch 428, loss:0.0213138188701123\n",
      "Test.acc: 0.975\n",
      "---------------------------------------\n",
      "Epoch 429, loss:0.021311242831870914\n",
      "Test.acc: 0.975\n",
      "---------------------------------------\n",
      "Epoch 430, loss:0.02130866516381502\n",
      "Test.acc: 0.975\n",
      "---------------------------------------\n",
      "Epoch 431, loss:0.021306080976501107\n",
      "Test.acc: 0.975\n",
      "---------------------------------------\n",
      "Epoch 432, loss:0.021303500048816204\n",
      "Test.acc: 0.975\n",
      "---------------------------------------\n",
      "Epoch 433, loss:0.021300927503034472\n",
      "Test.acc: 0.975\n",
      "---------------------------------------\n",
      "Epoch 434, loss:0.021298362175002694\n",
      "Test.acc: 0.975\n",
      "---------------------------------------\n",
      "Epoch 435, loss:0.02129579009488225\n",
      "Test.acc: 0.975\n",
      "---------------------------------------\n",
      "Epoch 436, loss:0.021293228026479483\n",
      "Test.acc: 0.975\n",
      "---------------------------------------\n",
      "Epoch 437, loss:0.021290653850883245\n",
      "Test.acc: 0.975\n",
      "---------------------------------------\n",
      "Epoch 438, loss:0.021288098767399788\n",
      "Test.acc: 0.975\n",
      "---------------------------------------\n",
      "Epoch 439, loss:0.02128553087823093\n",
      "Test.acc: 0.975\n",
      "---------------------------------------\n",
      "Epoch 440, loss:0.021282974164932966\n",
      "Test.acc: 0.975\n",
      "---------------------------------------\n",
      "Epoch 441, loss:0.021280414424836636\n",
      "Test.acc: 0.975\n",
      "---------------------------------------\n",
      "Epoch 442, loss:0.02127786772325635\n",
      "Test.acc: 0.975\n",
      "---------------------------------------\n",
      "Epoch 443, loss:0.021275305654853582\n",
      "Test.acc: 0.975\n",
      "---------------------------------------\n",
      "Epoch 444, loss:0.02127276104874909\n",
      "Test.acc: 0.975\n",
      "---------------------------------------\n",
      "Epoch 445, loss:0.021270210621878505\n",
      "Test.acc: 0.975\n",
      "---------------------------------------\n",
      "Epoch 446, loss:0.021267668344080448\n",
      "Test.acc: 0.975\n",
      "---------------------------------------\n",
      "Epoch 447, loss:0.021265114890411496\n",
      "Test.acc: 0.975\n",
      "---------------------------------------\n",
      "Epoch 448, loss:0.021262577502056956\n",
      "Test.acc: 0.975\n",
      "---------------------------------------\n",
      "Epoch 449, loss:0.021260035457089543\n",
      "Test.acc: 0.975\n",
      "---------------------------------------\n",
      "Epoch 450, loss:0.021257495507597923\n",
      "Test.acc: 0.975\n",
      "---------------------------------------\n",
      "Epoch 451, loss:0.02125496487133205\n",
      "Test.acc: 0.975\n",
      "---------------------------------------\n",
      "Epoch 452, loss:0.02125242236070335\n"
     ]
    },
    {
     "name": "stdout",
     "output_type": "stream",
     "text": [
      "Test.acc: 0.975\n",
      "---------------------------------------\n",
      "Epoch 453, loss:0.021249890327453613\n",
      "Test.acc: 0.975\n",
      "---------------------------------------\n",
      "Epoch 454, loss:0.021247357595711946\n",
      "Test.acc: 0.975\n",
      "---------------------------------------\n",
      "Epoch 455, loss:0.02124483766965568\n",
      "Test.acc: 0.975\n",
      "---------------------------------------\n",
      "Epoch 456, loss:0.02124231099151075\n",
      "Test.acc: 0.975\n",
      "---------------------------------------\n",
      "Epoch 457, loss:0.0212397831492126\n",
      "Test.acc: 0.975\n",
      "---------------------------------------\n",
      "Epoch 458, loss:0.021237262757495046\n",
      "Test.acc: 0.975\n",
      "---------------------------------------\n",
      "Epoch 459, loss:0.02123473258689046\n",
      "Test.acc: 0.975\n",
      "---------------------------------------\n",
      "Epoch 460, loss:0.021232223603874445\n",
      "Test.acc: 0.975\n",
      "---------------------------------------\n",
      "Epoch 461, loss:0.02122970507480204\n",
      "Test.acc: 0.975\n",
      "---------------------------------------\n",
      "Epoch 462, loss:0.021227189106866717\n",
      "Test.acc: 0.975\n",
      "---------------------------------------\n",
      "Epoch 463, loss:0.021224682917818427\n",
      "Test.acc: 0.975\n",
      "---------------------------------------\n",
      "Epoch 464, loss:0.021222161129117012\n",
      "Test.acc: 0.975\n",
      "---------------------------------------\n",
      "Epoch 465, loss:0.02121965866535902\n",
      "Test.acc: 0.975\n",
      "---------------------------------------\n",
      "Epoch 466, loss:0.021217157365754247\n",
      "Test.acc: 0.975\n",
      "---------------------------------------\n",
      "Epoch 467, loss:0.02121465397067368\n",
      "Test.acc: 0.975\n",
      "---------------------------------------\n",
      "Epoch 468, loss:0.021212144754827023\n",
      "Test.acc: 0.975\n",
      "---------------------------------------\n",
      "Epoch 469, loss:0.02120963577181101\n",
      "Test.acc: 0.975\n",
      "---------------------------------------\n",
      "Epoch 470, loss:0.021207147045060992\n",
      "Test.acc: 0.975\n",
      "---------------------------------------\n",
      "Epoch 471, loss:0.021204650169238448\n",
      "Test.acc: 0.975\n",
      "---------------------------------------\n",
      "Epoch 472, loss:0.021202160511165857\n",
      "Test.acc: 0.975\n",
      "---------------------------------------\n",
      "Epoch 473, loss:0.021199671551585197\n",
      "Test.acc: 0.975\n",
      "---------------------------------------\n",
      "Epoch 474, loss:0.02119717374444008\n",
      "Test.acc: 0.975\n",
      "---------------------------------------\n",
      "Epoch 475, loss:0.021194682456552982\n",
      "Test.acc: 0.975\n",
      "---------------------------------------\n",
      "Epoch 476, loss:0.021192197687923908\n",
      "Test.acc: 0.975\n",
      "---------------------------------------\n",
      "Epoch 477, loss:0.02118971128948033\n",
      "Test.acc: 0.975\n",
      "---------------------------------------\n",
      "Epoch 478, loss:0.021187230944633484\n",
      "Test.acc: 0.975\n",
      "---------------------------------------\n",
      "Epoch 479, loss:0.021184750366955996\n",
      "Test.acc: 0.975\n",
      "---------------------------------------\n",
      "Epoch 480, loss:0.02118227258324623\n",
      "Test.acc: 0.975\n",
      "---------------------------------------\n",
      "Epoch 481, loss:0.021179792005568743\n",
      "Test.acc: 0.975\n",
      "---------------------------------------\n",
      "Epoch 482, loss:0.021177322836592793\n",
      "Test.acc: 0.975\n",
      "---------------------------------------\n",
      "Epoch 483, loss:0.021174848079681396\n",
      "Test.acc: 0.975\n",
      "---------------------------------------\n",
      "Epoch 484, loss:0.021172379376366735\n",
      "Test.acc: 0.975\n",
      "---------------------------------------\n",
      "Epoch 485, loss:0.021169905783608556\n",
      "Test.acc: 0.975\n",
      "---------------------------------------\n",
      "Epoch 486, loss:0.021167442901059985\n",
      "Test.acc: 0.975\n",
      "---------------------------------------\n",
      "Epoch 487, loss:0.021164973499253392\n",
      "Test.acc: 0.975\n",
      "---------------------------------------\n",
      "Epoch 488, loss:0.02116250991821289\n",
      "Test.acc: 0.975\n",
      "---------------------------------------\n",
      "Epoch 489, loss:0.02116005215793848\n",
      "Test.acc: 0.975\n",
      "---------------------------------------\n",
      "Epoch 490, loss:0.021157590206712484\n",
      "Test.acc: 0.975\n",
      "---------------------------------------\n",
      "Epoch 491, loss:0.02115513593889773\n",
      "Test.acc: 0.975\n",
      "---------------------------------------\n",
      "Epoch 492, loss:0.02115268027409911\n",
      "Test.acc: 0.975\n",
      "---------------------------------------\n",
      "Epoch 493, loss:0.02115022041834891\n",
      "Test.acc: 0.975\n",
      "---------------------------------------\n",
      "Epoch 494, loss:0.02114776987582445\n",
      "Test.acc: 0.975\n",
      "---------------------------------------\n",
      "Epoch 495, loss:0.021145330276340246\n",
      "Test.acc: 0.975\n",
      "---------------------------------------\n",
      "Epoch 496, loss:0.021142879966646433\n",
      "Test.acc: 0.975\n",
      "---------------------------------------\n"
     ]
    }
   ],
   "source": [
    "for epoch in range(epoch):\n",
    "    for step,(x_train,y_train)in enumerate(train_db):\n",
    "        with tf.GradientTape()as tape:\n",
    "            y=tf.matmul(x_train,w1)+b1\n",
    "            y=tf.nn.softmax(y)\n",
    "            y_=tf.one_hot(y_train,depth=3)#标签转化为one-hot编码可以和softmax的概率值相减求loss#求均方误差\n",
    "            loss=tf.reduce_mean(tf.square(y_-y))#求均方误差\n",
    "            loss_all=loss_all+loss.numpy()\n",
    "        grads=tape.gradient(loss,[w1,b1])\n",
    "        #梯度下降更新参数\n",
    "        w1.assign_sub(lr*grads[0])\n",
    "        b1.assign_sub(lr*grads[1])\n",
    "    print('Epoch {}, loss:{}'.format(epoch,loss_all/4))#平均每个step的误差\n",
    "    train_loss_results.append(loss_all/4)\n",
    "    loss_all=0#loss_all归零为下一个epoch的loss做准备\n",
    "    \n",
    "    #计算准确率\n",
    "    total_correct,total_number=0,0\n",
    "    for x_test,y_test in test_db:\n",
    "        y=tf.matmul(x_test,w1)+b1\n",
    "        y=tf.nn.softmax(y)\n",
    "        pred=tf.argmax(y,axis=1)\n",
    "        pred=tf.cast(pred,dtype=y_test.dtype)\n",
    "        correct=tf.cast(tf.equal(pred,y_test),dtype=tf.int32)\n",
    "        correct=tf.reduce_sum(correct)\n",
    "        total_correct+=int(correct)\n",
    "        total_number+=x_test.shape[0]\n",
    "    acc=total_correct/total_number\n",
    "    test_acc.append(acc)\n",
    "    print('Test.acc:',acc)\n",
    "    print('---------------------------------------')\n"
   ]
  },
  {
   "cell_type": "markdown",
   "metadata": {},
   "source": [
    "最后一部分用来测试准确率，画图绘制loss和acc曲线"
   ]
  },
  {
   "cell_type": "code",
   "execution_count": 11,
   "metadata": {},
   "outputs": [
    {
     "data": {
      "image/png": "[encoded data removed]",
      "text/plain": [
       "<Figure size 432x288 with 1 Axes>"
      ]
     },
     "metadata": {
      "needs_background": "light"
     },
     "output_type": "display_data"
    }
   ],
   "source": [
    "plt.title('loss and acc function curve')\n",
    "plt.xlabel('epoch')\n",
    "plt.ylabel('loss and epoch')\n",
    "plt.plot(train_loss_results,label='$loss$')\n",
    "plt.plot(test_acc,label='$acc$')\n",
    "plt.legend()\n",
    "plt.show()"
   ]
  },
  {
   "cell_type": "markdown",
   "metadata": {},
   "source": [
    "# TensorFlow 函数扫盲"
   ]
  },
  {
   "cell_type": "markdown",
   "metadata": {},
   "source": [
    "where函数如果条件是真返回A，条件是假返回B。tf.where(条件,A,B)"
   ]
  },
  {
   "cell_type": "code",
   "execution_count": 3,
   "metadata": {},
   "outputs": [
    {
     "name": "stdout",
     "output_type": "stream",
     "text": [
      "tf.Tensor([1 2 3 4 5], shape=(5,), dtype=int32)\n"
     ]
    }
   ],
   "source": [
    "import tensorflow as tf\n",
    "\n",
    "a=tf.constant([1,2,3,1,1])\n",
    "b=tf.constant([0,1,3,4,5])\n",
    "c=tf.where(tf.greater(a,b),a,b)#若a>b,返回a对应位置的元素，否则返回b对应为位置的函数\n",
    "print(c)"
   ]
  },
  {
   "cell_type": "markdown",
   "metadata": {},
   "source": [
    "np.random.RandomState.rand(维度)返回一个$[0,1)$区间的随机数"
   ]
  },
  {
   "cell_type": "code",
   "execution_count": 4,
   "metadata": {},
   "outputs": [
    {
     "name": "stdout",
     "output_type": "stream",
     "text": [
      "a 0.417022004702574\n",
      "b [[7.20324493e-01 1.14374817e-04 3.02332573e-01]\n",
      " [1.46755891e-01 9.23385948e-02 1.86260211e-01]]\n"
     ]
    }
   ],
   "source": [
    "import numpy as np\n",
    "rdm=np.random.RandomState(seed=1)\n",
    "a=rdm.rand()\n",
    "b=rdm.rand(2,3)\n",
    "print('a',a)\n",
    "print('b',b)"
   ]
  },
  {
   "cell_type": "markdown",
   "metadata": {},
   "source": [
    "np.vstack()可以将两个数组按垂直方向叠加np.vstack(数组1,数组2)"
   ]
  },
  {
   "cell_type": "code",
   "execution_count": 5,
   "metadata": {},
   "outputs": [
    {
     "name": "stdout",
     "output_type": "stream",
     "text": [
      "c\n",
      " [[1 2 3]\n",
      " [4 5 6]]\n"
     ]
    }
   ],
   "source": [
    "import numpy as np\n",
    "a=np.array([1,2,3])\n",
    "b=np.array([4,5,6])\n",
    "c=np.vstack((a,b))\n",
    "print('c\\n',c)"
   ]
  },
  {
   "cell_type": "markdown",
   "metadata": {},
   "source": [
    "np.mgrid[起始值：结束值：步长，起始值：结束值：步长，...]返回若干组维度相同的等差数组,两个返回值的维度都相同"
   ]
  },
  {
   "cell_type": "markdown",
   "metadata": {},
   "source": [
    "x.ravel()把x变为一维数组，拉直"
   ]
  },
  {
   "cell_type": "markdown",
   "metadata": {},
   "source": [
    "np.c_[]使返回的间隔数值点配对"
   ]
  },
  {
   "cell_type": "code",
   "execution_count": 8,
   "metadata": {},
   "outputs": [
    {
     "name": "stdout",
     "output_type": "stream",
     "text": [
      "x [[1. 1. 1. 1.]\n",
      " [2. 2. 2. 2.]]\n",
      "y [[2.  2.5 3.  3.5]\n",
      " [2.  2.5 3.  3.5]]\n",
      "grid:\n",
      " [[1.  2. ]\n",
      " [1.  2.5]\n",
      " [1.  3. ]\n",
      " [1.  3.5]\n",
      " [2.  2. ]\n",
      " [2.  2.5]\n",
      " [2.  3. ]\n",
      " [2.  3.5]]\n"
     ]
    }
   ],
   "source": [
    "import numpy as np\n",
    "x,y=np.mgrid[1:3:1,2:4:0.5]\n",
    "grid=np.c_[x.ravel(),y.ravel()]\n",
    "print('x',x)\n",
    "print('y',y)\n",
    "print('grid:\\n',grid)"
   ]
  },
  {
   "cell_type": "markdown",
   "metadata": {},
   "source": [
    "# 神经网络复杂度和激活函数"
   ]
  },
  {
   "cell_type": "markdown",
   "metadata": {},
   "source": [
    "层数为隐藏层+输出层，输入层不做计算，时间复杂度按照乘加运算的次数来决定"
   ]
  },
  {
   "cell_type": "markdown",
   "metadata": {},
   "source": [
    "## 激活函数"
   ]
  },
  {
   "cell_type": "markdown",
   "metadata": {},
   "source": [
    "为了提高多层数神经网络的表达能力，在多层神经网络中加入非线性激活函数"
   ]
  },
  {
   "cell_type": "markdown",
   "metadata": {},
   "source": [
    "### 优秀的激活函数"
   ]
  },
  {
   "cell_type": "markdown",
   "metadata": {},
   "source": [
    "- 非线性：激活函数非线性时，多层神经网络可逼近所有函数\n",
    "- 可微性：优化器大多使用梯度下降更新参数\n",
    "- 单调性：当激活函数单调时，能保证单层网络的损失函数是凸函数\n",
    "- 近似恒等性：$f(x)\\sim x$当参数初始化为随机小值时，神经网络更稳定"
   ]
  },
  {
   "cell_type": "markdown",
   "metadata": {},
   "source": [
    "### 激活函数输出值的范围"
   ]
  },
  {
   "cell_type": "markdown",
   "metadata": {},
   "source": [
    "- 激活函数输出为有限值时，基于梯度的优化方法更稳定\n",
    "- 激活函数输出为无限值时，调校学习率"
   ]
  },
  {
   "cell_type": "markdown",
   "metadata": {},
   "source": [
    "### Sigmoid函数"
   ]
  },
  {
   "cell_type": "markdown",
   "metadata": {},
   "source": [
    "$$\n",
    "f(x)=\\frac{1}{1+e^{-x}}\n",
    "$$"
   ]
  },
  {
   "cell_type": "code",
   "execution_count": 11,
   "metadata": {},
   "outputs": [
    {
     "data": {
      "image/png": "[encoded data removed]",
      "text/plain": [
       "<Figure size 432x288 with 1 Axes>"
      ]
     },
     "metadata": {
      "needs_background": "light"
     },
     "output_type": "display_data"
    }
   ],
   "source": [
    "import numpy as np\n",
    "import matplotlib.pyplot as plt\n",
    "\n",
    "x=np.linspace(-10,10,1000)\n",
    "y=1/(1+np.exp(-x))\n",
    "y1=np.exp(-x)/(1+np.exp(-x))**2\n",
    "plt.plot(x,y,label='original')\n",
    "plt.plot(x,y1,label='diff')\n",
    "plt.show()"
   ]
  },
  {
   "cell_type": "markdown",
   "metadata": {},
   "source": [
    "### 特点"
   ]
  },
  {
   "cell_type": "markdown",
   "metadata": {},
   "source": [
    "- 易造成梯度消失（导数范围在$[0,0.25]$之间，多层链式求导导致导数值变小）\n",
    "- 输出非0均值，收敛慢\n",
    "- 幂运算复杂，训练时间长"
   ]
  },
  {
   "cell_type": "markdown",
   "metadata": {},
   "source": [
    "### Tanh函数"
   ]
  },
  {
   "cell_type": "markdown",
   "metadata": {},
   "source": [
    "$$\n",
    "f(x)=\\frac{1-e^{-2x}}{1+e^{-2x}}\n",
    "$$"
   ]
  },
  {
   "cell_type": "code",
   "execution_count": 12,
   "metadata": {},
   "outputs": [
    {
     "data": {
      "image/png": "[encoded data removed]",
      "text/plain": [
       "<Figure size 432x288 with 1 Axes>"
      ]
     },
     "metadata": {
      "needs_background": "light"
     },
     "output_type": "display_data"
    }
   ],
   "source": [
    "f=(1-np.exp(-2*x))/(1+np.exp(-2*x))\n",
    "plt.plot(x,f)\n",
    "plt.show()"
   ]
  },
  {
   "cell_type": "markdown",
   "metadata": {},
   "source": [
    "### 特点"
   ]
  },
  {
   "cell_type": "markdown",
   "metadata": {},
   "source": [
    "- 输出时0均值\n",
    "- 易造成梯度消失\n",
    "- 幂运算复杂"
   ]
  },
  {
   "cell_type": "markdown",
   "metadata": {},
   "source": [
    "### Relu函数"
   ]
  },
  {
   "cell_type": "markdown",
   "metadata": {},
   "source": [
    "$$\n",
    "f(x)=\\max(x,0)\n",
    "$$"
   ]
  },
  {
   "cell_type": "markdown",
   "metadata": {},
   "source": [
    "tf.nn.relu()"
   ]
  },
  {
   "cell_type": "code",
   "execution_count": 13,
   "metadata": {},
   "outputs": [
    {
     "data": {
      "image/png": "[encoded data removed]",
      "text/plain": [
       "<Figure size 432x288 with 1 Axes>"
      ]
     },
     "metadata": {
      "needs_background": "light"
     },
     "output_type": "display_data"
    }
   ],
   "source": [
    "relu=x*(x>0)\n",
    "plt.plot(x,relu)\n",
    "plt.show()"
   ]
  },
  {
   "cell_type": "markdown",
   "metadata": {},
   "source": [
    "### 优点"
   ]
  },
  {
   "cell_type": "markdown",
   "metadata": {},
   "source": [
    "- 解决了梯度消失问题（在正区间）\n",
    "- 只需要判断是否大于0，计算速度快\n",
    "- 收敛速度快于sigmoid和tanh"
   ]
  },
  {
   "cell_type": "markdown",
   "metadata": {},
   "source": [
    "### 缺点"
   ]
  },
  {
   "cell_type": "markdown",
   "metadata": {},
   "source": [
    "- 输出非0均值，收敛满\n",
    "- 某些神经元可能永远不会被激活，参数永远不能被更新"
   ]
  },
  {
   "cell_type": "markdown",
   "metadata": {},
   "source": [
    "### Leaky Relu函数"
   ]
  },
  {
   "cell_type": "markdown",
   "metadata": {},
   "source": [
    "$$\n",
    "f(x)=\\max(\\alpha x,x)\n",
    "$$"
   ]
  },
  {
   "cell_type": "code",
   "execution_count": 15,
   "metadata": {},
   "outputs": [
    {
     "data": {
      "image/png": "[encoded data removed]",
      "text/plain": [
       "<Figure size 432x288 with 1 Axes>"
      ]
     },
     "metadata": {
      "needs_background": "light"
     },
     "output_type": "display_data"
    }
   ],
   "source": [
    "alpha=0.1\n",
    "leaky_relu=alpha*x*(x<0)+x*(x>0)\n",
    "plt.plot(x,leaky_relu)\n",
    "plt.show()"
   ]
  },
  {
   "cell_type": "markdown",
   "metadata": {},
   "source": [
    "从理论上讲，Leaky Relu有Relu的所有优点，外加不会有Dead Relu问题，并没有完全证明Leaky Relu总是好于Relu"
   ]
  },
  {
   "cell_type": "markdown",
   "metadata": {},
   "source": [
    "### 对于初学者（我）的建议"
   ]
  },
  {
   "cell_type": "markdown",
   "metadata": {},
   "source": [
    "- 首选Relu激活函数\n",
    "- 学习率设置较小值\n",
    "- 输入特征标准化，让输入特征满足以0为均值，1为标准差的正态分布\n",
    "- 初始参数中心化，即让随机生成的参数满足以0为均值，$\\sqrt{\\frac{2}{\\text{当前层输入特征个数}}}$为标准差的正态分布"
   ]
  },
  {
   "cell_type": "markdown",
   "metadata": {},
   "source": [
    "# 损失函数"
   ]
  },
  {
   "cell_type": "markdown",
   "metadata": {},
   "source": [
    "## 均方误差"
   ]
  },
  {
   "cell_type": "markdown",
   "metadata": {},
   "source": [
    "设y是预测值，y_是已知答案\n",
    "$$\n",
    "MSE(y\\_,y)=\\frac{\\sum_{i-1}^n(y-y\\_)^2}{n}\n",
    "$$\n",
    "lose_mse=tf.reduce_mean(tf.square(y-y_))"
   ]
  },
  {
   "cell_type": "markdown",
   "metadata": {},
   "source": [
    "## 自定义损失函数"
   ]
  },
  {
   "cell_type": "markdown",
   "metadata": {},
   "source": [
    "有些情况预测多了和预测少了得到的损失不同，因此我们需要用分段函数来定义损失函数\n",
    "$$\n",
    "f(y\\_,y)=\\begin{cases}\n",
    "profit*(y\\_-y)&y<y\\_\\\\\n",
    "cost*(y-y\\_)&y\\geq y\\_\n",
    "\\end{cases}\n",
    "$$\n",
    "loss_zdy=tf.reduce_sum(tf.where(tf.greater(y,y_),cost*(y-y_),profit*(y_-y)))"
   ]
  },
  {
   "cell_type": "markdown",
   "metadata": {},
   "source": [
    "## 交叉熵损失函数CE（Cross Entropy）"
   ]
  },
  {
   "cell_type": "markdown",
   "metadata": {},
   "source": [
    "表征两个概率分布之间的距离\n",
    "$$\n",
    "H(y\\_,y)=-\\sum y\\_*\\ln y\n",
    "$$\n",
    "tf.losses.categorical_crossentropy(y_,y)\n",
    "<p> tf.nn.softmax_cross_entropy_with_logits(y_,y)\n",
    "<p> 可先将y转化为softmax编码，然后求交叉熵"
   ]
  },
  {
   "cell_type": "markdown",
   "metadata": {},
   "source": [
    "## 缓解过拟合"
   ]
  },
  {
   "cell_type": "markdown",
   "metadata": {},
   "source": [
    "### 正则化缓解过拟合"
   ]
  },
  {
   "cell_type": "markdown",
   "metadata": {},
   "source": [
    "正则化在损失函数中引入模型复杂度指标，给w加权值，弱化了训练数据的噪声\n",
    "$$\n",
    "loss=loss(y,y\\_)+regularizer*loss(w)\n",
    "$$\n",
    "其中loss(w)需要进行正则化，\n",
    "$$\n",
    "loss_{L1}(w)=\\sum_i|w_i|\\\\\n",
    "loss_{L2}(w)=\\sum_i|w_i^2|\n",
    "$$\n",
    "- L1正则化大概率会是很多参数变为零，通过稀疏参数，减少参数数量，降低复杂度\n",
    "- L2正则化会使参数很接近零但不为零，通过减小参数的值的大小降低复杂度"
   ]
  },
  {
   "cell_type": "markdown",
   "metadata": {},
   "source": [
    "代码：loss_regularization=[]\n",
    "<p>loss_regularization.append(tf.nn.l2_loss(w1))\n",
    "<p>loss_regularization.append(tf.nn.l2_loss(w2))\n",
    "<p>loss_regularization=tf.reduce_sum(loss_regularization)\n",
    "<p>loss=loss_mse+0.03*loss_regularization"
   ]
  },
  {
   "cell_type": "code",
   "execution_count": 2,
   "metadata": {},
   "outputs": [
    {
     "name": "stdout",
     "output_type": "stream",
     "text": [
      "[ 1  4  9 16]\n"
     ]
    }
   ],
   "source": [
    "import numpy as np\n",
    "\n",
    "a=np.array([1,2,3,4])\n",
    "b=lambda x:x**2\n",
    "print(b(a))"
   ]
  },
  {
   "cell_type": "code",
   "execution_count": null,
   "metadata": {},
   "outputs": [],
   "source": []
  }
 ],
 "metadata": {
  "kernelspec": {
   "display_name": "Python [conda env:.conda-tensor]",
   "language": "python",
   "name": "conda-env-.conda-tensor-py"
  },
  "language_info": {
   "codemirror_mode": {
    "name": "ipython",
    "version": 3
   },
   "file_extension": ".py",
   "mimetype": "text/x-python",
   "name": "python",
   "nbconvert_exporter": "python",
   "pygments_lexer": "ipython3",
   "version": "3.7.6"
  },
  "varInspector": {
   "cols": {
    "lenName": 16,
    "lenType": 16,
    "lenVar": 40
   },
   "kernels_config": {
    "python": {
     "delete_cmd_postfix": "",
     "delete_cmd_prefix": "del ",
     "library": "var_list.py",
     "varRefreshCmd": "print(var_dic_list())"
    },
    "r": {
     "delete_cmd_postfix": ") ",
     "delete_cmd_prefix": "rm(",
     "library": "var_list.r",
     "varRefreshCmd": "cat(var_dic_list()) "
    }
   },
   "types_to_exclude": [
    "module",
    "function",
    "builtin_function_or_method",
    "instance",
    "_Feature"
   ],
   "window_display": true
  }
 },
 "nbformat": 4,
 "nbformat_minor": 2
}
